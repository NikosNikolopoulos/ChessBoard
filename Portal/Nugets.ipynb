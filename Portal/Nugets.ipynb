{
    "metadata": {
        "authors": [],
        "kernelspec": {
            "display_name": "Formula Framework",
            "language": "C#",
            "name": "C#"
        },
        "language_info": {
            "file_extension": ".cs",
            "mimetype": "text/plain",
            "name": "C#"
        }
    },
    "nbformat": 4,
    "nbformat_minor": 5,
    "cells": [
        {
            "cell_type": "code",
            "source": [
                "#r \"nuget:Systemorph.Activities,1.6.2\"",
                "\n#r \"nuget:Systemorph.Workspace,1.6.2\"",
                "\n#r \"nuget:Systemorph.Reporting,1.6.2\"",
                "\n#r \"nuget:Systemorph.Export,1.6.4\"",
                "\n#r \"nuget:Systemorph.Import,1.6.4\""
            ],
            "metadata": {},
            "execution_count": 0,
            "outputs": []
        },
        {
            "cell_type": "code",
            "source": [
                "using Systemorph.Vertex.Activities;",
                "\nusing Systemorph.Vertex.Workspace;",
                "\nusing Systemorph.Vertex.Pivot.Builder.Interfaces;",
                "\nusing Systemorph.Vertex.Export.Factory;",
                "\nusing Systemorph.Vertex.Export;",
                "\nusing Systemorph.Vertex.Import;",
                "\nusing Systemorph.Vertex.Grid.Model;"
            ],
            "metadata": {},
            "execution_count": 0,
            "outputs": []
        }
    ]
}