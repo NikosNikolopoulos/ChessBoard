{
    "metadata": {
        "authors": [],
        "kernelspec": {
            "display_name": "Formula Framework",
            "language": "C#",
            "name": "C#"
        },
        "language_info": {
            "file_extension": ".cs",
            "mimetype": "text/plain",
            "name": "C#"
        }
    },
    "nbformat": 4,
    "nbformat_minor": 5,
    "cells": [
        {
            "cell_type": "code",
            "source": [
                "#!import \"Nugets\""
            ],
            "metadata": {},
            "execution_count": 0,
            "outputs": []
        },
        {
            "cell_type": "code",
            "source": [
                "#!import \"ChessBoardEngine\""
            ],
            "metadata": {},
            "execution_count": 0,
            "outputs": []
        },
        {
            "cell_type": "code",
            "source": [
                "var cb = new ChessBoard();"
            ],
            "metadata": {},
            "execution_count": 0,
            "outputs": []
        },
        {
            "cell_type": "code",
            "source": [
                "await Workspace.UpdateAsync<ImportExport>(cb.ExportChessBoard(), x => x.SnapshotMode());",
                "\nvar ws = Workspace.Query<ImportExport>().AsEnumerable();",
                "\nvar dataCube = ws.ToDataCube();",
                "\nawait Report.ForObjects(dataCube)",
                "\n      .WithQuerySource(Workspace)",
                "\n      .GroupRowsBy(x => x.Number)",
                "\n      .GroupColumnsBy(x => x.Letter)",
                "\n      .ToTable().ExecuteAsync()"
            ],
            "metadata": {},
            "execution_count": 0,
            "outputs": []
        },
        {
            "cell_type": "code",
            "source": [
                "cb.InitialiseBoard();"
            ],
            "metadata": {},
            "execution_count": 0,
            "outputs": []
        },
        {
            "cell_type": "code",
            "source": [
                "await Workspace.UpdateAsync<ImportExport>(cb.ExportChessBoard(), x => x.SnapshotMode());",
                "\nvar ws = Workspace.Query<ImportExport>().AsEnumerable();",
                "\nvar dataCube = ws.ToDataCube();",
                "\nawait Report.ForObjects(dataCube)",
                "\n      .WithQuerySource(Workspace)",
                "\n      .GroupRowsBy(x => x.Number)",
                "\n      .GroupColumnsBy(x => x.Letter)",
                "\n      .ToTable().ExecuteAsync()"
            ],
            "metadata": {},
            "execution_count": 0,
            "outputs": []
        },
        {
            "cell_type": "code",
            "source": [
                "cb.NextMove(\"A2\",\"A3\");"
            ],
            "metadata": {},
            "execution_count": 0,
            "outputs": []
        },
        {
            "cell_type": "code",
            "source": [
                "await Workspace.UpdateAsync<ImportExport>(cb.ExportChessBoard(), x=>x.SnapshotMode());",
                "\nawait Report.ForObjects(Workspace.Query<ImportExport>().AsEnumerable().ToDataCube())",
                "\n      .WithQuerySource(Workspace)",
                "\n      .GroupRowsBy(x => x.Number)",
                "\n      .GroupColumnsBy(x => x.Letter)",
                "\n      .ToTable()",
                "\n      .ExecuteAsync()"
            ],
            "metadata": {},
            "execution_count": 0,
            "outputs": []
        }
    ]
}