{
    "metadata": {
        "authors": [],
        "id": "XHgZPPDX80uygW9bh7zlVg",
        "kernelspec": {
            "display_name": "Formula Framework",
            "language": "C#",
            "name": "C#"
        },
        "language_info": {
            "file_extension": ".cs",
            "mimetype": "text/plain",
            "name": "C#"
        }
    },
    "nbformat": 4,
    "nbformat_minor": 5,
    "cells": [
        {
            "cell_type": "markdown",
            "source": [
                "<p style=\"font-weight:bold;\"> <span style=\"font-size: 24px\"> <span style=\"color:#0060E2\">Systemorph Cloud</span> </span> </p>",
                "\n<br/><br/>",
                "\n<p style=\"font-weight:bold;\"> <span style=\"font-size: 36px\"> <span style=\"color:#009A50\"> Chess Board </span> </p>",
                "\n<br/><br/>",
                "\n<b>Authors:</b> Andrea Muolo, Nikos Nikolopoulos",
                "\n<br/><br/><br/>"
            ],
            "metadata": {},
            "execution_count": 0,
            "outputs": []
        },
        {
            "cell_type": "code",
            "source": [
                "#r \"nuget:Systemorph.Activities,1.6.5\"",
                "\n#r \"nuget:Systemorph.Workspace,1.6.4\"",
                "\n#r \"nuget:Systemorph.Reporting,1.6.5\"",
                "\n#r \"nuget:Systemorph.Export,1.6.7\"",
                "\n#r \"nuget:Systemorph.Import,1.6.7\"",
                "\n#r \"nuget:Systemorph.Scopes,1.6.5\"",
                "\n#r \"nuget:Systemorph.InteractiveObjects,1.6.5\""
            ],
            "metadata": {},
            "execution_count": 0,
            "outputs": []
        },
        {
            "cell_type": "code",
            "source": [
                "using Microsoft.Extensions.Logging;",
                "\nusing Systemorph.Vertex.Activities;",
                "\nusing Systemorph.Vertex.Workspace;",
                "\nusing Systemorph.Vertex.Pivot.Builder.Interfaces;",
                "\nusing Systemorph.Vertex.Export.Factory;",
                "\nusing Systemorph.Vertex.Export;",
                "\nusing Systemorph.Vertex.Import;",
                "\nusing Systemorph.Vertex.Grid.Model;"
            ],
            "metadata": {},
            "execution_count": 0,
            "outputs": []
        },
        {
            "cell_type": "markdown",
            "source": [
                "# Enum Declaration"
            ],
            "metadata": {},
            "execution_count": 0,
            "outputs": []
        },
        {
            "cell_type": "markdown",
            "source": [
                "## Colors"
            ],
            "metadata": {},
            "execution_count": 0,
            "outputs": []
        },
        {
            "cell_type": "code",
            "source": [
                "public enum Colors {",
                "\n    Black, White, NoColor",
                "\n}"
            ],
            "metadata": {},
            "execution_count": 0,
            "outputs": []
        },
        {
            "cell_type": "markdown",
            "source": [
                "## Messages"
            ],
            "metadata": {},
            "execution_count": 0,
            "outputs": []
        },
        {
            "cell_type": "code",
            "source": [
                "public enum Messages {",
                "\n    NextPlayerColor, WinnerMessage",
                "\n}"
            ],
            "metadata": {},
            "execution_count": 0,
            "outputs": []
        },
        {
            "cell_type": "markdown",
            "source": [
                "## Errors"
            ],
            "metadata": {},
            "execution_count": 0,
            "outputs": []
        },
        {
            "cell_type": "code",
            "source": [
                "public enum Errors {",
                "\n    InvalidLength, InvalidInput, EmptySelection, WrongColor, IllegalMove, InvalidForm",
                "\n}"
            ],
            "metadata": {},
            "execution_count": 0,
            "outputs": []
        },
        {
            "cell_type": "markdown",
            "source": [
                "## Pieces"
            ],
            "metadata": {},
            "execution_count": 0,
            "outputs": []
        },
        {
            "cell_type": "code",
            "source": [
                "public enum Pieces {",
                "\n    Pawn, Rook, Knight, Bishop, Queen, King, NoPiece",
                "\n}"
            ],
            "metadata": {},
            "execution_count": 0,
            "outputs": []
        },
        {
            "cell_type": "markdown",
            "source": [
                "# Utilities"
            ],
            "metadata": {},
            "execution_count": 0,
            "outputs": []
        },
        {
            "cell_type": "markdown",
            "source": [
                "## Mappings"
            ],
            "metadata": {},
            "execution_count": 0,
            "outputs": []
        },
        {
            "cell_type": "code",
            "source": [
                "public static class Mappings",
                "\n{    ",
                "\n    public static int ToNum (string x) {",
                "\n        switch (x) {",
                "\n            case \"A\" : case \"1\" : return 1; case \"B\" : case \"2\" : return 2;",
                "\n            case \"C\" : case \"3\" : return 3; case \"D\" : case \"4\" : return 4; ",
                "\n            case \"E\" : case \"5\" : return 5; case \"F\" : case \"6\" : return 6;",
                "\n            case \"G\" : case \"7\" : return 7; case \"H\" : case \"8\" : return 8;",
                "\n ",
                "\n            default : return 0;",
                "\n        }",
                "\n    }",
                "\n        ",
                "\n    public static string ToLet (int x) {",
                "\n        switch (x) {",
                "\n            case 1 : return \"A\"; case 2 : return \"B\";",
                "\n            case 3 : return \"C\"; case 4 : return \"D\"; ",
                "\n            case 5 : return \"E\"; case 6 : return \"F\";",
                "\n            case 7 : return \"G\"; case 8 : return \"H\";",
                "\n",
                "\n            default : return \"Z\";",
                "\n        }",
                "\n    }",
                "\n}"
            ],
            "metadata": {},
            "execution_count": 0,
            "outputs": []
        },
        {
            "cell_type": "markdown",
            "source": [
                "## Application Message"
            ],
            "metadata": {},
            "execution_count": 0,
            "outputs": []
        },
        {
            "cell_type": "code",
            "source": [
                "public static string GetMessage(Messages message, Colors blackOrWhite = Colors.NoColor)",
                "\n{",
                "\n    switch (message) {",
                "\n        case Messages.NextPlayerColor: return $\"\\n{blackOrWhite}'s turn!\";",
                "\n        case Messages.WinnerMessage: return $\"Congratulations!!! {blackOrWhite}'s win!\";",
                "\n",
                "\n        default: return null;",
                "\n    }",
                "\n}"
            ],
            "metadata": {},
            "execution_count": 0,
            "outputs": []
        },
        {
            "cell_type": "code",
            "source": [
                "public static string GetMessage(Errors error, Colors blackOrWhite = Colors.NoColor)",
                "\n{",
                "\n    switch (error) {",
                "\n        case Errors.InvalidLength:  return \"Input should be 2 characters long.\";",
                "\n        case Errors.InvalidForm:    return \"Input has invalid form.\";",
                "\n        case Errors.InvalidInput:   return \"Input is invalid.\";",
                "\n        case Errors.WrongColor:     return $\"Select a {blackOrWhite} piece.\";",
                "\n        case Errors.EmptySelection: return \"The cell you have selected is empty.\";",
                "\n        case Errors.IllegalMove:    return \"Illegal operation! Please try again.\";",
                "\n",
                "\n        default:                    return \"Error not found.\";",
                "\n    }",
                "\n}"
            ],
            "metadata": {},
            "execution_count": 0,
            "outputs": []
        },
        {
            "cell_type": "markdown",
            "source": [
                "## Get Symbol"
            ],
            "metadata": {},
            "execution_count": 0,
            "outputs": []
        },
        {
            "cell_type": "code",
            "source": [
                "public static string GetSymbol(Pieces kind, Colors color)",
                "\n{",
                "\n    switch (kind, color) {",
                "\n        case (Pieces.Pawn,    Colors.White):   return \"♙\";  case (Pieces.Pawn,      Colors.Black):   return \"♟\";",
                "\n        case (Pieces.Knight,  Colors.White):   return \"♘\";  case (Pieces.Knight,    Colors.Black):   return \"♞\";",
                "\n        case (Pieces.Rook,    Colors.White):   return \"♖\";  case (Pieces.Rook,      Colors.Black):   return \"♜\";",
                "\n        case (Pieces.Bishop,  Colors.White):   return \"♗\";  case (Pieces.Bishop,    Colors.Black):   return \"♝\";",
                "\n        case (Pieces.Queen,   Colors.White):   return \"♕\";  case (Pieces.Queen,     Colors.Black):   return \"♛\";",
                "\n        case (Pieces.King,    Colors.White):   return \"♔\";  case (Pieces.King,      Colors.Black):   return \"♚\";",
                "\n        ",
                "\n        default: return null;",
                "\n    }",
                "\n}"
            ],
            "metadata": {},
            "execution_count": 0,
            "outputs": []
        },
        {
            "cell_type": "markdown",
            "source": [
                "# Data Types"
            ],
            "metadata": {},
            "execution_count": 0,
            "outputs": []
        },
        {
            "cell_type": "markdown",
            "source": [
                "## Coordinate"
            ],
            "metadata": {},
            "execution_count": 0,
            "outputs": []
        },
        {
            "cell_type": "code",
            "source": [
                "public record Coordinate",
                "\n{",
                "\n    public string Letter {get; init;}",
                "\n    public int Number    {get; init;}",
                "\n    ",
                "\n    public static ILogger log;",
                "\n",
                "\n    public Coordinate (string letter, int number) {",
                "\n        Letter = letter;",
                "\n        Number = number;",
                "\n        if(!this.IsValid())",
                "\n            log.LogError(GetMessage(Errors.InvalidInput));",
                "\n    }",
                "\n",
                "\n    public Coordinate (int letter, int number) {",
                "\n        Letter = Mappings.ToLet(letter);",
                "\n        Number = number;",
                "\n        if(!this.IsValid())",
                "\n            log.LogError(GetMessage(Errors.InvalidInput));",
                "\n    }",
                "\n    ",
                "\n    public bool IsValid() => ( Mappings.ToNum(Letter) >= 1 && ",
                "\n                               Mappings.ToNum(Letter) <= 8 && ",
                "\n                               Number >= 1 && Number <= 8 );",
                "\n}"
            ],
            "metadata": {},
            "execution_count": 0,
            "outputs": []
        },
        {
            "cell_type": "code",
            "source": [
                "Coordinate.log = Log;"
            ],
            "metadata": {},
            "execution_count": 0,
            "outputs": []
        },
        {
            "cell_type": "markdown",
            "source": [
                "## Import Export"
            ],
            "metadata": {},
            "execution_count": 0,
            "outputs": []
        },
        {
            "cell_type": "code",
            "source": [
                "public record ImportExport ",
                "\n{",
                "\n    [NotVisible] public string Letter { get; init; }",
                "\n    [NotVisible] public int Number    { get; init; }",
                "\n    [NotVisible] public Pieces Kind   { get; init; }",
                "\n    [NotVisible] public Colors Color  { get; init; }",
                "\n",
                "\n    public string Symbol => GetSymbol(Kind, Color);",
                "\n}"
            ],
            "metadata": {},
            "execution_count": 0,
            "outputs": []
        },
        {
            "cell_type": "markdown",
            "source": [
                "## Piece"
            ],
            "metadata": {},
            "execution_count": 0,
            "outputs": []
        },
        {
            "cell_type": "code",
            "source": [
                "public record Piece (Colors Color, Pieces Kind);"
            ],
            "metadata": {},
            "execution_count": 0,
            "outputs": []
        },
        {
            "cell_type": "markdown",
            "source": [
                "# Checks"
            ],
            "metadata": {},
            "execution_count": 0,
            "outputs": []
        },
        {
            "cell_type": "markdown",
            "source": [
                "## Is Piece in Path"
            ],
            "metadata": {},
            "execution_count": 0,
            "outputs": []
        },
        {
            "cell_type": "code",
            "source": [
                "public static bool IsPieceInPath(this Dictionary<Coordinate, Piece> pieceByCoordinate, Coordinate origin, Coordinate destination)",
                "\n{",
                "\n    var x1 = Mappings.ToNum(origin.Letter);",
                "\n    var x2 = Mappings.ToNum(destination.Letter);",
                "\n    var y1 = origin.Number;",
                "\n    var y2 = destination.Number;",
                "\n",
                "\n    var deltax = x2 - x1; ",
                "\n    var deltay = y2 - y1;",
                "\n",
                "\n    for (var step = 1; step < Math.Max(Math.Abs(deltax), Math.Abs(deltay)); step++) {",
                "\n        var x = x1 + step * Math.Sign(deltax);",
                "\n        var y = y1 + step * Math.Sign(deltay); ",
                "\n        var coordinate = new Coordinate(Mappings.ToLet(x), y);",
                "\n        if(pieceByCoordinate.ContainsKey(coordinate)) return true;",
                "\n    }",
                "\n    return false;",
                "\n}"
            ],
            "metadata": {},
            "execution_count": 0,
            "outputs": []
        },
        {
            "cell_type": "markdown",
            "source": [
                "## Is Legal Move"
            ],
            "metadata": {},
            "execution_count": 0,
            "outputs": []
        },
        {
            "cell_type": "code",
            "source": [
                "public static bool IsLegalMovePiece(this Piece piece, Coordinate origin, Coordinate destination)",
                "\n{",
                "\n    int x1 = Mappings.ToNum(origin.Letter);",
                "\n    int y1 = origin.Number;",
                "\n    int x2 = Mappings.ToNum(destination.Letter);",
                "\n    int y2 = destination.Number;",
                "\n",
                "\n    switch (piece.Kind) {",
                "\n        case Pieces.Pawn:   return ( (piece.Color == Colors.White && (  y2-y1 == 1 || (y2==4 && y1==2 && x1==x2) ) ) ||",
                "\n                                     (piece.Color == Colors.Black && (  y1-y2 == 1 || (y2==5 && y1==7 && x1==x2) ) ) );",
                "\n        case Pieces.Rook:   return ( x2 == x1 || y2 == y1 );",
                "\n        case Pieces.Knight: return ( (Math.Abs(x1 - x2) == 1 && Math.Abs(y1 - y2) == 2) || ",
                "\n                                     (Math.Abs(x1 - x2) == 2 && Math.Abs(y1 - y2) == 1) );",
                "\n        case Pieces.Bishop: return ( Math.Abs(x1 - x2) == Math.Abs(y1 - y2) );",
                "\n        case Pieces.Queen:  return ( (x2 == x1 || y2 == y1) || (Math.Abs(x1 - x2) == Math.Abs(y1 - y2)) );",
                "\n        case Pieces.King:   return ( Math.Abs(y2 - y1) == 1 || Math.Abs(x2 - x1) == 1 );",
                "\n        default: return false;",
                "\n    }",
                "\n}"
            ],
            "metadata": {},
            "execution_count": 0,
            "outputs": []
        },
        {
            "cell_type": "code",
            "source": [
                "public static bool IsLegalMove(this Dictionary<Coordinate, Piece> pieceByCoordinate, Piece piece, Coordinate origin, Coordinate destination)",
                "\n{",
                "\n    bool isPieceInPath = IsPieceInPath(pieceByCoordinate, origin, destination);",
                "\n    bool isPieceAtDestination = pieceByCoordinate.TryGetValue(destination, out var pieceAtDestination);",
                "\n",
                "\n    if (isPieceAtDestination && pieceAtDestination.Color == piece.Color) return false;",
                "\n",
                "\n    int x1 = Mappings.ToNum(origin.Letter);",
                "\n    int x2 = Mappings.ToNum(destination.Letter);",
                "\n    var y1 = origin.Number;",
                "\n    var y2 = destination.Number;",
                "\n",
                "\n    switch (piece.Kind) {",
                "\n        case Pieces.Pawn:   return( isPieceAtDestination && Math.Abs(x2-x1) < 2 && Math.Abs(y2-y1) < 2 ) ||",
                "\n                                  (!isPieceAtDestination && Math.Abs(x2-x1) < 1 ) && ",
                "\n                                   !isPieceInPath;",
                "\n        case Pieces.Rook:   return !isPieceInPath;",
                "\n        case Pieces.Bishop: return !isPieceInPath;",
                "\n        case Pieces.Queen:  return !isPieceInPath;",
                "\n        default:            return true;",
                "\n    }",
                "\n}"
            ],
            "metadata": {},
            "execution_count": 0,
            "outputs": []
        },
        {
            "cell_type": "markdown",
            "source": [
                "# Scopes"
            ],
            "metadata": {},
            "execution_count": 0,
            "outputs": []
        },
        {
            "cell_type": "markdown",
            "source": [
                "## Context"
            ],
            "metadata": {},
            "execution_count": 0,
            "outputs": []
        },
        {
            "cell_type": "code",
            "source": [
                "public interface Context : IMutableScope ",
                "\n{",
                "\n    [NotVisible] IActivityVariable  Activity    {get; set;}",
                "\n    [NotVisible] ILogger            Log         {get; set;}",
                "\n    [NotVisible] IExportVariable    Export      {get; set;}",
                "\n    [NotVisible] IImportVariable    Import      {get; set;}",
                "\n    [NotVisible] IPivotFactory      Report      {get; set;}",
                "\n    [NotVisible] IWorkspaceVariable Workspace   {get; set;}",
                "\n}"
            ],
            "metadata": {},
            "execution_count": 0,
            "outputs": []
        },
        {
            "cell_type": "code",
            "source": [
                "InteractiveObject.State.GetScope<Context>().Activity = Activity;",
                "\nInteractiveObject.State.GetScope<Context>().Log = Log;",
                "\nInteractiveObject.State.GetScope<Context>().Export = Export;",
                "\nInteractiveObject.State.GetScope<Context>().Import = Import;",
                "\nInteractiveObject.State.GetScope<Context>().Report = Report;",
                "\nInteractiveObject.State.GetScope<Context>().Workspace = Workspace;"
            ],
            "metadata": {},
            "execution_count": 0,
            "outputs": []
        },
        {
            "cell_type": "markdown",
            "source": [
                "## Chess Board"
            ],
            "metadata": {},
            "execution_count": 0,
            "outputs": []
        },
        {
            "cell_type": "code",
            "source": [
                "[InitializeScope(nameof(InitializeBoard))]",
                "\npublic interface ChessBoard : IMutableScope ",
                "\n{",
                "\n    private Context Context => GetScope<Context>();",
                "\n    List<IActivityNotification> Logs { get; set; }",
                "\n    Dictionary<Coordinate, Piece> PieceByCoordinate { get; set; }",
                "\n    [DefaultValue(true)] bool IsWhitesTurn { get; set; }",
                "\n",
                "\n    void NextMove(string originInput, string destinationInput) {",
                "\n        Context.Activity.Start();",
                "\n        var origin = new Coordinate(originInput[0].ToString(), Mappings.ToNum(originInput[1].ToString()));",
                "\n        if (!PieceByCoordinate.TryGetValue(origin, out var piece)) ",
                "\n            Context.Log.LogError(GetMessage(Errors.EmptySelection));",
                "\n        else if ( (IsWhitesTurn && piece.Color == Colors.Black) || ",
                "\n                 (!IsWhitesTurn && piece.Color == Colors.White) )",
                "\n            Context.Log.LogError(GetMessage(Errors.WrongColor, IsWhitesTurn ? Colors.White : Colors.Black));",
                "\n",
                "\n        var destination = new Coordinate( destinationInput[0].ToString(), Mappings.ToNum(destinationInput[1].ToString()) );",
                "\n",
                "\n        if (piece!=null && !piece.IsLegalMovePiece(origin, destination)) Context.Log.LogError(GetMessage(Errors.IllegalMove));",
                "\n        if (piece!=null && !IsLegalMove(PieceByCoordinate, piece, origin, destination)) Context.Log.LogError(GetMessage(Errors.IllegalMove));",
                "\n        ",
                "\n        var errors = Context.Activity.Finish().Errors;",
                "\n        Logs = errors.ToHashSet().ToList();",
                "\n        if(errors.Any()) return;",
                "\n",
                "\n        PieceByCoordinate.Remove(origin);",
                "\n        PieceByCoordinate.Remove(destination);",
                "\n        PieceByCoordinate.Add(destination, piece);",
                "\n        PieceByCoordinate = PieceByCoordinate.ToDictionary(kvp => kvp.Key, kvp => kvp.Value);",
                "\n",
                "\n        IsWhitesTurn = !IsWhitesTurn;",
                "\n    }",
                "\n    ",
                "\n    void InitializeBoard() {",
                "\n        PieceByCoordinate = new Dictionary<Coordinate, Piece>();",
                "\n        IsWhitesTurn = true;",
                "\n        Enumerable.Range(1, 8).ToList().ForEach( column => {",
                "\n            new[]{1,2,7,8}.ToList().ForEach( row => {",
                "\n                var color = row < 5? Colors.White : Colors.Black;",
                "\n                var piece = (row, column) switch {",
                "\n                    (2 or 7, _) => new Piece(color, Pieces.Pawn),",
                "\n                    (_, 1 or 8) => new Piece(color, Pieces.Rook),",
                "\n                    (_, 2 or 7) => new Piece(color, Pieces.Knight),",
                "\n                    (_, 3 or 6) => new Piece(color, Pieces.Bishop),",
                "\n                    (_, 4     ) => new Piece(color, Pieces.Queen),",
                "\n                    (_, 5     ) => new Piece(color, Pieces.King),",
                "\n                    (_,      _) => null",
                "\n                };",
                "\n                PieceByCoordinate[new Coordinate(column, row)] = piece;",
                "\n            } );",
                "\n        } );",
                "\n    }",
                "\n}"
            ],
            "metadata": {},
            "execution_count": 0,
            "outputs": []
        },
        {
            "cell_type": "markdown",
            "source": [
                "## Input Output"
            ],
            "metadata": {},
            "execution_count": 0,
            "outputs": []
        },
        {
            "cell_type": "code",
            "source": [
                "public interface IO : IMutableScope ",
                "\n{",
                "\n    [NotVisible] ChessBoard Board => GetScope<ChessBoard>();",
                "\n    ",
                "\n    void Resume (List<ImportExport> items) {",
                "\n        Board.PieceByCoordinate.Clear();",
                "\n        items.ForEach(item => Board.PieceByCoordinate.Add(new Coordinate(item.Letter, item.Number), new Piece(item.Color, item.Kind)) );",
                "\n    }",
                "\n    ",
                "\n    List<ImportExport> PiecesList () => Board.PieceByCoordinate.Select(x => ",
                "\n                                        new ImportExport { Letter = x.Key.Letter, ",
                "\n                                                           Number = x.Key.Number, ",
                "\n                                                           Kind = x.Value.Kind, ",
                "\n                                                           Color = x.Value.Color}).ToList();",
                "\n",
                "\n    List<ImportExport> PiecesListWithEmptyCells () {",
                "\n        var items = PiecesList();",
                "\n        Enumerable.Range(1, 8).ToList().ForEach( i => {",
                "\n            Enumerable.Range(1, 8).ToList().ForEach( j => {",
                "\n                var coordinate = new Coordinate(i, j);",
                "\n                if(!items.Any(x => x.Letter == coordinate.Letter && x.Number == coordinate.Number))",
                "\n                    items.Add(new ImportExport { Letter = coordinate.Letter, ",
                "\n                                                 Number = coordinate.Number, ",
                "\n                                                 Kind = Pieces.NoPiece, ",
                "\n                                                 Color = Colors.NoColor }); }); });",
                "\n        return items.ToList();",
                "\n    }",
                "\n}"
            ],
            "metadata": {},
            "execution_count": 0,
            "outputs": []
        },
        {
            "cell_type": "markdown",
            "source": [
                "## Application"
            ],
            "metadata": {},
            "execution_count": 0,
            "outputs": []
        },
        {
            "cell_type": "code",
            "source": [
                "public interface Application : IMutableScope ",
                "\n{",
                "\n    private IO IO => GetScope<IO>();",
                "\n    private Context Context => GetScope<Context>(); ",
                "\n",
                "\n    Colors Turn => IO.Board.IsWhitesTurn ? Colors.White : Colors.Black;",
                "\n",
                "\n    [DropdownValues(\"\",\"New Game\")] [DefaultValue(\"\")] string Controls { ",
                "\n        get => \"\"; ",
                "\n        set { if(value == \"New Game\") {",
                "\n                IO.Board.InitializeBoard();",
                "\n                ResetAllDropDownValues(); } } ",
                "\n    }",
                "\n",
                "\n    [DropdownValues(\"\",\"Play\")] [DefaultValue(\"\")] string Action { ",
                "\n        get => \"\"; ",
                "\n        set { if(value == \"Play\") {",
                "\n                IO.Board.NextMove(OriginCoordinates, DestinationLetter + DestinationNumber);",
                "\n                ResetAllDropDownValues(); } }",
                "\n    }",
                "\n    ",
                "\n    [DropdownMethod(nameof(GetOriginCoordinatesOptions))] string OriginCoordinates { get; set; }",
                "\n    [DropdownValues(\"\",\"A\",\"B\",\"C\",\"D\",\"E\",\"F\",\"G\",\"H\")]  [DefaultValue(\"\")] string DestinationLetter { get; set; }",
                "\n    [DropdownValues(\"\",\"1\",\"2\",\"3\",\"4\",\"5\",\"6\",\"7\",\"8\")]  [DefaultValue(\"\")] string DestinationNumber { get; set; }",
                "\n",
                "\n    private string ChessBoardStyle => @\"function(params) {",
                "\n            var colsOdd  = ['A.Symbol', 'C.Symbol', 'E.Symbol', 'G.Symbol'];",
                "\n            var colsEven = ['B.Symbol', 'D.Symbol', 'F.Symbol', 'H.Symbol'];",
                "\n",
                "\n            var isEvenRow = params.rowIndex % 2 == 0;",
                "\n            var colId     = params.colDef.colId;",
                "\n",
                "\n            return { 'background-color': (colsOdd.includes(colId) && isEvenRow) || (colsEven.includes(colId) && !isEvenRow) ? 'grey' : 'initial',",
                "\n                     'font-weight'     : '500',",
                "\n                     'font-size'       : '25px',",
                "\n                     'display'         : 'flex',",
                "\n                     'align-items'     : 'center',",
                "\n                     'justify-content' : 'center',",
                "\n                     'height'          : '100%' };",
                "\n            }\";",
                "\n    private string ChessCellStyle => @\"function() {",
                "\n        return { 'display'        : 'flex',",
                "\n                 'text-align'     : 'center',",
                "\n                 'justify-content': 'center',",
                "\n                 'height'         : '100%',",
                "\n                 'font-weight'    : 'bold',",
                "\n                 'border-right'   : '2px solid lightgrey' };",
                "\n        }\";",
                "\n",
                "\n    List<string> GetOriginCoordinatesOptions() => IO.Board.PieceByCoordinate.Where(x => x.Value.Color == Turn)",
                "\n                                                                            .Select(x => x.Key.Letter + x.Key.Number)",
                "\n                                                                            .Prepend(\"\").OrderBy(x => x).ToList();",
                "\n",
                "\n    void ResetAllDropDownValues() {",
                "\n        OriginCoordinates = \"\";",
                "\n        DestinationLetter = \"\";",
                "\n        DestinationNumber = \"\";",
                "\n    }",
                "\n",
                "\n    async Task<GridOptions> Visualize() {",
                "\n        var items = IO.PiecesListWithEmptyCells();",
                "\n        await Context.Workspace.UpdateAsync<ImportExport>(items, x => x.SnapshotMode());",
                "\n        return await Context.Report.ForObjects(items.ToDataCube())",
                "\n                            .GroupRowsBy(x => x.Number)",
                "\n                            .GroupColumnsBy(x => x.Letter)",
                "\n                            .ToTable()",
                "\n                            .WithOptions(o => o.WithDefaultColumn(c => c.WithWidth(65) with { CellStyle = ChessBoardStyle, SuppressMovable = true, Resizable = false}))",
                "\n                            .WithOptions(o => o with { OnGridReady = null, RowHeight = 65 })",
                "\n                            .WithOptions(o => o.WithAutoGroupColumn( o => o.WithWidth(40) with { Resizable    = false,",
                "\n                                                                                                 CellStyle = ChessCellStyle } ))",
                "\n                            .ExecuteAsync() with {GroupHeaderHeight = 25, HeaderHeight = 0, SuppressRowHoverHighlight = true, ColumnHoverHighlight = false};",
                "\n    }",
                "\n",
                "\n    async Task<ExportResult> SaveToCsv() {",
                "\n        return await Context.Export.ToCsv(\"SavedGame\")",
                "\n            .WithTable<ImportExport>(tableOptions => tableOptions.WithSource(x=> IO.PiecesList().AsQueryable()))",
                "\n            .WithSource(Context.Workspace).ExecuteAsync();",
                "\n    }",
                "\n",
                "\n    async Task<ActivityLog> LoadFromCsv() {",
                "\n        var acitivityLog = await Context.Import.FromFile(\"SavedGame.csv\")",
                "\n                                        .WithType<ImportExport>(x => x.SnapshotMode())",
                "\n                                        .WithTarget(Context.Workspace)",
                "\n                                        .ExecuteAsync();",
                "\n        IO.Resume(await Context.Workspace.Query<ImportExport>().ToListAsync());",
                "\n        return acitivityLog;",
                "\n    }",
                "\n}"
            ],
            "metadata": {},
            "execution_count": 0,
            "outputs": []
        },
        {
            "cell_type": "code",
            "source": [
                "InteractiveObject.CreateView(\"Application\", state => state.GetScope<Application>())"
            ],
            "metadata": {},
            "execution_count": 0,
            "outputs": []
        },
        {
            "cell_type": "code",
            "source": [
                "InteractiveObject.CreateView(\"Game\", state => state.GetScope<Application>().Visualize())"
            ],
            "metadata": {},
            "execution_count": 0,
            "outputs": []
        },
        {
            "cell_type": "code",
            "source": [
                "InteractiveObject.CreateView(\"Logs\", state => state.GetScope<ChessBoard>().Logs)"
            ],
            "metadata": {},
            "execution_count": 0,
            "outputs": []
        }
    ]
}