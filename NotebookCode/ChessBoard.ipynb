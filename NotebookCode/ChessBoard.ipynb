{
    "metadata": {
        "kernelspec": {
            "display_name": "Formula Framework",
            "language": "ff",
            "name": "formula-framework"
        },
        "language_info": {
            "codemirror_mode": "C#",
            "file_extension": ".cs",
            "mimetype": "text/x-csharp",
            "name": "Formula Framework",
            "pygments_lexer": "csharp",
            "version": "3.0"
        }
    },
    "nbformat_minor": 4,
    "nbformat": 4,
    "cells": [
        {
            "cell_type": "markdown",
            "source": [
                "",
                "\n"
            ],
            "metadata": {
                "tags": []
            }
        },
        {
            "cell_type": "markdown",
            "source": [
                "# ChessBoard",
                "\n## Mini Project"
            ],
            "metadata": {}
        },
        {
            "cell_type": "markdown",
            "source": [
                "### Enum Declaration"
            ],
            "metadata": {}
        },
        {
            "cell_type": "code",
            "source": [
                "public enum DisplacementType",
                "\n{",
                "\n    North, NorthEast, East, SouthEast, South, SouthWest, West, NorthWest",
                "\n}"
            ],
            "metadata": {
                "trusted": true
            },
            "execution_count": 1,
            "outputs": []
        },
        {
            "cell_type": "code",
            "source": [
                "public enum Colors",
                "\n{",
                "\n    Black, White",
                "\n}"
            ],
            "metadata": {
                "trusted": true
            },
            "execution_count": 2,
            "outputs": []
        },
        {
            "cell_type": "code",
            "source": [
                "public enum Messages //TODO ERRORS",
                "\n{",
                "\n    Notation, ColumnsTop, ColumnsBot, RowsLeft, RowsRight, PieceInCell, EmptyCell, SelectPiece, ValidInput, LegalMove, SelectDestination, UndoSelection, NextPlayerColor, NextPlayer, WinnerMessage, ValidForm, ValidColor",
                "\n}"
            ],
            "metadata": {
                "trusted": true
            },
            "execution_count": 3,
            "outputs": []
        },
        {
            "cell_type": "code",
            "source": [
                "public enum Errors //TODO ERRORS",
                "\n{",
                "\n    InvalidLength, InvalidInput, EmptySelection, WrongColor, IllegalMove, InvalidForm,",
                "\n}"
            ],
            "metadata": {
                "trusted": true
            },
            "execution_count": 4,
            "outputs": []
        },
        {
            "cell_type": "code",
            "source": [
                "public static class Letters ",
                "\n{",
                "\n    public const string A = \"A\";",
                "\n    public const string B = \"B\";",
                "\n    public const string C = \"C\";",
                "\n    public const string D = \"D\";",
                "\n    public const string E = \"E\"; ",
                "\n    public const string F = \"F\";",
                "\n    public const string G = \"G\";",
                "\n    public const string H = \"H\";",
                "\n    ",
                "\n    public static int ToNum (string x) {",
                "\n        switch (x)",
                "\n        {",
                "\n            case A : return 1;",
                "\n            case B : return 2;",
                "\n            case C : return 3;",
                "\n            case D : return 4; ",
                "\n            case E : return 5;",
                "\n            case F : return 6;",
                "\n            case G : return 7;",
                "\n            case H : return 8;",
                "\n                ",
                "\n            default : return 0;",
                "\n        }",
                "\n    }",
                "\n        ",
                "\n    public static string ToLet (int x) {",
                "\n        switch (x)",
                "\n        {",
                "\n            case 1 : return \"A\";",
                "\n            case 2 : return \"B\";",
                "\n            case 3 : return \"C\";",
                "\n            case 4 : return \"D\"; ",
                "\n            case 5 : return \"E\";",
                "\n            case 6 : return \"F\";",
                "\n            case 7 : return \"G\";",
                "\n            case 8 : return \"H\";",
                "\n                ",
                "\n            default : return \"Z\";",
                "\n        }",
                "\n    }",
                "\n}"
            ],
            "metadata": {
                "trusted": true
            },
            "execution_count": 5,
            "outputs": []
        },
        {
            "cell_type": "code",
            "source": [
                "public static class Numbers ",
                "\n{    ",
                "\n    public static int ToNum (string x) {",
                "\n        switch (x)",
                "\n        {",
                "\n            case \"1\" : return 1;",
                "\n            case \"2\" : return 2;",
                "\n            case \"3\" : return 3;",
                "\n            case \"4\" : return 4; ",
                "\n            case \"5\" : return 5;",
                "\n            case \"6\" : return 6;",
                "\n            case \"7\" : return 7;",
                "\n            case \"8\" : return 8;",
                "\n                ",
                "\n            default : return 0;",
                "\n        }",
                "\n    }",
                "\n}"
            ],
            "metadata": {
                "trusted": true
            },
            "execution_count": 6,
            "outputs": []
        },
        {
            "cell_type": "markdown",
            "source": [
                "### `ApplicationMessage.cs`  $\\rightarrow$ Piece.cs $\\rightarrow$ Utilities.cs  $\\rightarrow$ Pawn.cs $\\rightarrow$ Knight.cs  $\\rightarrow$ Rook.cs  $\\rightarrow$ Bishop.cs  $\\rightarrow$ Queen.cs  $\\rightarrow$ King.cs  $\\rightarrow$ ChessBoard.cs  $\\rightarrow$ ChessEngine.cs"
            ],
            "metadata": {}
        },
        {
            "cell_type": "code",
            "source": [
                "public static class ApplicationMessage",
                "\n{      ",
                "\n    public static string Get(Messages message, Colors blackOrWhite = Colors.White, int number = 1, string Symbol = \"P\")",
                "\n    {",
                "\n        string msg = \"\";",
                "\n",
                "\n        switch (message)",
                "\n        {",
                "\n            case Messages.Notation:",
                "\n                msg = \"<=========================================>\" +",
                "\n                      \"\\n<                 RULES                   >\" +",
                "\n                      \"\\n<                                         >\" +",
                "\n                      \"\\n< 1.1 CONVENTION                          >\" +",
                "\n                      \"\\n<  The white pieces are represented with  >\" +",
                "\n                      \"\\n< capital letters whereas the black ones  >\" +",
                "\n                      \"\\n< are represented with small letters.     >\" +",
                "\n                      \"\\n<                                         >\" +",
                "\n                      \"\\n<  To UNDO a piece selection enter \\\"\\\" in  >\" +",
                "\n                      \"\\n< the destination coordinates field for   >\" +",
                "\n                      \"\\n< your selected piece.                    >\" +",
                "\n                      \"\\n<                                         >\" +",
                "\n                      \"\\n< 1.2 NOTATION                            >\" +",
                "\n                      \"\\n<  P --> white pawn    p --> black pawn   >\" +",
                "\n                      \"\\n<  R --> white rook    r --> black rook   >\" +",
                "\n                      \"\\n<  H --> white knight  h --> black knight >\" +",
                "\n                      \"\\n<  B --> white bishop  b --> black bishop >\" +",
                "\n                      \"\\n<  Q --> white queen   q --> black queen  >\" +",
                "\n                      \"\\n<  K --> white king    k --> black king   >\" +",
                "\n                      \"\\n<                                         >\" +",
                "\n                      \"\\n<=========================================>\";",
                "\n                return msg;",
                "\n            case Messages.SelectPiece:",
                "\n                msg = \"Please enter the coordinates of the piece\" +",
                "\n                      \"\\nyou would like to move (ex. of format A2):\" +",
                "\n                      \"\\n__________________________________________\";",
                "\n                return msg;",
                "\n            case Messages.ValidInput:",
                "\n                msg = \"Input is valid.\" +",
                "\n                      \"\\n__________________________________________\";",
                "\n                return msg;",
                "\n            case Messages.LegalMove:",
                "\n                msg = \"The selected operation is valid.\" +",
                "\n                      \"\\n__________________________________________\";",
                "\n                return msg;",
                "\n            case Messages.SelectDestination:",
                "\n                msg = \"Please enter the coordinates of the cell\" +",
                "\n                      \"\\nyou would like to move your piece to:\" +",
                "\n                      \"\\n__________________________________________\";",
                "\n                return msg;",
                "\n            case Messages.UndoSelection:",
                "\n                msg = \"Undoing selection.\" +",
                "\n                      \"\\n__________________________________________\";",
                "\n                return msg;",
                "\n            case Messages.NextPlayerColor:",
                "\n                msg = $\"\\n{blackOrWhite}'s turn!\" +",
                "\n                      \"\\n__________________________________________\";",
                "\n                return msg;",
                "\n            case Messages.NextPlayer:",
                "\n                msg = \"\\nNext player's turn!\" +",
                "\n                      \"\\n__________________________________________\";",
                "\n                return msg;",
                "\n            case Messages.ColumnsTop:",
                "\n                msg = \"     A   B   C   D   E   F   G   H\" +",
                "\n                      \"\\n    ___ ___ ___ ___ ___ ___ ___ ___\";",
                "\n                return msg;",
                "\n            case Messages.ColumnsBot:",
                "\n                msg = \"\\n     A   B   C   D   E   F   G   H\";",
                "\n                return msg;",
                "\n            case Messages.RowsLeft:",
                "\n                msg = number.ToString() + \"  \";",
                "\n                return msg;",
                "\n            case Messages.RowsRight:",
                "\n                msg = \"|  \" + number.ToString();",
                "\n                return msg;",
                "\n            case Messages.PieceInCell:",
                "\n                msg = \"|_\" + Symbol.ToString() + \"_\";",
                "\n                return msg;",
                "\n            case Messages.EmptyCell:",
                "\n                msg = \"|___\";",
                "\n                return msg;",
                "\n            case Messages.WinnerMessage:",
                "\n                msg = $\"Congratulations!!! {blackOrWhite}'s win!\" +",
                "\n                      \"\\n__________________________________________\";",
                "\n                return msg;",
                "\n            default:",
                "\n                return msg;",
                "\n        }",
                "\n    }",
                "\n    ",
                "\n    public static void Log(Errors error, Colors blackOrWhite = Colors.White)",
                "\n    {",
                "\n        string msg = \"\";",
                "\n        switch (error)",
                "\n        {",
                "\n            case Errors.InvalidLength:",
                "\n                msg = \"Input should be 2 characters long.\" +",
                "\n                      \"\\n__________________________________________\";",
                "\n                throw new ArgumentException(msg);",
                "\n            case Errors.InvalidForm:",
                "\n                msg = \"Input has invalid form.\" +",
                "\n                      \"\\n__________________________________________\";",
                "\n                throw new ArgumentException(msg);",
                "\n            case Errors.InvalidInput:",
                "\n                msg = \"Input is invalid.\" +",
                "\n                      \"\\n__________________________________________\";",
                "\n                throw new ArgumentException(msg);",
                "\n            case Errors.WrongColor:",
                "\n                msg = $\"Select a {blackOrWhite} piece.\" +",
                "\n                      \"\\n__________________________________________\";",
                "\n                throw new ArgumentException(msg);",
                "\n            case Errors.EmptySelection:",
                "\n                msg = \"The cell you have selected is empty.\" +",
                "\n                      \"\\n__________________________________________\";",
                "\n                throw new ArgumentException(msg);",
                "\n            case Errors.IllegalMove:",
                "\n                msg = \"Illegal operation! Please try again.\" +",
                "\n                      \"\\n__________________________________________\";",
                "\n                throw new ArgumentException(msg);",
                "\n        }",
                "\n    }",
                "\n}"
            ],
            "metadata": {
                "trusted": true
            },
            "execution_count": 7,
            "outputs": []
        },
        {
            "cell_type": "markdown",
            "source": [
                "### Record Declaration"
            ],
            "metadata": {}
        },
        {
            "cell_type": "code",
            "source": [
                "public record Coordinate ",
                "\n{",
                "\n    //[] // TODO: check validation attribute",
                "\n    public string Letter {get; init;}",
                "\n    ",
                "\n    //[] // TODO: check validation attribute",
                "\n    public int Number {get; init;}",
                "\n    ",
                "\n    //public string Message;                                            //use in case of faulty input",
                "\n    ",
                "\n    public Coordinate (string letter, int number)",
                "\n    {",
                "\n        Letter = letter;",
                "\n        Number = number;",
                "\n        if(!this.IsValid())",
                "\n            ApplicationMessage.Log(Errors.InvalidInput); //TODO ApplicationMessage.Print(Error.InvalidInput)",
                "\n    }",
                "\n    ",
                "\n    public bool IsValid() // TODO",
                "\n    {",
                "\n        if (Letters.ToNum(Letter) < 1 || Letters.ToNum(Letter) > 8 || Number < 1 || Number > 8)                       //out of bounds check",
                "\n        {",
                "\n            return false;",
                "\n        }",
                "\n        return true;",
                "\n    }",
                "\n}"
            ],
            "metadata": {
                "trusted": true
            },
            "execution_count": 8,
            "outputs": []
        },
        {
            "cell_type": "markdown",
            "source": [
                "### ApplicationMessage.cs  $\\rightarrow$ Piece.cs $\\rightarrow$ Utilities.cs  $\\rightarrow$ Pawn.cs $\\rightarrow$ Knight.cs  $\\rightarrow$ Rook.cs  $\\rightarrow$ Bishop.cs  $\\rightarrow$ Queen.cs  $\\rightarrow$ King.cs  $\\rightarrow$ ChessBoard.cs  $\\rightarrow$ ChessEngine.cs"
            ],
            "metadata": {}
        },
        {
            "cell_type": "code",
            "source": [
                "public class Piece                                                                                                                     //class that all chessboard pieces should inherit",
                "\n{",
                "\n    public Colors Color {get; init;}                                                                                                       //Color property (setters and getters)",
                "\n    public string Symbol {get; init;}                                                                                                               //Symbol property (setters and getters)",
                "\n    public Coordinate Position {get; init;}",
                "\n",
                "\n    public bool IsLegalMove(string letter, int number)                                                                       //stores \"YES\" = 1 if the move is legal and \"NO\" = 0 otherwise",
                "\n    { ",
                "\n        return false;       ",
                "\n    }    ",
                "\n}"
            ],
            "metadata": {
                "trusted": true
            },
            "execution_count": 19,
            "outputs": []
        },
        {
            "cell_type": "markdown",
            "source": [
                "### ApplicationMessage.cs  $\\rightarrow$ Piece.cs $\\rightarrow$ Utilities.cs  $\\rightarrow$ Pawn.cs $\\rightarrow$ Knight.cs  $\\rightarrow$ Rook.cs  $\\rightarrow$ Bishop.cs  $\\rightarrow$ Queen.cs  $\\rightarrow$ King.cs  $\\rightarrow$ ChessBoard.cs  $\\rightarrow$ ChessEngine.cs"
            ],
            "metadata": {}
        },
        {
            "cell_type": "code",
            "source": [
                "public class Pawn : Piece",
                "\n{",
                "\n    public Pawn (Colors c, Coordinate p)",
                "\n    {",
                "\n        Color = c;",
                "\n        Symbol = (c == Colors.White) ? \"P\":\"p\";",
                "\n        Position = p;",
                "\n    }",
                "\n    ",
                "\n    /*(letter,number) ---> destination coordinates ",
                "\n    How do I get the current position / coordinates if no \"position\" field / property exists?",
                "\n    */",
                "\n    public bool IsLegalMove(string letter, int number)",
                "\n    {",
                "\n        int x1 = Letters.ToNum(letter);          //intilialise",
                "\n        int y1 = number;                         //intilialise",
                "\n        int x2 = Letters.ToNum(Position.Letter); //intilialise",
                "\n        int y2 = Position.Number;                //intilialise",
                "\n        ",
                "\n        if( (Color == Colors.Black && y1 <= y2)                ||",
                "\n            (Color == Colors.White && y1 >= y2)                ||",
                "\n            (Color == Colors.Black && y1 > y2 && y2 > 2)       ||",
                "\n            (Color == Colors.White && y1 < y2 && y2 > 2)       ||",
                "\n            (Color == Colors.Black && y1 - y2 == 2 && y1 != 7) ||",
                "\n            (Color == Colors.White && y2 - y1 == 2 && y1 != 2)  )  ",
                "\n            return false;",
                "\n        return true;",
                "\n    }",
                "\n}"
            ],
            "metadata": {
                "trusted": true
            },
            "execution_count": 10,
            "outputs": []
        },
        {
            "cell_type": "markdown",
            "source": [
                "### ApplicationMessage.cs  $\\rightarrow$ Piece.cs $\\rightarrow$ Utilities.cs  $\\rightarrow$ Pawn.cs $\\rightarrow$ Knight.cs  $\\rightarrow$ Rook.cs  $\\rightarrow$ Bishop.cs  $\\rightarrow$ Queen.cs  $\\rightarrow$ King.cs  $\\rightarrow$ ChessBoard.cs  $\\rightarrow$ ChessEngine.cs"
            ],
            "metadata": {}
        },
        {
            "cell_type": "code",
            "source": [
                "public class Knight : Piece",
                "\n{",
                "\n    public Knight (Colors c, Coordinate p)",
                "\n    {",
                "\n        Color = c;",
                "\n        Symbol = (c == Colors.White) ? \"H\":\"h\";",
                "\n        Position = p;",
                "\n    }",
                "\n    ",
                "\n    /*(letter,number) ---> destination coordinates ",
                "\n    How do I get the current position / coordinates if no \"position\" field / property exists?",
                "\n    */",
                "\n    public bool IsLegalMove(string letter, int number)",
                "\n    {",
                "\n        int x1 = Letters.ToNum(letter);          //intilialise",
                "\n        int y1 = number;                         //intilialise",
                "\n        int x2 = Letters.ToNum(Position.Letter); //intilialise",
                "\n        int y2 = Position.Number;                //intilialise",
                "\n        ",
                "\n        if (Math.Abs(x1 - x2) == 1 && Math.Abs(y1 - y2) == 2)",
                "\n            return true;",
                "\n        if (Math.Abs(x1 - x2) == 2 && Math.Abs(y1 - y2) == 1)",
                "\n            return true;",
                "\n        return false;",
                "\n    }",
                "\n}"
            ],
            "metadata": {
                "trusted": true
            },
            "execution_count": 11,
            "outputs": []
        },
        {
            "cell_type": "markdown",
            "source": [
                "### ApplicationMessage.cs  $\\rightarrow$ Piece.cs $\\rightarrow$ Utilities.cs  $\\rightarrow$ Pawn.cs $\\rightarrow$ Knight.cs  $\\rightarrow$ Rook.cs  $\\rightarrow$ Bishop.cs  $\\rightarrow$ Queen.cs  $\\rightarrow$ King.cs  $\\rightarrow$ ChessBoard.cs  $\\rightarrow$ ChessEngine.cs"
            ],
            "metadata": {}
        },
        {
            "cell_type": "code",
            "source": [
                "public class Rook : Piece //isPlaceInBetween --> Utilities.Distance or similar ",
                "\n{",
                "\n    public Rook (Colors c, Coordinate p)",
                "\n    {",
                "\n        Color = c;",
                "\n        Symbol = (c == Colors.White) ? \"R\":\"r\";",
                "\n        Position = p;",
                "\n    }",
                "\n    ",
                "\n    /*(letter,number) ---> destination coordinates ",
                "\n    How do I get the current position / coordinates if no \"position\" field / property exists?",
                "\n    */",
                "\n    public bool IsLegalMove(string letter, int number)",
                "\n    {",
                "\n        int x1 = Letters.ToNum(letter);          //intilialise",
                "\n        int y1 = number;                         //intilialise",
                "\n        int x2 = Letters.ToNum(Position.Letter); //intilialise",
                "\n        int y2 = Position.Number;                //intilialise",
                "\n        if ((x2 != x1 && y2 != y1) || (x2 == x1 && y2 == y1))",
                "\n            return false;",
                "\n        return true;",
                "\n    }",
                "\n}"
            ],
            "metadata": {
                "trusted": true
            },
            "execution_count": 12,
            "outputs": []
        },
        {
            "cell_type": "markdown",
            "source": [
                "### ApplicationMessage.cs  $\\rightarrow$ Piece.cs $\\rightarrow$ Utilities.cs  $\\rightarrow$ Pawn.cs $\\rightarrow$ Knight.cs  $\\rightarrow$ Rook.cs  $\\rightarrow$ Bishop.cs  $\\rightarrow$ Queen.cs  $\\rightarrow$ King.cs  $\\rightarrow$ ChessBoard.cs  $\\rightarrow$ ChessEngine.cs"
            ],
            "metadata": {}
        },
        {
            "cell_type": "code",
            "source": [
                "public class Bishop : Piece //isPlaceInBetween --> Utilities.Distance or similar ",
                "\n{",
                "\n    public Bishop (Colors c, Coordinate p)",
                "\n    {",
                "\n        Color = c;",
                "\n        Symbol = (c == Colors.White) ? \"P\":\"p\";",
                "\n        Position = p;",
                "\n    }",
                "\n    ",
                "\n    /*(letter,number) ---> destination coordinates ",
                "\n    How do I get the current position / coordinates if no \"position\" field / property exists?",
                "\n    */",
                "\n    public bool IsLegalMove(string letter, int number)",
                "\n    {",
                "\n        int x1 = Letters.ToNum(letter);          //intilialise",
                "\n        int y1 = number;                         //intilialise",
                "\n        int x2 = Letters.ToNum(Position.Letter); //intilialise",
                "\n        int y2 = Position.Number;                //intilialise",
                "\n        ",
                "\n        if (Math.Abs(x1 - x2) != Math.Abs(y1 - y2) || Math.Abs(x1 - x2) == 0)",
                "\n            return false;",
                "\n        return true;",
                "\n    }",
                "\n}"
            ],
            "metadata": {
                "trusted": true
            },
            "execution_count": 13,
            "outputs": []
        },
        {
            "cell_type": "markdown",
            "source": [
                "### ApplicationMessage.cs  $\\rightarrow$ Piece.cs $\\rightarrow$ Utilities.cs  $\\rightarrow$ Pawn.cs $\\rightarrow$ Knight.cs  $\\rightarrow$ Rook.cs  $\\rightarrow$ Bishop.cs  $\\rightarrow$ Queen.cs  $\\rightarrow$ King.cs  $\\rightarrow$ ChessBoard.cs  $\\rightarrow$ ChessEngine.cs"
            ],
            "metadata": {}
        },
        {
            "cell_type": "code",
            "source": [
                "public class Queen : Piece //isPlaceInBetween --> Utilities.Distance or similar ",
                "\n{",
                "\n    public Queen (Colors c, Coordinate p)",
                "\n    {",
                "\n        Color = c;",
                "\n        Symbol = (c == Colors.White) ? \"Q\":\"q\";",
                "\n        Position = p;",
                "\n    }",
                "\n    ",
                "\n    /*(letter,number) ---> destination coordinates ",
                "\n    How do I get the current position / coordinates if no \"position\" field / property exists?",
                "\n    */",
                "\n    public bool IsLegalMove(string letter, int number)",
                "\n    {",
                "\n        Rook dummyRook = new Rook(Color, Position);",
                "\n        Bishop dummyBishop = new Bishop(Color, Position);",
                "\n        ",
                "\n        if (!dummyRook.IsLegalMove(letter, number) && !dummyBishop.IsLegalMove(letter, number))",
                "\n            return false;",
                "\n        return true;",
                "\n    }",
                "\n}"
            ],
            "metadata": {
                "trusted": true
            },
            "execution_count": 14,
            "outputs": []
        },
        {
            "cell_type": "markdown",
            "source": [
                "### ApplicationMessage.cs  $\\rightarrow$ Piece.cs $\\rightarrow$ Utilities.cs  $\\rightarrow$ Pawn.cs $\\rightarrow$ Knight.cs  $\\rightarrow$ Rook.cs  $\\rightarrow$ Bishop.cs  $\\rightarrow$ Queen.cs  $\\rightarrow$ King.cs  $\\rightarrow$ ChessBoard.cs  $\\rightarrow$ ChessEngine.cs"
            ],
            "metadata": {}
        },
        {
            "cell_type": "code",
            "source": [
                "public class King : Piece",
                "\n{",
                "\n    public King (Colors c, Coordinate p)",
                "\n    {",
                "\n        Color = c;",
                "\n        Symbol = (c == Colors.White) ? \"K\":\"k\";",
                "\n        Position = p;",
                "\n    }",
                "\n",
                "\n    /*(letter,number) ---> destination coordinates ",
                "\n    How do I get the current position / coordinates if no \"position\" field / property exists?",
                "\n    */",
                "\n    public bool IsLegalMove(string letter, int number)",
                "\n    {",
                "\n        int x1 = Letters.ToNum(letter);          //intilialise",
                "\n        int y1 = number;                         //intilialise",
                "\n        int x2 = Letters.ToNum(Position.Letter); //intilialise",
                "\n        int y2 = Position.Number;                //intilialise",
                "\n        ",
                "\n        if (Math.Abs(y2 - y1) != 1 && Math.Abs(x2 - x1) != 1)",
                "\n            return false;",
                "\n        return true;",
                "\n    }",
                "\n}"
            ],
            "metadata": {
                "trusted": true
            },
            "execution_count": 15,
            "outputs": []
        },
        {
            "cell_type": "code",
            "source": [
                "public enum Pieces",
                "\n{",
                "\n    Pawn, Rook, Knight, Bishop, Queen, King",
                "\n}"
            ],
            "metadata": {
                "trusted": true
            },
            "execution_count": 16,
            "outputs": []
        },
        {
            "cell_type": "markdown",
            "source": [
                "### ApplicationMessage.cs  $\\rightarrow$ Piece.cs $\\rightarrow$ Utilities.cs  $\\rightarrow$ Pawn.cs $\\rightarrow$ Knight.cs  $\\rightarrow$ Rook.cs  $\\rightarrow$ Bishop.cs  $\\rightarrow$ Queen.cs  $\\rightarrow$ King.cs  $\\rightarrow$ ChessBoard.cs  $\\rightarrow$ ChessEngine.cs"
            ],
            "metadata": {}
        },
        {
            "cell_type": "code",
            "source": [
                "public class ChessBoard                                                                                                                                     //illustrates a chess Board",
                "\n{",
                "\n    //public Dictionary<(enum1, enum2), Piece> Board { get; private set; }  // TODO",
                "\n    ",
                "\n    //public ChessBoard {  // TODO",
                "\n    //    Board = new Dictionary<string, Piece>();",
                "\n    //}",
                "\n",
                "\n    public Dictionary<Coordinate, Piece> PieceByCoordinate {get; private set;} = new Dictionary<Coordinate, Piece>();                                                                                                 //ValueByPiece",
                "\n    // GetPieceAt(letter,number)         ----> Dictionary method --> ",
                "\n        ",
                "\n    // PlacePieceAt(letter,number,piece) ----> Dictionary method -->",
                "\n    // isGameOver()    ",
                "\n    // MovePieceAt(l1,n1,l2,n2)          ----> Dictionary method -->",
                "\n    ",
                "\n    /*IsLegalMove(l1,n1,l2,n2)",
                "\n    {",
                "\n        // Assume that user input has been checked and is of the form \"A2\" ",
                "\n        Violations",
                "\n        {",
                "\n            OutOfBounds;",
                "\n            IllegalCollision; ----> for example if OriginPiece.Color == TargetPiece.Color",
                "\n            PieceObject.IsLegalMove();",
                "\n        }",
                "\n    }",
                "\n    */",
                "\n    ",
                "\n    public bool IsPieceInPath(int x1, int y1, int x2, int y2, DisplacementType displacementType)                                                                            //a method useful for *Rook* and *Bishop* pieces",
                "\n    {",
                "\n        int jump = (y2==y1) ? Math.Abs(x1 - x2) : Math.Abs(y1 - y2);",
                "\n",
                "\n        for (int step = 1; step < jump; step++)",
                "\n        {",
                "\n            switch (displacementType)",
                "\n            {",
                "\n                case DisplacementType.East:",
                "\n                    if (PieceByCoordinate.ContainsKey(new Coordinate(Letters.ToLet(x1 + step), y1)) == true)       //rook movement",
                "\n                        return true;                                                                               //...",
                "\n                    break;                                                                                         //rook movement",
                "\n                case DisplacementType.West:",
                "\n                    if (PieceByCoordinate.ContainsKey(new Coordinate(Letters.ToLet(x1 - step), y1)) == true)",
                "\n                        return true;",
                "\n                    break;",
                "\n                case DisplacementType.North:",
                "\n                    if (PieceByCoordinate.ContainsKey(new Coordinate(Letters.ToLet(x1), y1 + step)) == true)",
                "\n                        return true;",
                "\n                    break;",
                "\n                case DisplacementType.South:",
                "\n                    if (PieceByCoordinate.ContainsKey(new Coordinate(Letters.ToLet(x1), y1 - step)) == true)       ",
                "\n                        return true;",
                "\n                    break;                                                                                         //rook movement",
                "\n                case DisplacementType.SouthEast:                                                                   //bishop movement",
                "\n                    if (PieceByCoordinate.ContainsKey(new Coordinate(Letters.ToLet(x1 + step), y1 + step)) == true)//... ",
                "\n                        return true;                                                                               //bishop movement",
                "\n                    break;",
                "\n                case DisplacementType.NorthWest:",
                "\n                    if (PieceByCoordinate.ContainsKey(new Coordinate(Letters.ToLet(x1 - step), y1 - step)) == true)",
                "\n                        return true;",
                "\n                    break;",
                "\n                case DisplacementType.SouthWest:",
                "\n                    if (PieceByCoordinate.ContainsKey(new Coordinate(Letters.ToLet(x1 - step), y1 + step)) == true)",
                "\n                        return true;",
                "\n                    break;",
                "\n                case DisplacementType.NorthEast:",
                "\n                    if (PieceByCoordinate.ContainsKey(new Coordinate(Letters.ToLet(x1 + step), y1 - step)) == true)",
                "\n                        return true;",
                "\n                    break;                                                                                          //bishop movement",
                "\n            }",
                "\n        }",
                "\n        return false;",
                "\n    }",
                "\n    ",
                "\n    public bool IsLegalMove(Piece piece, string letter, int number)",
                "\n    {",
                "\n        Piece pieceAtDestination = new Piece();",
                "\n        if(PieceByCoordinate.TryGetValue(new Coordinate(letter,number),out pieceAtDestination))",
                "\n        {",
                "\n            if (pieceAtDestination.Color == piece.Color) //collision with piece of the same color",
                "\n                return false;",
                "\n            ",
                "\n            int x1 = Letters.ToNum(piece.Position.Letter);                 //introduce convenient notation for validation",
                "\n            int y1 = piece.Position.Number;                                // int (x1,y1) ----> origin piece coords",
                "\n            int x2 = Letters.ToNum(pieceAtDestination.Position.Letter);    // int (x2,y2) ----> target piece coords",
                "\n            int y2 = pieceAtDestination.Position.Number;",
                "\n            ",
                "\n            if (piece.GetType().Name == Pieces.Pawn.ToString())",
                "\n                if (piece.Color == Colors.White)                               //allow for white piece vertical ",
                "\n                    return (y2-y1 == 1 && x1 == x2)? true: false;              //movement for increasing y",
                "\n                else                                                           //allow for black piece vertical",
                "\n                    return (y1-y2 == 1 && x1 == x2)? true: false;              //movement for decreasing y ",
                "\n            if (piece.GetType().Name == Pieces.Rook.ToString()) ",
                "\n                if (y2 == y1)",
                "\n                    if (IsPieceInPath(x1, y1, x2, y2, x2 > x1 ? DisplacementType.East : DisplacementType.West))",
                "\n                        return false;",
                "\n                if (x2 == x1)",
                "\n                    if (IsPieceInPath(x1, y1, x2, y2, y2 > x1 ? DisplacementType.North : DisplacementType.South))",
                "\n                        return false;",
                "\n            if (piece.GetType().Name == Pieces.Bishop.ToString())",
                "\n                if (y2 > y1)",
                "\n                    if (IsPieceInPath(x1, y1, x2, y2, x2 > x1 ? DisplacementType.SouthEast : DisplacementType.SouthWest))",
                "\n                        return false;",
                "\n                if (y2 < y1)",
                "\n                    if (IsPieceInPath(x1, y1, x2, y2, x2 > x1 ? DisplacementType.NorthEast : DisplacementType.NorthWest))",
                "\n                        return false;",
                "\n            if (piece.GetType().Name == Pieces.Queen.ToString())",
                "\n                if (IsPieceInPath(x1, y1, x2, y2, x2 > x1 ? DisplacementType.East : DisplacementType.West)           && ",
                "\n                    IsPieceInPath(x1, y1, x2, y2, y2 > x1 ? DisplacementType.North : DisplacementType.South)         && ",
                "\n                    IsPieceInPath(x1, y1, x2, y2, x2 > x1 ? DisplacementType.SouthEast : DisplacementType.SouthWest) &&",
                "\n                    IsPieceInPath(x1, y1, x2, y2, x2 > x1 ? DisplacementType.NorthEast : DisplacementType.NorthWest))",
                "\n                    return false;",
                "\n            if (piece.GetType().Name == Pieces.King.ToString())",
                "\n                return true;",
                "\n        }",
                "\n        return true;      ",
                "\n    }",
                "\n    ",
                "\n    // InitialiseBoard ",
                "\n    public void InitialiseBoard(ChessBoard chessboard)                                                                                                                           //responsible for initializing the chess Board with every piece in position",
                "\n    {",
                "\n        for (int number = 1; number <=8; number++)",
                "\n        {",
                "\n            foreach (System.Reflection.FieldInfo letter in typeof(Letters).GetFields())",
                "\n            {",
                "\n                if (number == 1 || number == 8)",
                "\n                    if ((string) letter.GetValue(null) == \"A\" ||(string) letter.GetValue(null) == \"H\")",
                "\n                    {",
                "\n                        Coordinate coord = new Coordinate((string) letter.GetValue(null) == \"A\" ? \"A\":\"H\",number);",
                "\n                        Rook rook = new Rook(number == 1 ? Colors.White : Colors.Black, coord);",
                "\n                        chessboard.PieceByCoordinate.Add(coord, rook);",
                "\n                    }",
                "\n                    else if ((string) letter.GetValue(null) == \"B\" ||(string) letter.GetValue(null) == \"G\")",
                "\n                    {",
                "\n                        Coordinate coord = new Coordinate((string) letter.GetValue(null) == \"B\" ? \"B\":\"G\",number);",
                "\n                        Knight knight = new Knight(number == 1 ? Colors.White : Colors.Black, coord);",
                "\n                        chessboard.PieceByCoordinate.Add(coord, knight);",
                "\n                    }",
                "\n                    else if ((string) letter.GetValue(null) == \"C\" ||(string) letter.GetValue(null) == \"F\")",
                "\n                    {",
                "\n                        Coordinate coord = new Coordinate((string) letter.GetValue(null) == \"C\" ? \"C\":\"F\",number);",
                "\n                        Bishop bishop = new Bishop(number == 1 ? Colors.White : Colors.Black, coord);",
                "\n                        chessboard.PieceByCoordinate.Add(coord, bishop);",
                "\n                            ",
                "\n                    }",
                "\n                    else if ((string) letter.GetValue(null) == \"D\")",
                "\n                    {",
                "\n                        Coordinate coord = new Coordinate((string) letter.GetValue(null), number);",
                "\n                        Queen queen = new Queen(number == 1 ? Colors.White : Colors.Black, coord);",
                "\n                        chessboard.PieceByCoordinate.Add(coord, queen);",
                "\n                    }",
                "\n                    else",
                "\n                    {",
                "\n                        Coordinate coord = new Coordinate((string) letter.GetValue(null), number);",
                "\n                        King king = new King(number == 1 ? Colors.White : Colors.Black, coord);",
                "\n                        chessboard.PieceByCoordinate.Add(coord, king);",
                "\n                    }",
                "\n                else if (number == 2 || number == 7)",
                "\n                    {",
                "\n                        Coordinate coord = new Coordinate((string) letter.GetValue(null), number);",
                "\n                        Pawn pawn = new Pawn(number == 2 ? Colors.White : Colors.Black, coord);",
                "\n                        chessboard.PieceByCoordinate.Add(coord, pawn);",
                "\n                    }",
                "\n            }",
                "\n        }",
                "\n    }",
                "\n    ",
                "\n    public string MakeStringBoard(ChessBoard chessboard)",
                "\n    {",
                "\n        string rows = ApplicationMessage.Get(Messages.ColumnsTop);",
                "\n        for (int number = 1; number <= 8; number++)",
                "\n        {",
                "\n            string row = \"\";",
                "\n            foreach (System.Reflection.FieldInfo letter in typeof(Letters).GetFields())",
                "\n            {",
                "\n                var coordinate = new Coordinate((string) letter.GetValue(null),number);",
                "\n                var piece = new Piece();",
                "\n                if ((string) letter.GetValue(null) == \"A\")",
                "\n                    row+=ApplicationMessage.Get(Messages.RowsLeft,0,number);",
                "\n",
                "\n                if (chessboard.PieceByCoordinate.TryGetValue(coordinate, out piece))",
                "\n                    row+=ApplicationMessage.Get(Messages.PieceInCell,0,0, piece.Symbol);",
                "\n                else",
                "\n                    row+=ApplicationMessage.Get(Messages.EmptyCell);",
                "\n",
                "\n                if ((string) letter.GetValue(null) == \"H\")",
                "\n                    row+=ApplicationMessage.Get(Messages.RowsRight,0,number);",
                "\n            }",
                "\n            rows += \"\\n\"+row;",
                "\n        }",
                "\n        rows += \"\\n\"+ ApplicationMessage.Get(Messages.ColumnsBot);",
                "\n        return rows;",
                "\n    }",
                "\n}"
            ],
            "metadata": {
                "trusted": true
            },
            "execution_count": 17,
            "outputs": []
        },
        {
            "cell_type": "markdown",
            "source": [
                "### ApplicationMessage.cs  $\\rightarrow$ Piece.cs $\\rightarrow$ Utilities.cs  $\\rightarrow$ Pawn.cs $\\rightarrow$ Knight.cs  $\\rightarrow$ Rook.cs  $\\rightarrow$ Bishop.cs  $\\rightarrow$ Queen.cs  $\\rightarrow$ King.cs  $\\rightarrow$ ChessBoard.cs  $\\rightarrow$ ChessEngine.cs"
            ],
            "metadata": {}
        },
        {
            "cell_type": "code",
            "source": [
                "public class ChessEngine",
                "\n{  ",
                "\n    public void NextMove(ChessBoard chessboard, bool isWhitesTurn, string origin_input, string destination_input)",
                "\n    {",
                "\n        Coordinate origin = new Coordinate(origin_input[0].ToString(), Numbers.ToNum(origin_input[1].ToString()));                                                              // (1) create origin coordinate",
                "\n        if (origin.IsValid())",
                "\n            ApplicationMessage.Get(Messages.ValidForm);",
                "\n        else",
                "\n            ApplicationMessage.Log(Errors.InvalidInput);                                                                                                                        // (2) IsValid?",
                "\n        Piece piece = new Piece();                                                                                                                                              ",
                "\n        ",
                "\n        if (chessboard.PieceByCoordinate.TryGetValue(origin,out piece))                                                                                                         // (3) Check for collisions  ",
                "\n            if (isWhitesTurn && piece.Color == Colors.White)",
                "\n                ApplicationMessage.Get(Messages.ValidColor);                                                                                                                    // (4) Check for color violations",
                "\n            else ",
                "\n                ApplicationMessage.Log(Errors.WrongColor);",
                "\n        else",
                "\n            ApplicationMessage.Log(Errors.EmptySelection);",
                "\n          ",
                "\n        Coordinate destination = new Coordinate(destination_input[0].ToString(), Numbers.ToNum(origin_input[1].ToString()));                                                    // (5) Create destination coordinate        ",
                "\n        if (destination.IsValid())",
                "\n            ApplicationMessage.Get(Messages.ValidForm);",
                "\n        else ",
                "\n            ApplicationMessage.Log(Errors.InvalidInput);                                                                                                                        // (6) IsValid (Coordinate POV)?",
                "\n        ",
                "\n        if (piece.GetType().Name == Pieces.Rook.ToString())",
                "\n            if (piece.Color == Colors.White)",
                "\n                if (Math.Abs(Letters.ToNum(origin_input[0].ToString()) - Letters.ToNum(destination_input[0].ToString())) == 1 && Numbers.ToNum(destination_input[1].ToString()) - Numbers.ToNum(origin_input[1].ToString()) == 1)",
                "\n                    ApplicationMessage.Get(Messages.LegalMove);",
                "\n                else ",
                "\n                    ApplicationMessage.Log(Errors.IllegalMove);",
                "\n            else",
                "\n                if (Math.Abs(Letters.ToNum(origin_input[0].ToString()) - Letters.ToNum(destination_input[0].ToString())) == 1 && Numbers.ToNum(origin_input[1].ToString()) - Numbers.ToNum(destination_input[1].ToString()) == 1)",
                "\n                    ApplicationMessage.Get(Messages.LegalMove);",
                "\n                else ",
                "\n                    ApplicationMessage.Log(Errors.IllegalMove);",
                "\n        ",
                "\n        if (piece.IsLegalMove(origin.Letter,origin.Number))",
                "\n            ApplicationMessage.Get(Messages.LegalMove);",
                "\n        else",
                "\n            ApplicationMessage.Log(Errors.IllegalMove);                                                                                                                         // (7) IsLegalMove (Piece POV)?",
                "\n        ",
                "\n        if (chessboard.IsLegalMove(piece,origin.Letter,origin.Number))",
                "\n            ApplicationMessage.Get(Messages.LegalMove);",
                "\n        else ",
                "\n            ApplicationMessage.Log(Errors.IllegalMove);                                                                                                                         // (8) IsLegalMove (Board POV)?",
                "\n        ",
                "\n        chessboard.PieceByCoordinate.Remove(origin);                                                                                                                            // (9) Execute the move and ",
                "\n        chessboard.PieceByCoordinate.Remove(destination);                                                                                                                       //     update the board",
                "\n        chessboard.PieceByCoordinate.Add(destination, piece);",
                "\n    }",
                "\n}"
            ],
            "metadata": {
                "tags": [],
                "trusted": true
            },
            "execution_count": 20,
            "outputs": [
                {
                    "ename": "Unhandled exception",
                    "evalue": "Compilation Error\n(12,65): error CS1503: Argument 2: cannot convert from 'out Piece [A_e0f6e595-cf4f-438c-9caf-e6c502dc9389, Version=0.0.0.0, Culture=neutral, PublicKeyToken=null]' to 'out Piece [A_f7ec1f21-450a-47e3-9ed5-aa8343545e8a, Version=0.0.0.0, Culture=neutral, PublicKeyToken=null]'\n(43,36): error CS1503: Argument 1: cannot convert from 'Piece [A_e0f6e595-cf4f-438c-9caf-e6c502dc9389, Version=0.0.0.0, Culture=neutral, PublicKeyToken=null]' to 'Piece [A_f7ec1f21-450a-47e3-9ed5-aa8343545e8a, Version=0.0.0.0, Culture=neutral, PublicKeyToken=null]'\n(50,55): error CS1503: Argument 2: cannot convert from 'Piece [A_e0f6e595-cf4f-438c-9caf-e6c502dc9389, Version=0.0.0.0, Culture=neutral, PublicKeyToken=null]' to 'Piece [A_f7ec1f21-450a-47e3-9ed5-aa8343545e8a, Version=0.0.0.0, Culture=neutral, PublicKeyToken=null]'",
                    "traceback": [
                        "Compilation Error\n(12,65): error CS1503: Argument 2: cannot convert from 'out Piece [A_e0f6e595-cf4f-438c-9caf-e6c502dc9389, Version=0.0.0.0, Culture=neutral, PublicKeyToken=null]' to 'out Piece [A_f7ec1f21-450a-47e3-9ed5-aa8343545e8a, Version=0.0.0.0, Culture=neutral, PublicKeyToken=null]'\n(43,36): error CS1503: Argument 1: cannot convert from 'Piece [A_e0f6e595-cf4f-438c-9caf-e6c502dc9389, Version=0.0.0.0, Culture=neutral, PublicKeyToken=null]' to 'Piece [A_f7ec1f21-450a-47e3-9ed5-aa8343545e8a, Version=0.0.0.0, Culture=neutral, PublicKeyToken=null]'\n(50,55): error CS1503: Argument 2: cannot convert from 'Piece [A_e0f6e595-cf4f-438c-9caf-e6c502dc9389, Version=0.0.0.0, Culture=neutral, PublicKeyToken=null]' to 'Piece [A_f7ec1f21-450a-47e3-9ed5-aa8343545e8a, Version=0.0.0.0, Culture=neutral, PublicKeyToken=null]'"
                    ],
                    "output_type": "error"
                }
            ]
        },
        {
            "cell_type": "markdown",
            "source": [
                "# TESTING ",
                "\n## No more definitions under this line"
            ],
            "metadata": {}
        },
        {
            "cell_type": "code",
            "source": [
                "ChessBoard cb = new ChessBoard();",
                "\ncb.InitialiseBoard();",
                "\n//cb.PrintBoard();"
            ],
            "metadata": {
                "tags": [],
                "trusted": true
            },
            "execution_count": 22,
            "outputs": []
        },
        {
            "cell_type": "markdown",
            "source": [
                "# chessboard.PrintBoard();"
            ],
            "metadata": {}
        },
        {
            "cell_type": "code",
            "source": [
                "//foreach (var elem in cb.MakeStringBoard()",
                "\ncb.MakeStringBoard()"
            ],
            "metadata": {
                "trusted": true
            },
            "execution_count": 23,
            "outputs": [
                {
                    "execution_count": 23,
                    "output_type": "execute_result",
                    "data": {
                        "text/plain": "     A   B   C   D   E   F   G   H\n    ___ ___ ___ ___ ___ ___ ___ ___\n1  |_R_|_H_|_P_|_Q_|_K_|_P_|_H_|_R_|  1\n2  |_P_|_P_|_P_|_P_|_P_|_P_|_P_|_P_|  2\n3  |___|___|___|___|___|___|___|___|  3\n4  |___|___|___|___|___|___|___|___|  4\n5  |___|___|___|___|___|___|___|___|  5\n6  |___|___|___|___|___|___|___|___|  6\n7  |_p_|_p_|_p_|_p_|_p_|_p_|_p_|_p_|  7\n8  |_r_|_h_|_p_|_q_|_k_|_p_|_h_|_r_|  8\n\n     A   B   C   D   E   F   G   H"
                    },
                    "metadata": {}
                }
            ]
        },
        {
            "cell_type": "code",
            "source": "",
            "metadata": {},
            "execution_count": null,
            "outputs": []
        }
    ]
}