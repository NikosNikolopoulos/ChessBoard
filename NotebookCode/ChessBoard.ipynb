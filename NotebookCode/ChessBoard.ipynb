{
    "metadata": {
        "kernelspec": {
            "display_name": "Formula Framework",
            "language": "ff",
            "name": "formula-framework"
        },
        "language_info": {
            "codemirror_mode": "C#",
            "file_extension": ".cs",
            "mimetype": "text/x-csharp",
            "name": "Formula Framework",
            "pygments_lexer": "csharp",
            "version": "3.0"
        },
        "toc-showcode": false,
        "toc-showmarkdowntxt": false,
        "toc-autonumbering": false
    },
    "nbformat_minor": 4,
    "nbformat": 4,
    "cells": [
        {
            "cell_type": "markdown",
            "source": [
                "",
                "\n"
            ],
            "metadata": {
                "tags": []
            }
        },
        {
            "cell_type": "markdown",
            "source": [
                "# Chess Board",
                "\n## Mini Project"
            ],
            "metadata": {}
        },
        {
            "cell_type": "markdown",
            "source": [
                "## Contents",
                "\n",
                "\n1. [Enum Declaration](#tr)",
                "\n    1. [Displacement Type](#DisplacementType)",
                "\n    2. [Colors](#Colors)",
                "\n    3. [Messages](#Messages)",
                "\n    4. [Errors](#Errors)",
                "\n    5. [Pieces](#Pieces)",
                "\n2. [Static Classes](#StaticClasses)",
                "\n    1. [Letters](#Letters)",
                "\n    2. [Numbers](#Numbers)",
                "\n    3. [ApplicationMessage](#ApplicationMessage)",
                "\n3. [Record Declaration](#RecordDeclaration)",
                "\n    1. [Coordinate](#Coordinate)",
                "\n4. [Classes](#Classes)",
                "\n    1. [Piece](#Piece)",
                "\n    2. [ChessBoard](#ChessBoard)"
            ],
            "metadata": {}
        },
        {
            "cell_type": "markdown",
            "source": [
                "<A id=\"tr\"></A> ",
                "\n### Enum Declaratio"
            ],
            "metadata": {}
        },
        {
            "cell_type": "markdown",
            "source": [
                "<A id = 'DisplacementType'></A>",
                "\n#### `DisplacementType`"
            ],
            "metadata": {}
        },
        {
            "cell_type": "code",
            "source": [
                "public enum DisplacementType",
                "\n{",
                "\n    North, NorthEast, East, SouthEast, South, SouthWest, West, NorthWest",
                "\n}"
            ],
            "metadata": {
                "trusted": true
            },
            "execution_count": 63,
            "outputs": []
        },
        {
            "cell_type": "markdown",
            "source": [
                "<A id = 'Colors'></A>",
                "\n#### `Colors`"
            ],
            "metadata": {}
        },
        {
            "cell_type": "code",
            "source": [
                "public enum Colors",
                "\n{",
                "\n    Black, White",
                "\n}"
            ],
            "metadata": {
                "trusted": true
            },
            "execution_count": 64,
            "outputs": []
        },
        {
            "cell_type": "markdown",
            "source": [
                "<A id = 'Messages'></A>",
                "\n#### `Messages`"
            ],
            "metadata": {}
        },
        {
            "cell_type": "code",
            "source": [
                "public enum Messages",
                "\n{",
                "\n    Notation, ColumnsTop, ColumnsBot, RowsLeft, RowsRight, PieceInCell, EmptyCell, SelectPiece, ValidInput, LegalMove, SelectDestination, UndoSelection, NextPlayerColor, NextPlayer, WinnerMessage, ValidForm, ValidColor",
                "\n}"
            ],
            "metadata": {
                "trusted": true
            },
            "execution_count": 65,
            "outputs": []
        },
        {
            "cell_type": "markdown",
            "source": [
                "<A id = 'Errors'></A>",
                "\n#### `Errors`"
            ],
            "metadata": {}
        },
        {
            "cell_type": "code",
            "source": [
                "public enum Errors ",
                "\n{",
                "\n    InvalidLength, InvalidInput, EmptySelection, WrongColor, IllegalMove, InvalidForm,",
                "\n}"
            ],
            "metadata": {
                "trusted": true
            },
            "execution_count": 66,
            "outputs": []
        },
        {
            "cell_type": "markdown",
            "source": [
                "<A id = 'Pieces'></A>",
                "\n#### `Pieces`"
            ],
            "metadata": {}
        },
        {
            "cell_type": "code",
            "source": [
                "public enum Pieces",
                "\n{",
                "\n    Pawn, Rook, Knight, Bishop, Queen, King",
                "\n}"
            ],
            "metadata": {
                "trusted": true
            },
            "execution_count": 67,
            "outputs": []
        },
        {
            "cell_type": "markdown",
            "source": [
                "<A id = \"StaticClasses\"></A>",
                "\n### Static Classes"
            ],
            "metadata": {}
        },
        {
            "cell_type": "markdown",
            "source": [
                "<A id = 'Letters'></A>",
                "\n#### `Letters`"
            ],
            "metadata": {}
        },
        {
            "cell_type": "code",
            "source": [
                "public static class Letters ",
                "\n{",
                "\n    public const string A = \"A\";",
                "\n    public const string B = \"B\";",
                "\n    public const string C = \"C\";",
                "\n    public const string D = \"D\";",
                "\n    public const string E = \"E\"; ",
                "\n    public const string F = \"F\";",
                "\n    public const string G = \"G\";",
                "\n    public const string H = \"H\";",
                "\n    ",
                "\n    public static int ToNum (string x) {",
                "\n        switch (x)",
                "\n        {",
                "\n            case A : return 1;",
                "\n            case B : return 2;",
                "\n            case C : return 3;",
                "\n            case D : return 4; ",
                "\n            case E : return 5;",
                "\n            case F : return 6;",
                "\n            case G : return 7;",
                "\n            case H : return 8;",
                "\n                ",
                "\n            default : return 0;",
                "\n        }",
                "\n    }",
                "\n        ",
                "\n    public static string ToLet (int x) {",
                "\n        switch (x)",
                "\n        {",
                "\n            case 1 : return \"A\";",
                "\n            case 2 : return \"B\";",
                "\n            case 3 : return \"C\";",
                "\n            case 4 : return \"D\"; ",
                "\n            case 5 : return \"E\";",
                "\n            case 6 : return \"F\";",
                "\n            case 7 : return \"G\";",
                "\n            case 8 : return \"H\";",
                "\n                ",
                "\n            default : return \"Z\";",
                "\n        }",
                "\n    }",
                "\n}"
            ],
            "metadata": {
                "trusted": true
            },
            "execution_count": 68,
            "outputs": []
        },
        {
            "cell_type": "markdown",
            "source": [
                "<A id = \"Numbers\"></A>",
                "\n#### `Numbers`"
            ],
            "metadata": {}
        },
        {
            "cell_type": "code",
            "source": [
                "public static class Numbers ",
                "\n{    ",
                "\n    public static int ToNum (string x) {",
                "\n        switch (x)",
                "\n        {",
                "\n            case \"1\" : return 1;",
                "\n            case \"2\" : return 2;",
                "\n            case \"3\" : return 3;",
                "\n            case \"4\" : return 4; ",
                "\n            case \"5\" : return 5;",
                "\n            case \"6\" : return 6;",
                "\n            case \"7\" : return 7;",
                "\n            case \"8\" : return 8;",
                "\n                ",
                "\n            default : return 0;",
                "\n        }",
                "\n    }",
                "\n}"
            ],
            "metadata": {
                "trusted": true
            },
            "execution_count": 69,
            "outputs": []
        },
        {
            "cell_type": "markdown",
            "source": [
                "<A id = 'ApplicationMessage'></A> ",
                "\n#### `ApplicationMessage`"
            ],
            "metadata": {}
        },
        {
            "cell_type": "code",
            "source": [
                "public static class ApplicationMessage",
                "\n{      ",
                "\n    public static string Get(Messages message, Colors blackOrWhite = Colors.White, int number = 1, string Symbol = \"P\")",
                "\n    {",
                "\n        string msg = \"\";",
                "\n",
                "\n        switch (message)",
                "\n        {",
                "\n            case Messages.Notation:",
                "\n                msg = \"<=========================================>\" +",
                "\n                      \"\\n<                 RULES                   >\" +",
                "\n                      \"\\n<                                         >\" +",
                "\n                      \"\\n< 1.1 CONVENTION                          >\" +",
                "\n                      \"\\n<  The white pieces are represented with  >\" +",
                "\n                      \"\\n< capital letters whereas the black ones  >\" +",
                "\n                      \"\\n< are represented with small letters.     >\" +",
                "\n                      \"\\n<                                         >\" +",
                "\n                      \"\\n<  To UNDO a piece selection enter \\\"\\\" in  >\" +",
                "\n                      \"\\n< the destination coordinates field for   >\" +",
                "\n                      \"\\n< your selected piece.                    >\" +",
                "\n                      \"\\n<                                         >\" +",
                "\n                      \"\\n< 1.2 NOTATION                            >\" +",
                "\n                      \"\\n<  P --> white pawn    p --> black pawn   >\" +",
                "\n                      \"\\n<  R --> white rook    r --> black rook   >\" +",
                "\n                      \"\\n<  H --> white knight  h --> black knight >\" +",
                "\n                      \"\\n<  B --> white bishop  b --> black bishop >\" +",
                "\n                      \"\\n<  Q --> white queen   q --> black queen  >\" +",
                "\n                      \"\\n<  K --> white king    k --> black king   >\" +",
                "\n                      \"\\n<                                         >\" +",
                "\n                      \"\\n<=========================================>\";",
                "\n                return msg;",
                "\n            case Messages.SelectPiece:",
                "\n                msg = \"Please enter the coordinates of the piece\" +",
                "\n                      \"\\nyou would like to move (ex. of format A2):\" +",
                "\n                      \"\\n__________________________________________\";",
                "\n                return msg;",
                "\n            case Messages.ValidInput:",
                "\n                msg = \"Input is valid.\" +",
                "\n                      \"\\n__________________________________________\";",
                "\n                return msg;",
                "\n            case Messages.LegalMove:",
                "\n                msg = \"The selected operation is valid.\" +",
                "\n                      \"\\n__________________________________________\";",
                "\n                return msg;",
                "\n            case Messages.SelectDestination:",
                "\n                msg = \"Please enter the coordinates of the cell\" +",
                "\n                      \"\\nyou would like to move your piece to:\" +",
                "\n                      \"\\n__________________________________________\";",
                "\n                return msg;",
                "\n            case Messages.UndoSelection:",
                "\n                msg = \"Undoing selection.\" +",
                "\n                      \"\\n__________________________________________\";",
                "\n                return msg;",
                "\n            case Messages.NextPlayerColor:",
                "\n                msg = $\"\\n{blackOrWhite}'s turn!\" +",
                "\n                      \"\\n__________________________________________\";",
                "\n                return msg;",
                "\n            case Messages.NextPlayer:",
                "\n                msg = \"\\nNext player's turn!\" +",
                "\n                      \"\\n__________________________________________\";",
                "\n                return msg;",
                "\n            case Messages.ColumnsTop:",
                "\n                msg = \"     A   B   C   D   E   F   G   H\" +",
                "\n                      \"\\n    ___ ___ ___ ___ ___ ___ ___ ___\";",
                "\n                return msg;",
                "\n            case Messages.ColumnsBot:",
                "\n                msg = \"\\n     A   B   C   D   E   F   G   H\";",
                "\n                return msg;",
                "\n            case Messages.RowsLeft:",
                "\n                msg = number.ToString() + \"  \";",
                "\n                return msg;",
                "\n            case Messages.RowsRight:",
                "\n                msg = \"|  \" + number.ToString();",
                "\n                return msg;",
                "\n            case Messages.PieceInCell:",
                "\n                msg = \"|_\" + Symbol.ToString() + \"_\";",
                "\n                return msg;",
                "\n            case Messages.EmptyCell:",
                "\n                msg = \"|___\";",
                "\n                return msg;",
                "\n            case Messages.WinnerMessage:",
                "\n                msg = $\"Congratulations!!! {blackOrWhite}'s win!\" +",
                "\n                      \"\\n__________________________________________\";",
                "\n                return msg;",
                "\n            default:",
                "\n                return msg;",
                "\n        }",
                "\n    }",
                "\n    ",
                "\n    public static void Log(Errors error, Colors blackOrWhite = Colors.White)",
                "\n    {",
                "\n        string msg = \"\";",
                "\n        switch (error)",
                "\n        {",
                "\n            case Errors.InvalidLength:",
                "\n                msg = \"Input should be 2 characters long.\" +",
                "\n                      \"\\n__________________________________________\";",
                "\n                throw new ArgumentException(msg);",
                "\n            case Errors.InvalidForm:",
                "\n                msg = \"Input has invalid form.\" +",
                "\n                      \"\\n__________________________________________\";",
                "\n                throw new ArgumentException(msg);",
                "\n            case Errors.InvalidInput:",
                "\n                msg = \"Input is invalid.\" +",
                "\n                      \"\\n__________________________________________\";",
                "\n                throw new ArgumentException(msg);",
                "\n            case Errors.WrongColor:",
                "\n                msg = $\"Select a {blackOrWhite} piece.\" +",
                "\n                      \"\\n__________________________________________\";",
                "\n                throw new ArgumentException(msg);",
                "\n            case Errors.EmptySelection:",
                "\n                msg = \"The cell you have selected is empty.\" +",
                "\n                      \"\\n__________________________________________\";",
                "\n                throw new ArgumentException(msg);",
                "\n            case Errors.IllegalMove:",
                "\n                msg = \"Illegal operation! Please try again.\" +",
                "\n                      \"\\n__________________________________________\";",
                "\n                throw new ArgumentException(msg);",
                "\n        }",
                "\n    }",
                "\n}"
            ],
            "metadata": {
                "trusted": true
            },
            "execution_count": 70,
            "outputs": []
        },
        {
            "cell_type": "markdown",
            "source": [
                "`Kinds`"
            ],
            "metadata": {}
        },
        {
            "cell_type": "code",
            "source": [
                "public static class Kinds",
                "\n{",
                "\n    public static Enum toKind(string symbol)",
                "\n    {",
                "\n        switch (symbol)",
                "\n        {",
                "\n            case \"p\":  case \"P\":  return Pieces.Pawn;",
                "\n            case \"r\":  case \"R\":  return Pieces.Rook;",
                "\n            case \"h\":  case \"H\":  return Pieces.Knight;",
                "\n            case \"b\":  case \"B\":  return Pieces.Bishop;",
                "\n            case \"q\":  case \"Q\":  return Pieces.Queen;",
                "\n            case \"k\":  case \"K\":  return Pieces.King; ",
                "\n            default : return null;",
                "\n        }",
                "\n    }",
                "\n}"
            ],
            "metadata": {
                "trusted": true
            },
            "execution_count": 71,
            "outputs": []
        },
        {
            "cell_type": "markdown",
            "source": [
                "<A id = \"RecordDeclaration\"></A>",
                "\n### Record Declaration"
            ],
            "metadata": {}
        },
        {
            "cell_type": "markdown",
            "source": [
                "<A id = \"Coordinate\"></A>",
                "\n#### `Coordinate`"
            ],
            "metadata": {}
        },
        {
            "cell_type": "code",
            "source": [
                "public record Coordinate ",
                "\n{",
                "\n    public string Letter {get; init;}",
                "\n    public int Number {get; init;}",
                "\n    ",
                "\n    public Coordinate (string letter, int number)",
                "\n    {",
                "\n        Letter = letter;",
                "\n        Number = number;",
                "\n        if(!this.IsValid())",
                "\n            ApplicationMessage.Log(Errors.InvalidInput); ",
                "\n    }",
                "\n    ",
                "\n    public bool IsValid()",
                "\n    {",
                "\n        if (Letters.ToNum(Letter) < 1 || Letters.ToNum(Letter) > 8 || Number < 1 || Number > 8)                                                                                 //out of bounds check",
                "\n        {",
                "\n            return false;",
                "\n        }",
                "\n        return true;",
                "\n    }",
                "\n}"
            ],
            "metadata": {
                "trusted": true
            },
            "execution_count": 72,
            "outputs": []
        },
        {
            "cell_type": "code",
            "source": [
                "public record ImportExportRecord",
                "\n{",
                "\n    public string Letter {get; set;}",
                "\n    public int Number {get; set;} ",
                "\n    public Pieces Kind {get; set;}",
                "\n    public Colors Color {get; set;}",
                "\n}"
            ],
            "metadata": {
                "trusted": true
            },
            "execution_count": 73,
            "outputs": []
        },
        {
            "cell_type": "markdown",
            "source": [
                "<A id = \"Classes\"></A>",
                "\n### Classes"
            ],
            "metadata": {}
        },
        {
            "cell_type": "markdown",
            "source": [
                "<A id = \"Piece\"></A>",
                "\n#### `Piece`"
            ],
            "metadata": {}
        },
        {
            "cell_type": "code",
            "source": [
                "public class Piece                                                                                                                                                              //class that all chessboard pieces should inherit",
                "\n{",
                "\n    public Colors Color {get; init;}                                                                                                                                            //Color property (setters and getters)",
                "\n    public string Symbol {get; init;}                                                                                                                                           //Symbol property (setters and getters)",
                "\n    public Coordinate Position {get; set;}                                                                                                                                      //Coordinate property (setters and getters)",
                "\n    ",
                "\n    public Piece(Colors c = Colors.White, Coordinate p = null, Pieces kind = Pieces.Pawn)",
                "\n    {",
                "\n        Color = c;",
                "\n        Position = p;",
                "\n        switch (kind)",
                "\n        {",
                "\n            case Pieces.Pawn: Symbol = (c == Colors.White) ? \"P\":\"p\"; break; ",
                "\n            case Pieces.Knight: Symbol = (c == Colors.White) ? \"H\":\"h\"; break;",
                "\n            case Pieces.Rook: Symbol = (c == Colors.White) ? \"R\":\"r\"; break; ",
                "\n            case Pieces.Bishop: Symbol = (c == Colors.White) ? \"B\":\"b\"; break;",
                "\n            case Pieces.Queen: Symbol = (c == Colors.White) ? \"Q\":\"q\"; break;",
                "\n            case Pieces.King: Symbol = (c == Colors.White) ? \"K\":\"k\"; break;",
                "\n                ",
                "\n        }",
                "\n    }",
                "\n    ",
                "\n    public bool IsLegalMove(string letter, int number)",
                "\n    {",
                "\n        int x1 = Letters.ToNum(Position.Letter);                                                                                                                                //intilialise",
                "\n        int y1 = Position.Number;                                                                                                                                               //intilialise",
                "\n        int x2 = Letters.ToNum(letter);                                                                                                                                         //intilialise",
                "\n        int y2 = number;                                                                                                                                                        //intilialise",
                "\n        ",
                "\n        var symbol = \"\";",
                "\n        ",
                "\n        if (symbol == \"p\" || symbol == \"P\")",
                "\n        {",
                "\n                if( (Color == Colors.Black && y1 <= y2)                               ||                                                                                        //wrong direction for black",
                "\n                    (Color == Colors.White && y1 >= y2)                               ||                                                                                        //wrong direction for white",
                "\n                    (Color == Colors.Black && y1 - y2 < 1 && y1 - y2 > 2  && y1 != 7) ||                                                                                        //vertical untiary movement check",
                "\n                    (Color == Colors.White && y2 - y1 < 1 && y2 - y1 > 2  && y1 != 2) ||                                                                                        //vertical untiary movement check",
                "\n                    (Color == Colors.Black && y1 == 7 && y1 - y2 > 2)                 ||                                                                                        //allow for initial jump for black",
                "\n                    (Color == Colors.White && y1 == 2 && y2 - y1 > 2) )                                                                                                         //allow for initial jump for white                                                             ",
                "\n                    return false;",
                "\n        }",
                "\n       if (symbol == \"h\" || symbol == \"H\")",
                "\n        {",
                "\n            if ((Math.Abs(x1 - x2) != 1 || Math.Abs(y1 - y2) != 2))",
                "\n                return false;",
                "\n            if ((Math.Abs(x1 - x2) != 2 || Math.Abs(y1 - y2) != 1))",
                "\n                return false;",
                "\n        }",
                "\n        if (symbol == \"r\" || symbol == \"R\")",
                "\n        {",
                "\n            if (x2 != x1 && y2 != y1)",
                "\n                return false;",
                "\n        }",
                "\n        if (symbol == \"b\" || symbol == \"B\")",
                "\n        {",
                "\n            if (Math.Abs(x1 - x2) != Math.Abs(y1 - y2))",
                "\n                return false;",
                "\n        }",
                "\n        if (symbol == \"q\" || symbol == \"Q\")",
                "\n        {",
                "\n            if ((x2 != x1 && y2 != y1) && (Math.Abs(x1 - x2) != Math.Abs(y1 - y2)))",
                "\n                return false;",
                "\n        }",
                "\n        if (symbol == \"k\" || symbol == \"K\")",
                "\n        {",
                "\n            if (Math.Abs(y2 - y1) != 1 && Math.Abs(x2 - x1) != 1)",
                "\n                return false;",
                "\n        }",
                "\n        return true;",
                "\n    }",
                "\n}"
            ],
            "metadata": {
                "trusted": true
            },
            "execution_count": 74,
            "outputs": []
        },
        {
            "cell_type": "markdown",
            "source": [
                "<A id = \"ChessBoard\"></A>",
                "\n#### `ChessBoard`"
            ],
            "metadata": {}
        },
        {
            "cell_type": "code",
            "source": [
                "public class ChessBoard                                                                                                                                                         //illustrates a Chess Board",
                "\n{",
                "\n    private Dictionary<Coordinate, Piece> PieceByCoordinate {get; set;} = new Dictionary<Coordinate, Piece>();                                                                  //ValueByPiece",
                "\n    private bool isWhitesTurn = true;",
                "\n    ",
                "\n    public void Resume(ImportExportRecord[] ImportExportRecordList)",
                "\n    {",
                "\n        PieceByCoordinate.Clear();",
                "\n        foreach (var ListItem in ImportExportRecordList)",
                "\n        {",
                "\n            Coordinate coord = new Coordinate(ListItem.Letter,ListItem.Number);",
                "\n            Piece piece = new Piece(ListItem.Color, coord, ListItem.Kind);",
                "\n            PieceByCoordinate.Add(coord, piece);",
                "\n        }",
                "\n    }",
                "\n    ",
                "\n    public ImportExportRecord[] Save()",
                "\n    {",
                "\n        List<ImportExportRecord> ImportExportRecordList = new List<ImportExportRecord>();",
                "\n        foreach (var KeyValuePair in PieceByCoordinate)",
                "\n        {",
                "\n            var ListItem = new ImportExportRecord();",
                "\n            ListItem.Letter = KeyValuePair.Key.Letter;",
                "\n            ListItem.Number = KeyValuePair.Key.Number;",
                "\n            ListItem.Color = KeyValuePair.Value.Color;",
                "\n            ListItem.Kind = (Pieces) Kinds.toKind(KeyValuePair.Value.Symbol);",
                "\n            ImportExportRecordList.Add(ListItem);",
                "\n        }",
                "\n        return ImportExportRecordList.ToArray();",
                "\n    }",
                "\n    ",
                "\n    public bool IsPieceInPath(int x1, int y1, int x2, int y2, DisplacementType displacementType)                                                                                //a method useful for *Rook* and *Bishop* pieces",
                "\n    {",
                "\n        int jump = (y2 == y1) ? Math.Abs(x1 - x2) : Math.Abs(y1 - y2);",
                "\n",
                "\n        for (int step = 1; step < jump; step++)",
                "\n        {",
                "\n            switch (displacementType)",
                "\n            {",
                "\n                case DisplacementType.East:  if (PieceByCoordinate.ContainsKey(new Coordinate(Letters.ToLet(x1 + step), y1))) return true;  break;                              //rook movement ...",
                "\n                case DisplacementType.West:  if (PieceByCoordinate.ContainsKey(new Coordinate(Letters.ToLet(x1 - step), y1))) return true;  break;",
                "\n                case DisplacementType.North:  if (PieceByCoordinate.ContainsKey(new Coordinate(Letters.ToLet(x1), y1 - step))) return true;  break;",
                "\n                case DisplacementType.South:  if (PieceByCoordinate.ContainsKey(new Coordinate(Letters.ToLet(x1), y1 + step))) return true;  break;                             //rook movement",
                "\n                    ",
                "\n                case DisplacementType.SouthEast:  if (PieceByCoordinate.ContainsKey(new Coordinate(Letters.ToLet(x1 + step), y1 + step))) return true;  break;                  //bishop movement ...",
                "\n                case DisplacementType.NorthWest:  if (PieceByCoordinate.ContainsKey(new Coordinate(Letters.ToLet(x1 - step), y1 - step))) return true;  break;",
                "\n                case DisplacementType.SouthWest:  if (PieceByCoordinate.ContainsKey(new Coordinate(Letters.ToLet(x1 - step), y1 + step))) return true;  break;",
                "\n                case DisplacementType.NorthEast:  if (PieceByCoordinate.ContainsKey(new Coordinate(Letters.ToLet(x1 + step), y1 - step))) return true;  break;                  //bishop movement",
                "\n            }",
                "\n        }",
                "\n        return false;",
                "\n    }",
                "\n    ",
                "\n    public bool IsLegalMove(Piece piece, string letter, int number) ",
                "\n    {",
                "\n        Piece pieceAtDestination = new Piece();    ",
                "\n        ",
                "\n        int x1 = Letters.ToNum(piece.Position.Letter);                                                                                                                          //introduce convenient notation for validation",
                "\n        int y1 = piece.Position.Number;                                                                                                                                         //int (x1,y1) ----> origin piece coords",
                "\n        int x2 = Letters.ToNum(letter);                                                                                                                                         //int (x2,y2) ----> target piece coords",
                "\n        int y2 = number;",
                "\n        ",
                "\n        if( PieceByCoordinate.TryGetValue(new Coordinate(letter,number), out pieceAtDestination) )",
                "\n        {",
                "\n            if (pieceAtDestination.Color == piece.Color)",
                "\n                return false;",
                "\n            ",
                "\n            if (piece.Symbol == \"p\" || piece.Symbol == \"P\")",
                "\n            {",
                "\n                if (IsPieceInPath(x1, y1, x2, y2, y2 > y1 ? DisplacementType.North : DisplacementType.South))                                                                   //don't allow for jumps over other pawns ",
                "\n                    return false;                                                                                                                                               //allow for white piece forward diagonal",
                "\n                if (piece.Color == Colors.White)                                                                                                                                //movement for increasing y",
                "\n                    return (y2-y1 == 1 && Math.Abs(x1-x2) == 1)? true: false;                                                                                                   //allow for black piece forward diagonal",
                "\n                else                                                                                                                                                            //movement for decreasing y ",
                "\n                    return (y1-y2 == 1 && Math.Abs(x1-x2) == 1)? true: false;",
                "\n            }                                                           ",
                "\n        }",
                "\n                                                                                                   ",
                "\n        if (piece.Symbol == \"r\" || piece.Symbol == \"R\") ",
                "\n        {",
                "\n            if (y2 == y1)  if (IsPieceInPath(x1, y1, x2, y2, x2 > x1 ? DisplacementType.East : DisplacementType.West))  return false;",
                "\n            if (x2 == x1)  if (IsPieceInPath(x1, y1, x2, y2, y2 > y1 ? DisplacementType.South : DisplacementType.North))  return false;",
                "\n        }",
                "\n        if (piece.Symbol == \"b\" || piece.Symbol == \"B\")",
                "\n        {",
                "\n            if (y2 > y1)  if (IsPieceInPath(x1, y1, x2, y2, x2 > x1 ? DisplacementType.SouthEast : DisplacementType.SouthWest))  return false;",
                "\n            if (y2 < y1)  if (IsPieceInPath(x1, y1, x2, y2, x2 > x1 ? DisplacementType.NorthEast : DisplacementType.NorthWest))  return false;",
                "\n        }",
                "\n        if (piece.Symbol == \"q\" || piece.Symbol == \"Q\")",
                "\n        {",
                "\n            if (x2 == x1)  if (IsPieceInPath(x1, y1, x2, y2, y2 > y1 ? DisplacementType.South : DisplacementType.North))  return false;",
                "\n            if (y2 == y1)  if (IsPieceInPath(x1, y1, x2, y2, x2 > x1 ? DisplacementType.East : DisplacementType.West))  return false;",
                "\n            if (y2 > y1 && x2 != x1)  if (IsPieceInPath(x1, y1, x2, y2, x2 > x1 ? DisplacementType.SouthEast : DisplacementType.SouthWest))  return false;",
                "\n            if (y2 < y1 && x2 != x1)  if (IsPieceInPath(x1, y1, x2, y2, x2 > x1 ? DisplacementType.NorthEast : DisplacementType.NorthWest))  return false; ",
                "\n        }   ",
                "\n        return true;      ",
                "\n    }",
                "\n    ",
                "\n    public void NextMove(string origin_input, string destination_input)",
                "\n    {",
                "\n        Coordinate origin = new Coordinate(origin_input[0].ToString(), Numbers.ToNum(origin_input[1].ToString()));                                                              // (1) create origin coordinate",
                "\n        if (!origin.IsValid()) ApplicationMessage.Log(Errors.InvalidInput);                                                                                                     // (2) IsValid?",
                "\n        ",
                "\n        var piece = new Piece();                                                                                                                                              ",
                "\n",
                "\n        if (!PieceByCoordinate.TryGetValue(origin,out piece))                                                                                                                   // (3) Check for collisions",
                "\n            ApplicationMessage.Log(Errors.EmptySelection);                                                                                                                      // (4) Check for color violations",
                "\n        else",
                "\n            if (!((isWhitesTurn && piece.Color == Colors.White) || (!isWhitesTurn && piece.Color == Colors.Black)))",
                "\n                ApplicationMessage.Log(Errors.WrongColor, isWhitesTurn ? Colors.White : Colors.Black);",
                "\n",
                "\n        Coordinate destination = new Coordinate(destination_input[0].ToString(), Numbers.ToNum(destination_input[1].ToString()));                                               // (5) Create destination coordinate     ",
                "\n        ",
                "\n        if (!destination.IsValid())  ApplicationMessage.Log(Errors.InvalidInput);                                                                                               // (6) IsValid (Coordinate POV)?",
                "\n",
                "\n        if (!piece.IsLegalMove(destination.Letter, destination.Number))  ApplicationMessage.Log(Errors.IllegalMove);                                                            // (7) IsLegalMove (Piece POV)?",
                "\n",
                "\n        if (!IsLegalMove(piece,destination.Letter, destination.Number))  ApplicationMessage.Log(Errors.IllegalMove);                                                            // (8) IsLegalMove (Board POV)?",
                "\n       ",
                "\n        PieceByCoordinate.Remove(origin);                                                                                                                                       // (9) Execute the move and update the board ",
                "\n        PieceByCoordinate.Remove(destination);",
                "\n        piece.Position = destination;",
                "\n        PieceByCoordinate.Add(destination, piece);",
                "\n        isWhitesTurn = !isWhitesTurn;",
                "\n    }",
                "\n    ",
                "\n    public void InitialiseBoard()                                                                                                                                               //responsible for initializing the chess Board with every piece in position",
                "\n    {",
                "\n        for (int number = 1; number <=8; number++)",
                "\n        {",
                "\n            foreach (var letter in typeof(Letters).GetFields())",
                "\n            {",
                "\n                Coordinate coord = new Coordinate((string) letter.GetValue(null), number);",
                "\n                if (number == 1 || number == 8)",
                "\n                    if ((string) letter.GetValue(null) == \"A\" ||(string) letter.GetValue(null) == \"H\")",
                "\n                    {",
                "\n                        var rook = new Piece(number == 1 ? Colors.White : Colors.Black, coord, Pieces.Rook);",
                "\n                        PieceByCoordinate.Add(coord, rook);",
                "\n                    }",
                "\n                    else if ((string) letter.GetValue(null) == \"B\" ||(string) letter.GetValue(null) == \"G\")",
                "\n                    {",
                "\n                        var knight = new Piece(number == 1 ? Colors.White : Colors.Black, coord, Pieces.Knight);",
                "\n                        PieceByCoordinate.Add(coord, knight);",
                "\n                    }",
                "\n                    else if ((string) letter.GetValue(null) == \"C\" ||(string) letter.GetValue(null) == \"F\")",
                "\n                    {",
                "\n                        var bishop = new Piece(number == 1 ? Colors.White : Colors.Black, coord, Pieces.Bishop);",
                "\n                        PieceByCoordinate.Add(coord, bishop);   ",
                "\n                    }",
                "\n                    else if ((string) letter.GetValue(null) == \"D\")",
                "\n                    {",
                "\n                        var queen = new Piece(number == 1 ? Colors.White : Colors.Black, coord, Pieces.Queen);",
                "\n                        PieceByCoordinate.Add(coord, queen);",
                "\n                    }",
                "\n                    else",
                "\n                    {",
                "\n                        var king = new Piece(number == 1 ? Colors.White : Colors.Black, coord, Pieces.King);",
                "\n                        PieceByCoordinate.Add(coord, king);",
                "\n                    }",
                "\n                else if (number == 2 || number == 7)",
                "\n                    {",
                "\n                        var pawn = new Piece(number == 2 ? Colors.White : Colors.Black, coord, Pieces.Pawn);",
                "\n                        PieceByCoordinate.Add(coord, pawn);",
                "\n                    }",
                "\n            }",
                "\n        }",
                "\n    }",
                "\n    ",
                "\n    public string MakeStringBoard()                                                                                                                                             //stringify board in one long string",
                "\n    {",
                "\n        string rows = ApplicationMessage.Get(Messages.ColumnsTop);",
                "\n        for (int number = 1; number <= 8; number++)",
                "\n        {",
                "\n            string row = \"\";",
                "\n            foreach (System.Reflection.FieldInfo letter in typeof(Letters).GetFields())",
                "\n            {",
                "\n                var coordinate = new Coordinate((string) letter.GetValue(null),number);",
                "\n                var piece = new Piece();    ",
                "\n                if ((string) letter.GetValue(null) == \"A\")",
                "\n                    row+=ApplicationMessage.Get(Messages.RowsLeft,0,number);",
                "\n",
                "\n                if (PieceByCoordinate.TryGetValue(coordinate, out piece))",
                "\n                    row+=ApplicationMessage.Get(Messages.PieceInCell,0,0, piece.Symbol);",
                "\n                else",
                "\n                    row+=ApplicationMessage.Get(Messages.EmptyCell);",
                "\n",
                "\n                if ((string) letter.GetValue(null) == \"H\")",
                "\n                    row+=ApplicationMessage.Get(Messages.RowsRight,0,number);",
                "\n            }",
                "\n            rows += \"\\n\"+row;",
                "\n        }",
                "\n        rows += \"\\n\"+ ApplicationMessage.Get(Messages.ColumnsBot);",
                "\n        return rows;",
                "\n    }",
                "\n}"
            ],
            "metadata": {
                "trusted": true
            },
            "execution_count": 75,
            "outputs": []
        },
        {
            "cell_type": "markdown",
            "source": [
                "<A id = \"Testing\"></A>",
                "\n### TESTING "
            ],
            "metadata": {}
        },
        {
            "cell_type": "code",
            "source": [
                "ChessBoard cb = new ChessBoard();",
                "\ncb.InitialiseBoard();",
                "\ncb.MakeStringBoard()"
            ],
            "metadata": {
                "tags": [],
                "trusted": true
            },
            "execution_count": 76,
            "outputs": [
                {
                    "execution_count": 76,
                    "output_type": "execute_result",
                    "data": {
                        "text/plain": "     A   B   C   D   E   F   G   H\n    ___ ___ ___ ___ ___ ___ ___ ___\n1  |_R_|_H_|_B_|_Q_|_K_|_B_|_H_|_R_|  1\n2  |_P_|_P_|_P_|_P_|_P_|_P_|_P_|_P_|  2\n3  |___|___|___|___|___|___|___|___|  3\n4  |___|___|___|___|___|___|___|___|  4\n5  |___|___|___|___|___|___|___|___|  5\n6  |___|___|___|___|___|___|___|___|  6\n7  |_p_|_p_|_p_|_p_|_p_|_p_|_p_|_p_|  7\n8  |_r_|_h_|_b_|_q_|_k_|_b_|_h_|_r_|  8\n\n     A   B   C   D   E   F   G   H"
                    },
                    "metadata": {}
                }
            ]
        },
        {
            "cell_type": "code",
            "source": [
                "cb.NextMove(\"G8\",\"F6\")"
            ],
            "metadata": {
                "trusted": true
            },
            "execution_count": 85,
            "outputs": []
        },
        {
            "cell_type": "code",
            "source": [
                "cb.MakeStringBoard()"
            ],
            "metadata": {
                "trusted": true
            },
            "execution_count": 86,
            "outputs": [
                {
                    "execution_count": 86,
                    "output_type": "execute_result",
                    "data": {
                        "text/plain": "     A   B   C   D   E   F   G   H\n    ___ ___ ___ ___ ___ ___ ___ ___\n1  |_R_|___|_B_|_Q_|_K_|_B_|_H_|_R_|  1\n2  |___|_P_|_P_|_P_|_P_|_P_|_P_|_P_|  2\n3  |_P_|___|_H_|___|___|___|___|___|  3\n4  |___|___|___|___|___|___|___|___|  4\n5  |_p_|___|___|___|___|___|___|___|  5\n6  |___|___|___|___|___|_h_|___|___|  6\n7  |___|_p_|_p_|_p_|_p_|_p_|_p_|_p_|  7\n8  |_r_|_h_|_b_|_q_|_k_|_b_|___|_r_|  8\n\n     A   B   C   D   E   F   G   H"
                    },
                    "metadata": {}
                }
            ]
        },
        {
            "cell_type": "markdown",
            "source": [
                "<A id = \"ImportExport\"></A>",
                "\n### Import / Export "
            ],
            "metadata": {}
        },
        {
            "cell_type": "code",
            "source": [
                "#r \"nuget:Systemorph.Export,1.3.0\"",
                "\n#r \"nuget:Systemorph.Import,1.3.0\"",
                "\n#r \"nuget:Systemorph.Workspace,1.2.0\""
            ],
            "metadata": {
                "trusted": true
            },
            "execution_count": 87,
            "outputs": []
        },
        {
            "cell_type": "markdown",
            "source": [
                "<A id = \"Save\"></A>",
                "\n#### Save"
            ],
            "metadata": {}
        },
        {
            "cell_type": "code",
            "source": [
                "var arr = cb.Save();",
                "\n",
                "\nawait Export.ToCsv(\"CsvExport\").WithTable<ImportExportRecord>(tableOptions => tableOptions.WithSource(x=> arr.AsQueryable()))",
                "\n                               .WithSource(Workspace)",
                "\n                               .ExecuteAsync()"
            ],
            "metadata": {
                "trusted": true
            },
            "execution_count": 88,
            "outputs": [
                {
                    "execution_count": 88,
                    "output_type": "execute_result",
                    "data": {
                        "text/html": "<table><thead><tr><th>ActivityLog</th><th>Uri</th></tr></thead><tbody><tr><td><div class=\"dni-plaintext\">{ ActivityLog { ActivityId = f8815ad7-b113-4cb4-a1a9-a38908a54609, StartDateTime = 10/13/2022 2:01:15 PM, FinishDateTime = 10/13/2022 2:01:17 PM, UserName = , Status = Succeeded, Errors = System.Collections.Generic.List`1[Systemorph.Vertex.Activities.IActivityNotification], Warnings = System.Collections.Generic.List`1[Systemorph.Vertex.Activities.IActivityNotification], Infos = System.Collections.Generic.List`1[Systemorph.Vertex.Activities.IActivityNotification] }: ActivityId: f8815ad7-b113-4cb4-a1a9-a38908a54609, StartDateTime: 2022-10-13 14:01:15Z, FinishDateTime: 2022-10-13 14:01:17Z, UserName: &lt;null&gt;, Status: Succeeded, Errors: [  ], Warnings: [  ], Infos: [  ] }</div></td><td><div class=\"dni-plaintext\">&lt;null&gt;</div></td></tr></tbody></table>"
                    },
                    "metadata": {}
                }
            ]
        },
        {
            "cell_type": "markdown",
            "source": [
                "<A id = \"Resume\"></A>",
                "\n#### Resume"
            ],
            "metadata": {}
        },
        {
            "cell_type": "code",
            "source": [
                "await Import.FromFile(\"CsvExport.csv\").WithType<ImportExportRecord>()",
                "\n                                      .WithTarget(Workspace)",
                "\n                                      .ExecuteAsync()",
                "\n    ",
                "\nvar arr = Workspace.Query<ImportExportRecord>().ToList().ToArray();"
            ],
            "metadata": {
                "trusted": true
            },
            "execution_count": 58,
            "outputs": [
                {
                    "execution_count": 58,
                    "output_type": "execute_result",
                    "data": {
                        "text/html": "<table><thead><tr><th>ActivityId</th><th>StartDateTime</th><th>FinishDateTime</th><th>UserName</th><th>Status</th><th>Errors</th><th>Warnings</th><th>Infos</th></tr></thead><tbody><tr><td><div class=\"dni-plaintext\">27e21b84-d67f-4ddb-848e-607faa60bf2f</div></td><td><div class=\"dni-plaintext\">2022-10-13 13:47:08Z</div></td><td><div class=\"dni-plaintext\">2022-10-13 13:47:08Z</div></td><td><div class=\"dni-plaintext\">&lt;null&gt;</div></td><td><div class=\"dni-plaintext\">Succeeded</div></td><td><div class=\"dni-plaintext\">[  ]</div></td><td><div class=\"dni-plaintext\">[  ]</div></td><td><div class=\"dni-plaintext\">[  ]</div></td></tr></tbody></table>"
                    },
                    "metadata": {}
                }
            ]
        },
        {
            "cell_type": "code",
            "source": [
                "var new_cb = new ChessBoard();",
                "\nnew_cb.Resume(arr);",
                "\nnew_cb.MakeStringBoard();"
            ],
            "metadata": {
                "trusted": true
            },
            "execution_count": 62,
            "outputs": [
                {
                    "execution_count": 62,
                    "output_type": "execute_result",
                    "data": {
                        "text/html": "<table><thead><tr><th><i>index</i></th><th>Letter</th><th>Number</th><th>Kind</th><th>Color</th></tr></thead><tbody><tr><td>0</td><td>H</td><td><div class=\"dni-plaintext\">8</div></td><td><span>Rook</span></td><td><span>Black</span></td></tr><tr><td>1</td><td>G</td><td><div class=\"dni-plaintext\">8</div></td><td><span>Knight</span></td><td><span>Black</span></td></tr><tr><td>2</td><td>F</td><td><div class=\"dni-plaintext\">8</div></td><td><span>Bishop</span></td><td><span>Black</span></td></tr><tr><td>3</td><td>E</td><td><div class=\"dni-plaintext\">8</div></td><td><span>King</span></td><td><span>Black</span></td></tr><tr><td>4</td><td>D</td><td><div class=\"dni-plaintext\">8</div></td><td><span>Queen</span></td><td><span>Black</span></td></tr><tr><td>5</td><td>C</td><td><div class=\"dni-plaintext\">8</div></td><td><span>Bishop</span></td><td><span>Black</span></td></tr><tr><td>6</td><td>A</td><td><div class=\"dni-plaintext\">6</div></td><td><span>Knight</span></td><td><span>Black</span></td></tr><tr><td>7</td><td>A</td><td><div class=\"dni-plaintext\">8</div></td><td><span>Rook</span></td><td><span>Black</span></td></tr><tr><td>8</td><td>H</td><td><div class=\"dni-plaintext\">7</div></td><td><span>Pawn</span></td><td><span>Black</span></td></tr><tr><td>9</td><td>G</td><td><div class=\"dni-plaintext\">7</div></td><td><span>Pawn</span></td><td><span>Black</span></td></tr><tr><td>10</td><td>F</td><td><div class=\"dni-plaintext\">7</div></td><td><span>Pawn</span></td><td><span>Black</span></td></tr><tr><td>11</td><td>E</td><td><div class=\"dni-plaintext\">5</div></td><td><span>Pawn</span></td><td><span>Black</span></td></tr><tr><td>12</td><td>D</td><td><div class=\"dni-plaintext\">7</div></td><td><span>Pawn</span></td><td><span>Black</span></td></tr><tr><td>13</td><td>C</td><td><div class=\"dni-plaintext\">7</div></td><td><span>Pawn</span></td><td><span>Black</span></td></tr><tr><td>14</td><td>B</td><td><div class=\"dni-plaintext\">7</div></td><td><span>Pawn</span></td><td><span>Black</span></td></tr><tr><td>15</td><td>A</td><td><div class=\"dni-plaintext\">7</div></td><td><span>Pawn</span></td><td><span>Black</span></td></tr><tr><td>16</td><td>H</td><td><div class=\"dni-plaintext\">2</div></td><td><span>Pawn</span></td><td><span>White</span></td></tr><tr><td>17</td><td>G</td><td><div class=\"dni-plaintext\">2</div></td><td><span>Pawn</span></td><td><span>White</span></td></tr><tr><td>18</td><td>F</td><td><div class=\"dni-plaintext\">2</div></td><td><span>Pawn</span></td><td><span>White</span></td></tr><tr><td>19</td><td>E</td><td><div class=\"dni-plaintext\">2</div></td><td><span>Pawn</span></td><td><span>White</span></td></tr><tr><td colspan=\"5\"><i>(12 more)</i></td></tr></tbody></table>"
                    },
                    "metadata": {}
                }
            ]
        },
        {
            "cell_type": "code",
            "source": "",
            "metadata": {},
            "execution_count": null,
            "outputs": []
        }
    ]
}