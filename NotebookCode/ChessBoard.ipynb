{
    "metadata": {
        "kernelspec": {
            "display_name": "Formula Framework",
            "language": "ff",
            "name": "formula-framework"
        },
        "language_info": {
            "codemirror_mode": "C#",
            "file_extension": ".cs",
            "mimetype": "text/x-csharp",
            "name": "Formula Framework",
            "pygments_lexer": "csharp",
            "version": "3.0"
        }
    },
    "nbformat_minor": 4,
    "nbformat": 4,
    "cells": [
        {
            "cell_type": "markdown",
            "source": [
                "",
                "\n"
            ],
            "metadata": {
                "tags": []
            }
        },
        {
            "cell_type": "markdown",
            "source": [
                "# ChessBoard",
                "\n## Mini Project"
            ],
            "metadata": {}
        },
        {
            "cell_type": "markdown",
            "source": [
                "### Enum Declaration"
            ],
            "metadata": {}
        },
        {
            "cell_type": "code",
            "source": [
                "enum DisplacementType",
                "\n{",
                "\n    North, NorthEast, East, SouthEast, South, SouthWest, West, NorthWest",
                "\n}"
            ],
            "metadata": {
                "trusted": true
            },
            "execution_count": 13,
            "outputs": []
        },
        {
            "cell_type": "code",
            "source": [
                "public enum Colors",
                "\n{",
                "\n    Black, White",
                "\n}"
            ],
            "metadata": {
                "trusted": true
            },
            "execution_count": 14,
            "outputs": []
        },
        {
            "cell_type": "code",
            "source": [
                "public enum Messages //TODO ERRORS",
                "\n{",
                "\n    Notation, ColumnsTop, ColumnsBot, RowsLeft, RowsRight, PieceInCell, EmptyCell, SelectPiece, InvalidLength, InvalidInput, EmptySelection, WrongColor, SelectDestination, UndoSelection, NextPlayerColor, NextPlayer, IllegalMove, WinnerMessage",
                "\n}"
            ],
            "metadata": {
                "trusted": true
            },
            "execution_count": 15,
            "outputs": []
        },
        {
            "cell_type": "code",
            "source": [
                "public class Letters {",
                "\n    public const string A = \"A\";",
                "\n    public const string B = \"B\";",
                "\n    public const string C = \"C\";",
                "\n    public const string D = \"D\";",
                "\n    public const string E = \"E\"; ",
                "\n    public const string F = \"F\";",
                "\n    public const string G = \"G\";",
                "\n    public const string H = \"H\";",
                "\n    ",
                "\n    public static int ConvertToInt (string x) {",
                "\n        switch (x)",
                "\n        {",
                "\n            case A : return 1;",
                "\n            case B : return 2;",
                "\n            case C : return 3;",
                "\n            case D : return 4; ",
                "\n            case E : return 5;",
                "\n            case F : return 6;",
                "\n            case G : return 7;",
                "\n            case H : return 8;",
                "\n                ",
                "\n            default : ApplicationMessage.PrintMessage(Messages.InvalidInput); return 0;",
                "\n        }",
                "\n    }",
                "\n}"
            ],
            "metadata": {
                "trusted": true
            },
            "execution_count": 44,
            "outputs": []
        },
        {
            "cell_type": "markdown",
            "source": [
                "### `ApplicationMessage.cs`  $\\rightarrow$ Piece.cs $\\rightarrow$ Utilities.cs  $\\rightarrow$ Pawn.cs $\\rightarrow$ Knight.cs  $\\rightarrow$ Rook.cs  $\\rightarrow$ Bishop.cs  $\\rightarrow$ Queen.cs  $\\rightarrow$ King.cs  $\\rightarrow$ ChessBoard.cs  $\\rightarrow$ ChessEngine.cs"
            ],
            "metadata": {}
        },
        {
            "cell_type": "code",
            "source": [
                "public static class ApplicationMessage",
                "\n{      ",
                "\n    public static string PrintMessage(Messages msgNumber, Colors blackOrWhite = Colors.White, int number = 1, char Symbol = 'P')",
                "\n    {",
                "\n        string msg = \"\";",
                "\n",
                "\n        switch (msgNumber)",
                "\n        {",
                "\n            case Messages.Notation:",
                "\n                msg = \"<=========================================>\" +",
                "\n                      \"\\n<                 RULES                   >\" +",
                "\n                      \"\\n<                                         >\" +",
                "\n                      \"\\n< 1.1 CONVENTION                          >\" +",
                "\n                      \"\\n<  The white pieces are represented with  >\" +",
                "\n                      \"\\n< capital letters whereas the black ones  >\" +",
                "\n                      \"\\n< are represented with small letters.     >\" +",
                "\n                      \"\\n<                                         >\" +",
                "\n                      \"\\n<  To UNDO a piece selection enter \\\"\\\" in  >\" +",
                "\n                      \"\\n< the destination coordinates field for   >\" +",
                "\n                      \"\\n< your selected piece.                    >\" +",
                "\n                      \"\\n<                                         >\" +",
                "\n                      \"\\n< 1.2 NOTATION                            >\" +",
                "\n                      \"\\n<  P --> white pawn    p --> black pawn   >\" +",
                "\n                      \"\\n<  R --> white rook    r --> black rook   >\" +",
                "\n                      \"\\n<  H --> white knight  h --> black knight >\" +",
                "\n                      \"\\n<  B --> white bishop  b --> black bishop >\" +",
                "\n                      \"\\n<  Q --> white queen   q --> black queen  >\" +",
                "\n                      \"\\n<  K --> white king    k --> black king   >\" +",
                "\n                      \"\\n<                                         >\" +",
                "\n                      \"\\n<=========================================>\";",
                "\n                return msg;",
                "\n            case Messages.SelectPiece:",
                "\n                msg = \"Please enter the coordinates of the piece\" +",
                "\n                      \"\\nyou would like to move (ex. of format A2):\" +",
                "\n                      \"\\n__________________________________________\";",
                "\n                return msg;",
                "\n            case Messages.InvalidLength:",
                "\n                msg = \"Input should be 2 characters long.\" +",
                "\n                      \"\\n__________________________________________\";",
                "\n                return msg;",
                "\n            case Messages.InvalidInput:",
                "\n                msg = \"Input is invalid.\" +",
                "\n                      \"\\n__________________________________________\";",
                "\n                return msg;",
                "\n            case Messages.EmptySelection:",
                "\n                msg = \"The cell you have selected is empty.\" +",
                "\n                      \"\\n__________________________________________\";",
                "\n                return msg;",
                "\n            case Messages.WrongColor:",
                "\n                msg = $\"Select a {blackOrWhite} piece.\" +",
                "\n                      \"\\n__________________________________________\";",
                "\n                return msg;",
                "\n            case Messages.SelectDestination:",
                "\n                msg = \"Please enter the coordinates of the cell\" +",
                "\n                      \"\\nyou would like to move your piece to:\" +",
                "\n                      \"\\n__________________________________________\";",
                "\n                return msg;",
                "\n            case Messages.UndoSelection:",
                "\n                msg = \"Undoing selection.\" +",
                "\n                      \"\\n__________________________________________\";",
                "\n                return msg;",
                "\n            case Messages.NextPlayerColor:",
                "\n                msg = $\"\\n{blackOrWhite}'s turn!\" +",
                "\n                      \"\\n__________________________________________\";",
                "\n                return msg;",
                "\n            case Messages.NextPlayer:",
                "\n                msg = \"\\nNext player's turn!\" +",
                "\n                      \"\\n__________________________________________\";",
                "\n                return msg;",
                "\n            case Messages.IllegalMove:",
                "\n                msg = \"Illegal operation! Please try again.\" +",
                "\n                      \"\\n__________________________________________\";",
                "\n                return msg;",
                "\n            case Messages.ColumnsTop:",
                "\n                msg = \"     A   B   C   D   E   F   G   H\" +",
                "\n                      \"\\n    ___ ___ ___ ___ ___ ___ ___ ___\";",
                "\n                return msg;",
                "\n            case Messages.ColumnsBot:",
                "\n                msg = \"\\n     A   B   C   D   E   F   G   H\";",
                "\n                return msg;",
                "\n            case Messages.RowsLeft:",
                "\n                msg = number.ToString() + \"  \";",
                "\n                return msg;",
                "\n            case Messages.RowsRight:",
                "\n                msg = \"|  \" + number.ToString();",
                "\n                return msg;",
                "\n            case Messages.PieceInCell:",
                "\n                msg = \"|_\" + Symbol.ToString() + \"_\";",
                "\n                return msg;",
                "\n            case Messages.EmptyCell:",
                "\n                msg = \"|___\";",
                "\n                return msg;",
                "\n            case Messages.WinnerMessage:",
                "\n                msg = $\"Congratulations!!! {blackOrWhite}'s win!\" +",
                "\n                      \"\\n__________________________________________\";",
                "\n                return msg;",
                "\n            default:",
                "\n                return msg;",
                "\n        }",
                "\n    }",
                "\n}"
            ],
            "metadata": {
                "trusted": true
            },
            "execution_count": 17,
            "outputs": []
        },
        {
            "cell_type": "markdown",
            "source": [
                "### Record Declaration"
            ],
            "metadata": {}
        },
        {
            "cell_type": "code",
            "source": [
                "public record Coordinate ",
                "\n{",
                "\n    //[] // TODO: check validation attribute",
                "\n    public char Letter {get; init;}",
                "\n    ",
                "\n    //[] // TODO: check validation attribute",
                "\n    public int Number {get; init;}",
                "\n    ",
                "\n    //public string Message;                                            //use in case of faulty input",
                "\n    ",
                "\n    public Coordinate (char letter, int number)",
                "\n    {",
                "\n        Letter = letter;",
                "\n        Number = number;",
                "\n        if(!this.Validate())",
                "\n            ApplicationMessage.PrintMessage(Messages.InvalidInput); // TODO",
                "\n    }",
                "\n    ",
                "\n    public bool Validate() // TODO",
                "\n    {",
                "\n        if (!Array.Exists(Letters, element => element == Letter) && Number > 1 && Number < 8)                       //out of bounds check",
                "\n        {",
                "\n            //Message = ApplicationMessage.PrintMessage(Messages.InvalidInput, blackOrWhite); //TODO ApplicationMessage.Print(Error.InvalidInput)",
                "\n            return false;",
                "\n        }",
                "\n        return true;",
                "\n        ",
                "\n        ",
                "\n//         else",
                "\n//         {",
                "\n//             if (chessboard.GetPieceAt(xOrig, yOrig) == null)",
                "\n//             {",
                "\n//                 ApplicationMessage.PrintMessage(Messages.EmptySelection, blackOrWhite);",
                "\n//             }",
                "\n",
                "\n//             else",
                "\n//             {",
                "\n//                 if (chessboard.GetPieceAt(xOrig, yOrig).Color != blackOrWhite)",
                "\n//                 {",
                "\n//                     ApplicationMessage.PrintMessage(Messages.WrongColor, blackOrWhite);",
                "\n//                 }",
                "\n//                 else",
                "\n//                 {",
                "\n//                     return true;",
                "\n//                 }",
                "\n//             }",
                "\n//         }",
                "\n    }",
                "\n}"
            ],
            "metadata": {
                "trusted": true
            },
            "execution_count": 18,
            "outputs": []
        },
        {
            "cell_type": "markdown",
            "source": [
                "### ApplicationMessage.cs  $\\rightarrow$ Piece.cs $\\rightarrow$ Utilities.cs  $\\rightarrow$ Pawn.cs $\\rightarrow$ Knight.cs  $\\rightarrow$ Rook.cs  $\\rightarrow$ Bishop.cs  $\\rightarrow$ Queen.cs  $\\rightarrow$ King.cs  $\\rightarrow$ ChessBoard.cs  $\\rightarrow$ ChessEngine.cs"
            ],
            "metadata": {}
        },
        {
            "cell_type": "code",
            "source": [
                "public class Piece                                                                                                                     //abstract class that all chessboard pieces should inherit",
                "\n{",
                "\n    public Colors Color {get; init;}                                                                                                       //Color property (setters and getters)",
                "\n    public char Symbol {get; init;}                                                                                                               //Symbol property (setters and getters)",
                "\n    public Coordinate Position {get; init;}",
                "\n",
                "\n//     public abstract bool IsLegalMove(char letter, int number);                                                                                  //stores \"YES\" = 1 if the move is legal and \"NO\" = 0 otherwise",
                "\n}"
            ],
            "metadata": {
                "trusted": true
            },
            "execution_count": 19,
            "outputs": []
        },
        {
            "cell_type": "markdown",
            "source": [
                "### ApplicationMessage.cs  $\\rightarrow$ Piece.cs $\\rightarrow$ Utilities.cs  $\\rightarrow$ Pawn.cs $\\rightarrow$ Knight.cs  $\\rightarrow$ Rook.cs  $\\rightarrow$ Bishop.cs  $\\rightarrow$ Queen.cs  $\\rightarrow$ King.cs  $\\rightarrow$ ChessBoard.cs  $\\rightarrow$ ChessEngine.cs"
            ],
            "metadata": {}
        },
        {
            "cell_type": "code",
            "source": [
                "public class Utilities",
                "\n{",
                "\n    public static Piece [] Distance ((char l, int n) origin, (char l, int n) destination) ",
                "\n    {",
                "\n       return null;                                                                                                                             //TODO",
                "\n    }",
                "\n    ",
                "\n    //Do I need these convertors?",
                "\n    public static char Int2Char(int intPos)",
                "\n    {",
                "\n        char ch = Convert.ToChar(intPos + 64);                                                                                                  //convert range {1,2,...,8} --> {A,B,C,...,H}",
                "\n        return ch;                                                                                                                              ",
                "\n    }",
                "\n",
                "\n    public static int Char2Int(char charPos)",
                "\n    {",
                "\n        int i = Convert.ToInt32(charPos) - 64;                                                                                                  //convert range {A,B,C,...,H} --> {1,2,...,8}",
                "\n        return i;",
                "\n    }",
                "\n}"
            ],
            "metadata": {
                "trusted": true
            },
            "execution_count": 20,
            "outputs": []
        },
        {
            "cell_type": "markdown",
            "source": [
                "### ApplicationMessage.cs  $\\rightarrow$ Piece.cs $\\rightarrow$ Utilities.cs  $\\rightarrow$ Pawn.cs $\\rightarrow$ Knight.cs  $\\rightarrow$ Rook.cs  $\\rightarrow$ Bishop.cs  $\\rightarrow$ Queen.cs  $\\rightarrow$ King.cs  $\\rightarrow$ ChessBoard.cs  $\\rightarrow$ ChessEngine.cs"
            ],
            "metadata": {}
        },
        {
            "cell_type": "code",
            "source": [
                "public class Pawn : Piece",
                "\n{",
                "\n    public Pawn (Colors c, Coordinate p)",
                "\n    {",
                "\n        Color = c;",
                "\n        Symbol = (c == Colors.White) ? 'P':'p';",
                "\n        Position = p;",
                "\n    }",
                "\n    ",
                "\n    /*(letter,number) ---> destination coordinates ",
                "\n    How do I get the current position / coordinates if no \"position\" field / property exists?",
                "\n    */",
                "\n    public bool IsLegalMove(char letter, int number)",
                "\n    {",
                "\n        int x1 = Utilities.Char2Int(letter);          //intilialise",
                "\n        int y1 = number;                              //intilialise",
                "\n        int x2 = Utilities.Char2Int(Position.Letter); //intilialise",
                "\n        int y2 = Position.Number;                     //intilialise",
                "\n        ",
                "\n        if( (Color == Colors.Black && y1 <= y2)                ||",
                "\n            (Color == Colors.White && y1 >= y2)                ||",
                "\n            (Color == Colors.Black && y1 > y2 && y2 > 2)       ||",
                "\n            (Color == Colors.White && y1 < y2 && y2 > 2)       ||",
                "\n            (Color == Colors.Black && y1 - y2 == 2 && y1 != 7) ||",
                "\n            (Color == Colors.White && y2 - y1 == 2 && y1 != 2)  )  ",
                "\n            return false;",
                "\n        return true;",
                "\n    }",
                "\n}"
            ],
            "metadata": {
                "trusted": true
            },
            "execution_count": 38,
            "outputs": []
        },
        {
            "cell_type": "markdown",
            "source": [
                "### ApplicationMessage.cs  $\\rightarrow$ Piece.cs $\\rightarrow$ Utilities.cs  $\\rightarrow$ Pawn.cs $\\rightarrow$ Knight.cs  $\\rightarrow$ Rook.cs  $\\rightarrow$ Bishop.cs  $\\rightarrow$ Queen.cs  $\\rightarrow$ King.cs  $\\rightarrow$ ChessBoard.cs  $\\rightarrow$ ChessEngine.cs"
            ],
            "metadata": {}
        },
        {
            "cell_type": "code",
            "source": [
                "public class Knight : Piece",
                "\n{",
                "\n    public Knight (Colors c, Coordinate p)",
                "\n    {",
                "\n        Color = c;",
                "\n        Symbol = (c == Colors.White) ? 'H':'h';",
                "\n        Position = p;",
                "\n    }",
                "\n    ",
                "\n    /*(letter,number) ---> destination coordinates ",
                "\n    How do I get the current position / coordinates if no \"position\" field / property exists?",
                "\n    */",
                "\n    public bool IsLegalMove(char letter, int number)",
                "\n    {",
                "\n        int x1 = Utilities.Char2Int(letter);          //intilialise",
                "\n        int y1 = number;                              //intilialise",
                "\n        int x2 = Utilities.Char2Int(Position.Letter); //intilialise",
                "\n        int y2 = Position.Number;                     //intilialise",
                "\n        ",
                "\n        if (Math.Abs(x1 - x2) == 1 && Math.Abs(y1 - y2) == 2)",
                "\n            return true;",
                "\n        if (Math.Abs(x1 - x2) == 2 && Math.Abs(y1 - y2) == 1)",
                "\n            return true;",
                "\n        return false;",
                "\n    }",
                "\n}"
            ],
            "metadata": {
                "trusted": true
            },
            "execution_count": 22,
            "outputs": []
        },
        {
            "cell_type": "markdown",
            "source": [
                "### ApplicationMessage.cs  $\\rightarrow$ Piece.cs $\\rightarrow$ Utilities.cs  $\\rightarrow$ Pawn.cs $\\rightarrow$ Knight.cs  $\\rightarrow$ Rook.cs  $\\rightarrow$ Bishop.cs  $\\rightarrow$ Queen.cs  $\\rightarrow$ King.cs  $\\rightarrow$ ChessBoard.cs  $\\rightarrow$ ChessEngine.cs"
            ],
            "metadata": {}
        },
        {
            "cell_type": "code",
            "source": [
                "public class Rook : Piece //isPlaceInBetween --> Utilities.Distance or similar ",
                "\n{",
                "\n    public Rook (Colors c, Coordinate p)",
                "\n    {",
                "\n        Color = c;",
                "\n        Symbol = (c == Colors.White) ? 'R':'r';",
                "\n        Position = p;",
                "\n    }",
                "\n    ",
                "\n    /*(letter,number) ---> destination coordinates ",
                "\n    How do I get the current position / coordinates if no \"position\" field / property exists?",
                "\n    */",
                "\n    public bool IsLegalMove(char letter, int number)",
                "\n    {",
                "\n        int x1 = Utilities.Char2Int(letter);",
                "\n        int y1 = number;",
                "\n        int x2 = Utilities.Char2Int(Position.Letter);",
                "\n        int y2 = Position.Number;",
                "\n        if ((x2 != x1 && y2 != y1) || (x2 == x1 && y2 == y1))",
                "\n            return false;",
                "\n        return true;",
                "\n    }",
                "\n}"
            ],
            "metadata": {
                "trusted": true
            },
            "execution_count": 23,
            "outputs": []
        },
        {
            "cell_type": "markdown",
            "source": [
                "### ApplicationMessage.cs  $\\rightarrow$ Piece.cs $\\rightarrow$ Utilities.cs  $\\rightarrow$ Pawn.cs $\\rightarrow$ Knight.cs  $\\rightarrow$ Rook.cs  $\\rightarrow$ Bishop.cs  $\\rightarrow$ Queen.cs  $\\rightarrow$ King.cs  $\\rightarrow$ ChessBoard.cs  $\\rightarrow$ ChessEngine.cs"
            ],
            "metadata": {}
        },
        {
            "cell_type": "code",
            "source": [
                "public class Bishop : Piece //isPlaceInBetween --> Utilities.Distance or similar ",
                "\n{",
                "\n    public Bishop (Colors c, Coordinate p)",
                "\n    {",
                "\n        Color = c;",
                "\n        Symbol = (c == Colors.White) ? 'P':'p';",
                "\n        Position = p;",
                "\n    }",
                "\n    ",
                "\n    /*(letter,number) ---> destination coordinates ",
                "\n    How do I get the current position / coordinates if no \"position\" field / property exists?",
                "\n    */",
                "\n    public bool IsLegalMove(char letter, int number)",
                "\n    {",
                "\n        int x1 = Utilities.Char2Int(letter);          //intilialise",
                "\n        int y1 = number;                              //intilialise",
                "\n        int x2 = Utilities.Char2Int(Position.Letter); //intilialise",
                "\n        int y2 = Position.Number;                     //intilialise",
                "\n        ",
                "\n        if (Math.Abs(x1 - x2) != Math.Abs(y1 - y2) || Math.Abs(x1 - x2) == 0)",
                "\n            return false;",
                "\n        return true;",
                "\n    }",
                "\n}"
            ],
            "metadata": {
                "trusted": true
            },
            "execution_count": 24,
            "outputs": []
        },
        {
            "cell_type": "markdown",
            "source": [
                "### ApplicationMessage.cs  $\\rightarrow$ Piece.cs $\\rightarrow$ Utilities.cs  $\\rightarrow$ Pawn.cs $\\rightarrow$ Knight.cs  $\\rightarrow$ Rook.cs  $\\rightarrow$ Bishop.cs  $\\rightarrow$ Queen.cs  $\\rightarrow$ King.cs  $\\rightarrow$ ChessBoard.cs  $\\rightarrow$ ChessEngine.cs"
            ],
            "metadata": {}
        },
        {
            "cell_type": "code",
            "source": [
                "public class Queen : Piece //isPlaceInBetween --> Utilities.Distance or similar ",
                "\n{",
                "\n    public Queen (Colors c, Coordinate p)",
                "\n    {",
                "\n        Color = c;",
                "\n        Symbol = (c == Colors.White) ? 'Q':'q';",
                "\n        Position = p;",
                "\n    }",
                "\n    ",
                "\n    /*(letter,number) ---> destination coordinates ",
                "\n    How do I get the current position / coordinates if no \"position\" field / property exists?",
                "\n    */",
                "\n    public bool IsLegalMove(char letter, int number)",
                "\n    {",
                "\n        Rook dummyRook = new Rook(Color, Position);",
                "\n        Bishop dummyBishop = new Bishop(Color, Position);",
                "\n        ",
                "\n        if (!dummyRook.IsLegalMove(letter, number) && !dummyBishop.IsLegalMove(letter, number))",
                "\n            return false;",
                "\n        return true;",
                "\n    }",
                "\n}"
            ],
            "metadata": {
                "trusted": true
            },
            "execution_count": 25,
            "outputs": []
        },
        {
            "cell_type": "markdown",
            "source": [
                "### ApplicationMessage.cs  $\\rightarrow$ Piece.cs $\\rightarrow$ Utilities.cs  $\\rightarrow$ Pawn.cs $\\rightarrow$ Knight.cs  $\\rightarrow$ Rook.cs  $\\rightarrow$ Bishop.cs  $\\rightarrow$ Queen.cs  $\\rightarrow$ King.cs  $\\rightarrow$ ChessBoard.cs  $\\rightarrow$ ChessEngine.cs"
            ],
            "metadata": {}
        },
        {
            "cell_type": "code",
            "source": [
                "public class King : Piece",
                "\n{",
                "\n    public King (Colors c, Coordinate p)",
                "\n    {",
                "\n        Color = c;",
                "\n        Symbol = (c == Colors.White) ? 'K':'k';",
                "\n        Position = p;",
                "\n    }",
                "\n",
                "\n    /*(letter,number) ---> destination coordinates ",
                "\n    How do I get the current position / coordinates if no \"position\" field / property exists?",
                "\n    */",
                "\n    public bool IsLegalMove(char letter, int number)",
                "\n    {",
                "\n        int x1 = Utilities.Char2Int(letter);          //intilialise",
                "\n        int y1 = number;                              //intilialise",
                "\n        int x2 = Utilities.Char2Int(Position.Letter); //intilialise",
                "\n        int y2 = Position.Number;                     //intilialise",
                "\n        ",
                "\n        if (Math.Abs(y2 - y1) != 1 && Math.Abs(x2 - x1) != 1)",
                "\n            return false;",
                "\n        return true;",
                "\n    }",
                "\n}"
            ],
            "metadata": {
                "trusted": true
            },
            "execution_count": 26,
            "outputs": []
        },
        {
            "cell_type": "markdown",
            "source": [
                "### ApplicationMessage.cs  $\\rightarrow$ Piece.cs $\\rightarrow$ Utilities.cs  $\\rightarrow$ Pawn.cs $\\rightarrow$ Knight.cs  $\\rightarrow$ Rook.cs  $\\rightarrow$ Bishop.cs  $\\rightarrow$ Queen.cs  $\\rightarrow$ King.cs  $\\rightarrow$ ChessBoard.cs  $\\rightarrow$ ChessEngine.cs"
            ],
            "metadata": {}
        },
        {
            "cell_type": "code",
            "source": [
                "public class ChessBoard                                                                                                                                     //illustrates a chess Board",
                "\n{",
                "\n    //public Dictionary<(enum1, enum2), Piece> Board { get; private set; }  // TODO",
                "\n    ",
                "\n    //public ChessBoard {  // TODO",
                "\n    //    Board = new Dictionary<string, Piece>();",
                "\n    //}",
                "\n",
                "\n    public static Dictionary<Coordinate, Piece> PieceByCoordinate {get; private set;} = new Dictionary<Coordinate, Piece>();                                                                                                 //ValueByPiece",
                "\n    // GetPieceAt(letter,number)         ----> Dictionary method --> ",
                "\n        ",
                "\n    // PlacePieceAt(letter,number,piece) ----> Dictionary method -->",
                "\n    // isGameOver()    ",
                "\n    // MovePieceAt(l1,n1,l2,n2)          ----> Dictionary method -->",
                "\n    ",
                "\n    /*IsLegalMove(l1,n1,l2,n2)",
                "\n    {",
                "\n        // Assume that user input has been checked and is of the form \"A2\" ",
                "\n        Violations",
                "\n        {",
                "\n            OutOfBounds;",
                "\n            IllegalCollision; ----> for example if OriginPiece.Color == TargetPiece.Color",
                "\n            PieceObject.IsLegalMove();",
                "\n        }",
                "\n    }",
                "\n    */",
                "\n    ",
                "\n    // InitialiseBoard ",
                "\n    public void InitialiseBoard()                                                                                                                           //responsible for initializing the chess Board with every piece in position",
                "\n    {",
                "\n        for (int number = 1; number <=8; number++)",
                "\n        {",
                "\n            foreach (char letter in Letters)//foreach (Letters letter in Enum.GetValues(typeof(Letters)))",
                "\n            {",
                "\n                if (number == 1 || number == 8)",
                "\n                    if ((char) letter == 'A' || (char) letter == 'H')",
                "\n                    {",
                "\n                        Coordinate coord = new Coordinate(letter == 'A' ? 'A':'H',number);",
                "\n                        Rook rook = new Rook(number == 1 ? Colors.White : Colors.Black, coord);",
                "\n                        PieceByCoordinate.Add(coord, rook);",
                "\n                    }",
                "\n                    else if ((char) letter == 'B' || (char) letter == 'G')",
                "\n                    {",
                "\n                        Coordinate coord = new Coordinate(letter == 'B' ? 'B':'G',number);",
                "\n                        Knight knight = new Knight(number == 1 ? Colors.White : Colors.Black, coord);",
                "\n                        PieceByCoordinate.Add(coord, knight);",
                "\n                    }",
                "\n                    else if ((char) letter == 'C' || (char) letter == 'F')",
                "\n                    {",
                "\n                        Coordinate coord = new Coordinate(letter == 'C' ? 'C':'F',number);",
                "\n                        Bishop bishop = new Bishop(number == 1 ? Colors.White : Colors.Black, coord);",
                "\n                        PieceByCoordinate.Add(coord, bishop);",
                "\n                            ",
                "\n                    }",
                "\n                    else if ((char) letter == 'D')",
                "\n                    {",
                "\n                        Coordinate coord = new Coordinate(letter, number);",
                "\n                        Queen queen = new Queen(number == 1 ? Colors.White : Colors.Black, coord);",
                "\n                        PieceByCoordinate.Add(coord, queen);",
                "\n                    }",
                "\n                    else",
                "\n                    {",
                "\n                        Coordinate coord = new Coordinate(letter, number);",
                "\n                        King king = new King(number == 1 ? Colors.White : Colors.Black, coord);",
                "\n                        PieceByCoordinate.Add(coord, king);",
                "\n                    }",
                "\n                else if (number == 2 || number == 7)",
                "\n                    {",
                "\n                        Coordinate coord = new Coordinate(letter, number);",
                "\n                        Pawn pawn = new Pawn(number == 2 ? Colors.White : Colors.Black, coord);",
                "\n                        PieceByCoordinate.Add(coord, pawn);",
                "\n                    }",
                "\n            }",
                "\n        }",
                "\n    }",
                "\n    ",
                "\n    public string MakeStringBoard()",
                "\n    {",
                "\n        string rows = ApplicationMessage.PrintMessage(Messages.ColumnsTop);",
                "\n        for (int number = 1; number <= 8; number++)",
                "\n        {",
                "\n            string row = \"\";",
                "\n            foreach (char letter in Letters)",
                "\n            {",
                "\n                var coordinate = new Coordinate(letter,number);",
                "\n                var piece = new Piece();",
                "\n                if ((char) letter == 'A')",
                "\n                    row+=ApplicationMessage.PrintMessage(Messages.RowsLeft,0,number);",
                "\n",
                "\n                if (ChessBoard.PieceByCoordinate.TryGetValue(coordinate, out piece))//Board[letter.ToString() + number.ToString()] != null)",
                "\n                    row+=ApplicationMessage.PrintMessage(Messages.PieceInCell,0,0, piece.Symbol);",
                "\n                else",
                "\n                    row+=ApplicationMessage.PrintMessage(Messages.EmptyCell);",
                "\n",
                "\n                if ((char) letter == 'H')",
                "\n                    row+=ApplicationMessage.PrintMessage(Messages.RowsRight,0,number);",
                "\n            }",
                "\n            rows += \"\\n\"+row;",
                "\n        }",
                "\n        rows += \"\\n\"+ ApplicationMessage.PrintMessage(Messages.ColumnsBot);",
                "\n        return rows;",
                "\n    }",
                "\n}"
            ],
            "metadata": {
                "trusted": true
            },
            "execution_count": 34,
            "outputs": []
        },
        {
            "cell_type": "markdown",
            "source": [
                "### ApplicationMessage.cs  $\\rightarrow$ Piece.cs $\\rightarrow$ Utilities.cs  $\\rightarrow$ Pawn.cs $\\rightarrow$ Knight.cs  $\\rightarrow$ Rook.cs  $\\rightarrow$ Bishop.cs  $\\rightarrow$ Queen.cs  $\\rightarrow$ King.cs  $\\rightarrow$ ChessBoard.cs  $\\rightarrow$ ChessEngine.cs"
            ],
            "metadata": {}
        },
        {
            "cell_type": "code",
            "source": [
                "public class ChessEngine",
                "\n{",
                "\n    public static void PlayChess()",
                "\n    {",
                "\n        var turn = true; ",
                "\n",
                "\n        ChessBoard chessboard = new ChessBoard();",
                "\n",
                "\n        ApplicationMessage.PrintMessage(Messages.Notation);",
                "\n        chessboard.InitialiseBoard();",
                "\n        chessboard.PrintBoard();",
                "\n",
                "\n        while (!chessboard.isGameOver())",
                "\n        {",
                "\n            NextMove(chessboard, turn);",
                "\n            turn = !turn;",
                "\n        }",
                "\n",
                "\n        ApplicationMessage.PrintMessage(Messages.WinnerMessage,turn ? Colors.Black.ToString(): Colors.White.ToString());",
                "\n    }",
                "\n    ",
                "\n    ",
                "\n",
                "\n    public static bool CheckOriginInput(string originInput, ChessBoard chessboard, string blackOrWhite)",
                "\n    {",
                "\n        if (originInput.Length != 2)                                                                                                          //perform a basic input validity scan",
                "\n        {",
                "\n            ApplicationMessage.PrintMessage(Messages.InvalidLength, blackOrWhite);",
                "\n        }",
                "\n        else",
                "\n        {",
                "\n            char xOrig = originInput[0];",
                "\n",
                "\n            int yOrig = Convert.ToInt32(originInput[1]) - 48;                                                                                 //ranges from [1,..,8]",
                "\n",
                "\n            if (Utilities.Char2Int(xOrig) < 1 || Utilities.Char2Int(xOrig) > 8 || yOrig < 1 || yOrig > 8)",
                "\n            {",
                "\n                ApplicationMessage.PrintMessage(Messages.InvalidInput, blackOrWhite);",
                "\n            }",
                "\n            else",
                "\n            {",
                "\n                if (chessboard.GetPieceAt(xOrig, yOrig) == null)",
                "\n                {",
                "\n                    ApplicationMessage.PrintMessage(Messages.EmptySelection, blackOrWhite);",
                "\n                }",
                "\n",
                "\n                else",
                "\n                {",
                "\n                    if (chessboard.GetPieceAt(xOrig, yOrig).Color != blackOrWhite)",
                "\n                    {",
                "\n                        ApplicationMessage.PrintMessage(Messages.WrongColor, blackOrWhite);",
                "\n                    }",
                "\n                    else",
                "\n                    {",
                "\n                        return true;",
                "\n                    }",
                "\n                }",
                "\n            }",
                "\n        }",
                "\n        return false;",
                "\n    }",
                "\n",
                "\n    public static string AcceptLegalOriginInput(ChessBoard chessboard, string blackOrWhite)",
                "\n    {",
                "\n        string originInput = \"\";",
                "\n        bool isInputValid = false;",
                "\n",
                "\n        while (isInputValid == false)",
                "\n        {",
                "\n            ApplicationMessage.PrintMessage(Messages.SelectPiece, blackOrWhite);",
                "\n",
                "\n            originInput = Console.ReadLine();",
                "\n",
                "\n            isInputValid = CheckOriginInput(originInput, chessboard, blackOrWhite);",
                "\n        }",
                "\n        return originInput;",
                "\n    }",
                "\n",
                "\n",
                "\n    public static bool CheckDestinationInput(string destinationInput, ChessBoard chessboard, Piece selectedPiece)",
                "\n    {",
                "\n        if (destinationInput.Length != 2)",
                "\n        {",
                "\n            ApplicationMessage.PrintMessage(Messages.InvalidLength);",
                "\n        }",
                "\n        else",
                "\n        {",
                "\n            char xDest = destinationInput[0];",
                "\n",
                "\n            int yDest = Convert.ToInt32(destinationInput[1]) - 48;                                                                            //ranges from [1,..,8]",
                "\n            if (Utilities.Char2Int(xDest) < 1 || Utilities.Char2Int(xDest) > 8 || yDest < 1 || yDest > 8)",
                "\n            {",
                "\n                ApplicationMessage.PrintMessage(Messages.InvalidInput);",
                "\n            }",
                "\n            else",
                "\n            {",
                "\n                if (selectedPiece.IsLegalMove(xDest, yDest, chessboard))",
                "\n                {",
                "\n                    return true;",
                "\n                }",
                "\n                ApplicationMessage.PrintMessage(Messages.IllegalMove);",
                "\n            }",
                "\n        }",
                "\n        return false;",
                "\n    }",
                "\n",
                "\n    public static string AcceptLegalDestinationInput(ChessBoard chessboard, Piece selectedPiece)",
                "\n    {",
                "\n        string destinationInput = \"\";",
                "\n        bool isInputValid = false;",
                "\n",
                "\n        while (isInputValid == false)",
                "\n        {",
                "\n            ApplicationMessage.PrintMessage(Messages.SelectDestination);",
                "\n",
                "\n            destinationInput = Console.ReadLine();",
                "\n",
                "\n            if (destinationInput == \"\")                                                                                                       //perform a basic input validity scan",
                "\n            {",
                "\n                ApplicationMessage.PrintMessage(Messages.UndoSelection);",
                "\n                return null;",
                "\n            }",
                "\n",
                "\n            isInputValid = CheckDestinationInput(destinationInput, chessboard, selectedPiece);",
                "\n        }",
                "\n",
                "\n        return destinationInput;",
                "\n    }",
                "\n",
                "\n}"
            ],
            "metadata": {
                "tags": [],
                "trusted": true
            },
            "execution_count": 13,
            "outputs": [
                {
                    "ename": "Unhandled exception",
                    "evalue": "Compilation Error\n(11,20): error CS1061: 'ChessBoard' does not contain a definition for 'PrintBoard' and no accessible extension method 'PrintBoard' accepting a first argument of type 'ChessBoard' could be found (are you missing a using directive or an assembly reference?)\n(13,28): error CS1061: 'ChessBoard' does not contain a definition for 'isGameOver' and no accessible extension method 'isGameOver' accepting a first argument of type 'ChessBoard' could be found (are you missing a using directive or an assembly reference?)\n(15,13): error CS0103: The name 'NextMove' does not exist in the current context\n(19,64): error CS1503: Argument 2: cannot convert from 'string' to 'Colors'\n(28,69): error CS1503: Argument 2: cannot convert from 'string' to 'Colors'\n(38,72): error CS1503: Argument 2: cannot convert from 'string' to 'Colors'\n(42,32): error CS1061: 'ChessBoard' does not contain a definition for 'GetPieceAt' and no accessible extension method 'GetPieceAt' accepting a first argument of type 'ChessBoard' could be found (are you missing a using directive or an assembly reference?)\n(44,78): error CS1503: Argument 2: cannot convert from 'string' to 'Colors'\n(49,36): error CS1061: 'ChessBoard' does not contain a definition for 'GetPieceAt' and no accessible extension method 'GetPieceAt' accepting a first argument of type 'ChessBoard' could be found (are you missing a using directive or an assembly reference?)\n(51,78): error CS1503: Argument 2: cannot convert from 'string' to 'Colors'\n(70,67): error CS1503: Argument 2: cannot convert from 'string' to 'Colors'\n(97,35): error CS1061: 'Piece' does not contain a definition for 'IsLegalMove' and no accessible extension method 'IsLegalMove' accepting a first argument of type 'Piece' could be found (are you missing a using directive or an assembly reference?)",
                    "traceback": [
                        "Compilation Error\n(11,20): error CS1061: 'ChessBoard' does not contain a definition for 'PrintBoard' and no accessible extension method 'PrintBoard' accepting a first argument of type 'ChessBoard' could be found (are you missing a using directive or an assembly reference?)\n(13,28): error CS1061: 'ChessBoard' does not contain a definition for 'isGameOver' and no accessible extension method 'isGameOver' accepting a first argument of type 'ChessBoard' could be found (are you missing a using directive or an assembly reference?)\n(15,13): error CS0103: The name 'NextMove' does not exist in the current context\n(19,64): error CS1503: Argument 2: cannot convert from 'string' to 'Colors'\n(28,69): error CS1503: Argument 2: cannot convert from 'string' to 'Colors'\n(38,72): error CS1503: Argument 2: cannot convert from 'string' to 'Colors'\n(42,32): error CS1061: 'ChessBoard' does not contain a definition for 'GetPieceAt' and no accessible extension method 'GetPieceAt' accepting a first argument of type 'ChessBoard' could be found (are you missing a using directive or an assembly reference?)\n(44,78): error CS1503: Argument 2: cannot convert from 'string' to 'Colors'\n(49,36): error CS1061: 'ChessBoard' does not contain a definition for 'GetPieceAt' and no accessible extension method 'GetPieceAt' accepting a first argument of type 'ChessBoard' could be found (are you missing a using directive or an assembly reference?)\n(51,78): error CS1503: Argument 2: cannot convert from 'string' to 'Colors'\n(70,67): error CS1503: Argument 2: cannot convert from 'string' to 'Colors'\n(97,35): error CS1061: 'Piece' does not contain a definition for 'IsLegalMove' and no accessible extension method 'IsLegalMove' accepting a first argument of type 'Piece' could be found (are you missing a using directive or an assembly reference?)"
                    ],
                    "output_type": "error"
                }
            ]
        },
        {
            "cell_type": "markdown",
            "source": [
                "# TESTING ",
                "\n## No more definitions under this line"
            ],
            "metadata": {}
        },
        {
            "cell_type": "code",
            "source": [
                "ChessBoard cb = new ChessBoard();",
                "\ncb.InitialiseBoard();",
                "\n//cb.PrintBoard();"
            ],
            "metadata": {
                "tags": [],
                "trusted": true
            },
            "execution_count": 35,
            "outputs": []
        },
        {
            "cell_type": "markdown",
            "source": [
                "# chessboard.PrintBoard();"
            ],
            "metadata": {}
        },
        {
            "cell_type": "code",
            "source": [
                "//foreach (var elem in cb.MakeStringBoard()",
                "\ncb.MakeStringBoard()"
            ],
            "metadata": {
                "trusted": true
            },
            "execution_count": 36,
            "outputs": [
                {
                    "execution_count": 36,
                    "output_type": "execute_result",
                    "data": {
                        "text/plain": "     A   B   C   D   E   F   G   H\n    ___ ___ ___ ___ ___ ___ ___ ___\n1  |_R_|_H_|_P_|_Q_|_K_|_P_|_H_|_R_|  1\n2  |_P_|_P_|_P_|_P_|_P_|_P_|_P_|_P_|  2\n3  |___|___|___|___|___|___|___|___|  3\n4  |___|___|___|___|___|___|___|___|  4\n5  |___|___|___|___|___|___|___|___|  5\n6  |___|___|___|___|___|___|___|___|  6\n7  |_p_|_p_|_p_|_p_|_p_|_p_|_p_|_p_|  7\n8  |_r_|_h_|_p_|_q_|_k_|_p_|_h_|_r_|  8\n\n     A   B   C   D   E   F   G   H"
                    },
                    "metadata": {}
                }
            ]
        },
        {
            "cell_type": "code",
            "source": "",
            "metadata": {},
            "execution_count": null,
            "outputs": []
        }
    ]
}