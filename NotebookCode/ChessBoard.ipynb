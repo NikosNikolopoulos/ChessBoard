{
    "metadata": {
        "kernelspec": {
            "display_name": "Formula Framework",
            "language": "ff",
            "name": "formula-framework"
        },
        "language_info": {
            "codemirror_mode": "C#",
            "file_extension": ".cs",
            "mimetype": "text/x-csharp",
            "name": "Formula Framework",
            "pygments_lexer": "csharp",
            "version": "3.0"
        }
    },
    "nbformat_minor": 4,
    "nbformat": 4,
    "cells": [
        {
            "cell_type": "markdown",
            "source": [
                "",
                "\n"
            ],
            "metadata": {
                "tags": []
            }
        },
        {
            "cell_type": "markdown",
            "source": [
                "# Chess Board",
                "\n## Mini Project"
            ],
            "metadata": {}
        },
        {
            "cell_type": "markdown",
            "source": [
                "## Contents",
                "\n",
                "\n1. [Enum Declaration](#EnumDeclaration)",
                "\n    1. [Displacement Type](#DisplacementType)",
                "\n    2. [Colors](#Colors)",
                "\n    3. [Messages](#Messages)",
                "\n    4. [Errors](#Errors)",
                "\n    5. [Pieces](#Pieces)",
                "\n2. [Static Classes](#StaticClasses)",
                "\n    1. [Letters](#Letters)",
                "\n    2. [Numbers](#Numbers)",
                "\n    3. [ApplicationMessage](#ApplicationMessage)",
                "\n3. [Record Declaration](#RecordDeclaration)",
                "\n    1. [Coordinate](#Coordinate)",
                "\n4. [Classes](#Classes)",
                "\n    1. [Piece](#Piece)",
                "\n    2. [Pawn](#Pawn)",
                "\n    3. [Knight](#Knight)",
                "\n    4. [Rook](#Rook)",
                "\n    5. [Bishop](#Bishop)",
                "\n    6. [Queen](#Queen)",
                "\n    7. [King](#King)",
                "\n    8. [Utilities](#Utilities)",
                "\n    9. [ChessBoard](#ChessBoard)"
            ],
            "metadata": {}
        },
        {
            "cell_type": "markdown",
            "source": [
                "<A id=\"EnumDeclaration\"></A> ",
                "\n### Enum Declaration"
            ],
            "metadata": {}
        },
        {
            "cell_type": "markdown",
            "source": [
                "<A id = 'DisplacementType'></A>",
                "\n### `DisplacementType` $\\rightarrow$ [Colors](#Colors) $\\rightarrow$ [Messages](#Messages) $\\rightarrow$ [Errors](#Errors) $\\rightarrow$ [Pieces](#Pieces) $\\rightarrow$ [Letters](#Letters) $\\rightarrow$ [Numbers](#Numbers) $\\rightarrow$ [ApplicationMessage](#ApplicationMessage) $\\rightarrow$ [Coordinate](#Coordinate) $\\rightarrow$ [Piece](#Piece) $\\rightarrow$ [Pawn](#Pawn) $\\rightarrow$ [Knight](Knight) $\\rightarrow$ [Rook](#Rook) $\\rightarrow$ [Bishop](#Bishop) $\\rightarrow$ [Queen](#Queen) $\\rightarrow$ [King](#King) $\\rightarrow$ [Utilities](#Utilities) $\\rightarrow$ [ChessBoard](#ChessBoard)"
            ],
            "metadata": {}
        },
        {
            "cell_type": "code",
            "source": [
                "public enum DisplacementType",
                "\n{",
                "\n    North, NorthEast, East, SouthEast, South, SouthWest, West, NorthWest",
                "\n}"
            ],
            "metadata": {
                "trusted": true
            },
            "execution_count": 1,
            "outputs": []
        },
        {
            "cell_type": "markdown",
            "source": [
                "<A id = 'Colors'></A>",
                "\n### [DisplacementType](#DisplacementType) $\\rightarrow$ `Colors` $\\rightarrow$ [Messages](#Messages) $\\rightarrow$ [Errors](#Errors) $\\rightarrow$ [Pieces](#Pieces) $\\rightarrow$ [Letters](#Letters) $\\rightarrow$ [Numbers](#Numbers) $\\rightarrow$ [ApplicationMessage](#ApplicationMessage) $\\rightarrow$ [Coordinate](#Coordinate) $\\rightarrow$ [Piece](#Piece) $\\rightarrow$ [Pawn](#Pawn) $\\rightarrow$ [Knight](Knight) $\\rightarrow$ [Rook](#Rook) $\\rightarrow$ [Bishop](#Bishop) $\\rightarrow$ [Queen](#Queen) $\\rightarrow$ [King](#King) $\\rightarrow$ [Utilities](#Utilities) $\\rightarrow$ [ChessBoard](#ChessBoard)"
            ],
            "metadata": {}
        },
        {
            "cell_type": "code",
            "source": [
                "public enum Colors",
                "\n{",
                "\n    Black, White",
                "\n}"
            ],
            "metadata": {
                "trusted": true
            },
            "execution_count": 2,
            "outputs": []
        },
        {
            "cell_type": "markdown",
            "source": [
                "<A id = 'Messages'></A>",
                "\n### [DisplacementType](#DisplacementType) $\\rightarrow$ [Colors](#Colors) $\\rightarrow$ `Messages` $\\rightarrow$ [Errors](#Errors) $\\rightarrow$ [Pieces](#Pieces) $\\rightarrow$ [Letters](#Letters) $\\rightarrow$ [Numbers](#Numbers) $\\rightarrow$ [ApplicationMessage](#ApplicationMessage) $\\rightarrow$ [Coordinate](#Coordinate) $\\rightarrow$ [Piece](#Piece) $\\rightarrow$ [Pawn](#Pawn) $\\rightarrow$ [Knight](Knight) $\\rightarrow$ [Rook](#Rook) $\\rightarrow$ [Bishop](#Bishop) $\\rightarrow$ [Queen](#Queen) $\\rightarrow$ [King](#King) $\\rightarrow$ [Utilities](#Utilities) $\\rightarrow$ [ChessBoard](#ChessBoard)"
            ],
            "metadata": {}
        },
        {
            "cell_type": "code",
            "source": [
                "public enum Messages",
                "\n{",
                "\n    Notation, ColumnsTop, ColumnsBot, RowsLeft, RowsRight, PieceInCell, EmptyCell, SelectPiece, ValidInput, LegalMove, SelectDestination, UndoSelection, NextPlayerColor, NextPlayer, WinnerMessage, ValidForm, ValidColor",
                "\n}"
            ],
            "metadata": {
                "trusted": true
            },
            "execution_count": 3,
            "outputs": []
        },
        {
            "cell_type": "markdown",
            "source": [
                "<A id = 'Errors'></A>",
                "\n### [DisplacementType](#DisplacementType) $\\rightarrow$ [Colors](#Colors) $\\rightarrow$ [Messages](#Messages) $\\rightarrow$ `Errors` $\\rightarrow$ [Pieces](#Pieces) $\\rightarrow$ [Letters](#Letters) $\\rightarrow$ [Numbers](#Numbers) $\\rightarrow$ [ApplicationMessage](#ApplicationMessage) $\\rightarrow$ [Coordinate](#Coordinate) $\\rightarrow$ [Piece](#Piece) $\\rightarrow$ [Pawn](#Pawn) $\\rightarrow$ [Knight](Knight) $\\rightarrow$ [Rook](#Rook) $\\rightarrow$ [Bishop](#Bishop) $\\rightarrow$ [Queen](#Queen) $\\rightarrow$ [King](#King) $\\rightarrow$ [Utilities](#Utilities) $\\rightarrow$ [ChessBoard](#ChessBoard)"
            ],
            "metadata": {}
        },
        {
            "cell_type": "code",
            "source": [
                "public enum Errors ",
                "\n{",
                "\n    InvalidLength, InvalidInput, EmptySelection, WrongColor, IllegalMove, InvalidForm,",
                "\n}"
            ],
            "metadata": {
                "trusted": true
            },
            "execution_count": 4,
            "outputs": []
        },
        {
            "cell_type": "markdown",
            "source": [
                "<A id = 'Pieces'></A>",
                "\n### [DisplacementType](#DisplacementType) $\\rightarrow$ [Colors](#Colors) $\\rightarrow$ [Messages](#Messages) $\\rightarrow$ [Errors](#Errors) $\\rightarrow$ `Pieces` $\\rightarrow$ [Letters](#Letters) $\\rightarrow$ [Numbers](#Numbers) $\\rightarrow$ [ApplicationMessage](#ApplicationMessage) $\\rightarrow$ [Coordinate](#Coordinate) $\\rightarrow$ [Piece](#Piece) $\\rightarrow$ [Pawn](#Pawn) $\\rightarrow$ [Knight](Knight) $\\rightarrow$ [Rook](#Rook) $\\rightarrow$ [Bishop](#Bishop) $\\rightarrow$ [Queen](#Queen) $\\rightarrow$ [King](#King) $\\rightarrow$ [Utilities](#Utilities) $\\rightarrow$ [ChessBoard](#ChessBoard)"
            ],
            "metadata": {}
        },
        {
            "cell_type": "code",
            "source": [
                "public enum Pieces",
                "\n{",
                "\n    Pawn, Rook, Knight, Bishop, Queen, King",
                "\n}"
            ],
            "metadata": {
                "trusted": true
            },
            "execution_count": 5,
            "outputs": []
        },
        {
            "cell_type": "markdown",
            "source": [
                "<A id = \"StaticClasses\"></A>",
                "\n### Static Classes"
            ],
            "metadata": {}
        },
        {
            "cell_type": "markdown",
            "source": [
                "<A id = 'Letters'></A>",
                "\n### [DisplacementType](#DisplacementType) $\\rightarrow$ [Colors](#Colors) $\\rightarrow$ [Messages](#Messages) $\\rightarrow$ [Errors](#Errors) $\\rightarrow$ [Pieces](#Pieces) $\\rightarrow$ `Letters` $\\rightarrow$ [Numbers](#Numbers) $\\rightarrow$ [ApplicationMessage](#ApplicationMessage) $\\rightarrow$ [Coordinate](#Coordinate) $\\rightarrow$ [Piece](#Piece) $\\rightarrow$ [Pawn](#Pawn) $\\rightarrow$ [Knight](Knight) $\\rightarrow$ [Rook](#Rook) $\\rightarrow$ [Bishop](#Bishop) $\\rightarrow$ [Queen](#Queen) $\\rightarrow$ [King](#King) $\\rightarrow$ [Utilities](#Utilities) $\\rightarrow$ [ChessBoard](#ChessBoard)"
            ],
            "metadata": {}
        },
        {
            "cell_type": "code",
            "source": [
                "public static class Letters ",
                "\n{",
                "\n    public const string A = \"A\";",
                "\n    public const string B = \"B\";",
                "\n    public const string C = \"C\";",
                "\n    public const string D = \"D\";",
                "\n    public const string E = \"E\"; ",
                "\n    public const string F = \"F\";",
                "\n    public const string G = \"G\";",
                "\n    public const string H = \"H\";",
                "\n    ",
                "\n    public static int ToNum (string x) {",
                "\n        switch (x)",
                "\n        {",
                "\n            case A : return 1;",
                "\n            case B : return 2;",
                "\n            case C : return 3;",
                "\n            case D : return 4; ",
                "\n            case E : return 5;",
                "\n            case F : return 6;",
                "\n            case G : return 7;",
                "\n            case H : return 8;",
                "\n                ",
                "\n            default : return 0;",
                "\n        }",
                "\n    }",
                "\n        ",
                "\n    public static string ToLet (int x) {",
                "\n        switch (x)",
                "\n        {",
                "\n            case 1 : return \"A\";",
                "\n            case 2 : return \"B\";",
                "\n            case 3 : return \"C\";",
                "\n            case 4 : return \"D\"; ",
                "\n            case 5 : return \"E\";",
                "\n            case 6 : return \"F\";",
                "\n            case 7 : return \"G\";",
                "\n            case 8 : return \"H\";",
                "\n                ",
                "\n            default : return \"Z\";",
                "\n        }",
                "\n    }",
                "\n}"
            ],
            "metadata": {
                "trusted": true
            },
            "execution_count": 6,
            "outputs": []
        },
        {
            "cell_type": "markdown",
            "source": [
                "<A id = \"Numbers\"></A>",
                "\n### [DisplacementType](#DisplacementType) $\\rightarrow$ [Colors](#Colors) $\\rightarrow$ [Messages](#Messages) $\\rightarrow$ [Errors](#Errors) $\\rightarrow$ [Pieces](#Pieces) $\\rightarrow$ [Letters](#Letters) $\\rightarrow$ `Numbers` $\\rightarrow$ [ApplicationMessage](#ApplicationMessage) $\\rightarrow$ [Coordinate](#Coordinate) $\\rightarrow$ [Piece](#Piece) $\\rightarrow$ [Pawn](#Pawn) $\\rightarrow$ [Knight](Knight) $\\rightarrow$ [Rook](#Rook) $\\rightarrow$ [Bishop](#Bishop) $\\rightarrow$ [Queen](#Queen) $\\rightarrow$ [King](#King) $\\rightarrow$ [Utilities](#Utilities) $\\rightarrow$ [ChessBoard](#ChessBoard)"
            ],
            "metadata": {}
        },
        {
            "cell_type": "code",
            "source": [
                "public static class Numbers ",
                "\n{    ",
                "\n    public static int ToNum (string x) {",
                "\n        switch (x)",
                "\n        {",
                "\n            case \"1\" : return 1;",
                "\n            case \"2\" : return 2;",
                "\n            case \"3\" : return 3;",
                "\n            case \"4\" : return 4; ",
                "\n            case \"5\" : return 5;",
                "\n            case \"6\" : return 6;",
                "\n            case \"7\" : return 7;",
                "\n            case \"8\" : return 8;",
                "\n                ",
                "\n            default : return 0;",
                "\n        }",
                "\n    }",
                "\n}"
            ],
            "metadata": {
                "trusted": true
            },
            "execution_count": 7,
            "outputs": []
        },
        {
            "cell_type": "markdown",
            "source": [
                "<A id = 'ApplicationMessage'></A> ",
                "\n### [DisplacementType](#DisplacementType) $\\rightarrow$ [Colors](#Colors) $\\rightarrow$ [Messages](#Messages) $\\rightarrow$ [Errors](#Errors) $\\rightarrow$ [Pieces](#Pieces) $\\rightarrow$ [Letters](#Letters) $\\rightarrow$ [Numbers](#Numbers) $\\rightarrow$ `ApplicationMessage` $\\rightarrow$ [Coordinate](#Coordinate) $\\rightarrow$ [Piece](#Piece) $\\rightarrow$ [Pawn](#Pawn) $\\rightarrow$ [Knight](Knight) $\\rightarrow$ [Rook](#Rook) $\\rightarrow$ [Bishop](#Bishop) $\\rightarrow$ [Queen](#Queen) $\\rightarrow$ [King](#King) $\\rightarrow$ [Utilities](#Utilities) $\\rightarrow$ [ChessBoard](#ChessBoard)"
            ],
            "metadata": {}
        },
        {
            "cell_type": "code",
            "source": [
                "public static class ApplicationMessage",
                "\n{      ",
                "\n    public static string Get(Messages message, Colors blackOrWhite = Colors.White, int number = 1, string Symbol = \"P\")",
                "\n    {",
                "\n        string msg = \"\";",
                "\n",
                "\n        switch (message)",
                "\n        {",
                "\n            case Messages.Notation:",
                "\n                msg = \"<=========================================>\" +",
                "\n                      \"\\n<                 RULES                   >\" +",
                "\n                      \"\\n<                                         >\" +",
                "\n                      \"\\n< 1.1 CONVENTION                          >\" +",
                "\n                      \"\\n<  The white pieces are represented with  >\" +",
                "\n                      \"\\n< capital letters whereas the black ones  >\" +",
                "\n                      \"\\n< are represented with small letters.     >\" +",
                "\n                      \"\\n<                                         >\" +",
                "\n                      \"\\n<  To UNDO a piece selection enter \\\"\\\" in  >\" +",
                "\n                      \"\\n< the destination coordinates field for   >\" +",
                "\n                      \"\\n< your selected piece.                    >\" +",
                "\n                      \"\\n<                                         >\" +",
                "\n                      \"\\n< 1.2 NOTATION                            >\" +",
                "\n                      \"\\n<  P --> white pawn    p --> black pawn   >\" +",
                "\n                      \"\\n<  R --> white rook    r --> black rook   >\" +",
                "\n                      \"\\n<  H --> white knight  h --> black knight >\" +",
                "\n                      \"\\n<  B --> white bishop  b --> black bishop >\" +",
                "\n                      \"\\n<  Q --> white queen   q --> black queen  >\" +",
                "\n                      \"\\n<  K --> white king    k --> black king   >\" +",
                "\n                      \"\\n<                                         >\" +",
                "\n                      \"\\n<=========================================>\";",
                "\n                return msg;",
                "\n            case Messages.SelectPiece:",
                "\n                msg = \"Please enter the coordinates of the piece\" +",
                "\n                      \"\\nyou would like to move (ex. of format A2):\" +",
                "\n                      \"\\n__________________________________________\";",
                "\n                return msg;",
                "\n            case Messages.ValidInput:",
                "\n                msg = \"Input is valid.\" +",
                "\n                      \"\\n__________________________________________\";",
                "\n                return msg;",
                "\n            case Messages.LegalMove:",
                "\n                msg = \"The selected operation is valid.\" +",
                "\n                      \"\\n__________________________________________\";",
                "\n                return msg;",
                "\n            case Messages.SelectDestination:",
                "\n                msg = \"Please enter the coordinates of the cell\" +",
                "\n                      \"\\nyou would like to move your piece to:\" +",
                "\n                      \"\\n__________________________________________\";",
                "\n                return msg;",
                "\n            case Messages.UndoSelection:",
                "\n                msg = \"Undoing selection.\" +",
                "\n                      \"\\n__________________________________________\";",
                "\n                return msg;",
                "\n            case Messages.NextPlayerColor:",
                "\n                msg = $\"\\n{blackOrWhite}'s turn!\" +",
                "\n                      \"\\n__________________________________________\";",
                "\n                return msg;",
                "\n            case Messages.NextPlayer:",
                "\n                msg = \"\\nNext player's turn!\" +",
                "\n                      \"\\n__________________________________________\";",
                "\n                return msg;",
                "\n            case Messages.ColumnsTop:",
                "\n                msg = \"     A   B   C   D   E   F   G   H\" +",
                "\n                      \"\\n    ___ ___ ___ ___ ___ ___ ___ ___\";",
                "\n                return msg;",
                "\n            case Messages.ColumnsBot:",
                "\n                msg = \"\\n     A   B   C   D   E   F   G   H\";",
                "\n                return msg;",
                "\n            case Messages.RowsLeft:",
                "\n                msg = number.ToString() + \"  \";",
                "\n                return msg;",
                "\n            case Messages.RowsRight:",
                "\n                msg = \"|  \" + number.ToString();",
                "\n                return msg;",
                "\n            case Messages.PieceInCell:",
                "\n                msg = \"|_\" + Symbol.ToString() + \"_\";",
                "\n                return msg;",
                "\n            case Messages.EmptyCell:",
                "\n                msg = \"|___\";",
                "\n                return msg;",
                "\n            case Messages.WinnerMessage:",
                "\n                msg = $\"Congratulations!!! {blackOrWhite}'s win!\" +",
                "\n                      \"\\n__________________________________________\";",
                "\n                return msg;",
                "\n            default:",
                "\n                return msg;",
                "\n        }",
                "\n    }",
                "\n    ",
                "\n    public static void Log(Errors error, Colors blackOrWhite = Colors.White)",
                "\n    {",
                "\n        string msg = \"\";",
                "\n        switch (error)",
                "\n        {",
                "\n            case Errors.InvalidLength:",
                "\n                msg = \"Input should be 2 characters long.\" +",
                "\n                      \"\\n__________________________________________\";",
                "\n                throw new ArgumentException(msg);",
                "\n            case Errors.InvalidForm:",
                "\n                msg = \"Input has invalid form.\" +",
                "\n                      \"\\n__________________________________________\";",
                "\n                throw new ArgumentException(msg);",
                "\n            case Errors.InvalidInput:",
                "\n                msg = \"Input is invalid.\" +",
                "\n                      \"\\n__________________________________________\";",
                "\n                throw new ArgumentException(msg);",
                "\n            case Errors.WrongColor:",
                "\n                msg = $\"Select a {blackOrWhite} piece.\" +",
                "\n                      \"\\n__________________________________________\";",
                "\n                throw new ArgumentException(msg);",
                "\n            case Errors.EmptySelection:",
                "\n                msg = \"The cell you have selected is empty.\" +",
                "\n                      \"\\n__________________________________________\";",
                "\n                throw new ArgumentException(msg);",
                "\n            case Errors.IllegalMove:",
                "\n                msg = \"Illegal operation! Please try again.\" +",
                "\n                      \"\\n__________________________________________\";",
                "\n                throw new ArgumentException(msg);",
                "\n        }",
                "\n    }",
                "\n}"
            ],
            "metadata": {
                "trusted": true
            },
            "execution_count": 8,
            "outputs": []
        },
        {
            "cell_type": "markdown",
            "source": [
                "<A id = \"RecordDeclaration\"></A>",
                "\n### [DisplacementType](#DisplacementType) $\\rightarrow$ [Colors](#Colors) $\\rightarrow$ [Messages](#Messages) $\\rightarrow$ [Errors](#Errors) $\\rightarrow$ [Pieces](#Pieces) $\\rightarrow$ [Letters](#Letters) $\\rightarrow$ [Numbers](#Numbers) $\\rightarrow$ [ApplicationMessage](#ApplicationMessage) $\\rightarrow$ `Coordinate` $\\rightarrow$ [Piece](#Piece) $\\rightarrow$ [Pawn](#Pawn) $\\rightarrow$ [Knight](Knight) $\\rightarrow$ [Rook](#Rook) $\\rightarrow$ [Bishop](#Bishop) $\\rightarrow$ [Queen](#Queen) $\\rightarrow$ [King](#King) $\\rightarrow$ [Utilities](#Utilities) $\\rightarrow$ [ChessBoard](#ChessBoard)"
            ],
            "metadata": {}
        },
        {
            "cell_type": "code",
            "source": [
                "public record Coordinate ",
                "\n{",
                "\n    public string Letter {get; init;}",
                "\n    public int Number {get; init;}",
                "\n    ",
                "\n    public Coordinate (string letter, int number)",
                "\n    {",
                "\n        Letter = letter;",
                "\n        Number = number;",
                "\n        if(!this.IsValid())",
                "\n            ApplicationMessage.Log(Errors.InvalidInput); ",
                "\n    }",
                "\n    ",
                "\n    public bool IsValid()",
                "\n    {",
                "\n        if (Letters.ToNum(Letter) < 1 || Letters.ToNum(Letter) > 8 || Number < 1 || Number > 8)                                                                                 //out of bounds check",
                "\n        {",
                "\n            return false;",
                "\n        }",
                "\n        return true;",
                "\n    }",
                "\n}"
            ],
            "metadata": {
                "trusted": true
            },
            "execution_count": 9,
            "outputs": []
        },
        {
            "cell_type": "markdown",
            "source": [
                "<A id = \"Classes\"></A>",
                "\n### Classes"
            ],
            "metadata": {}
        },
        {
            "cell_type": "markdown",
            "source": [
                "<A id = \"Piece\"></A>",
                "\n### [DisplacementType](#DisplacementType) $\\rightarrow$ [Colors](#Colors) $\\rightarrow$ [Messages](#Messages) $\\rightarrow$ [Errors](#Errors) $\\rightarrow$ [Pieces](#Pieces) $\\rightarrow$ [Letters](#Letters) $\\rightarrow$ [Numbers](#Numbers) $\\rightarrow$ [ApplicationMessage](#ApplicationMessage) $\\rightarrow$ [Coordinate](#Coordinate) $\\rightarrow$ `Piece` $\\rightarrow$ [Pawn](#Pawn) $\\rightarrow$ [Knight](Knight) $\\rightarrow$ [Rook](#Rook) $\\rightarrow$ [Bishop](#Bishop) $\\rightarrow$ [Queen](#Queen) $\\rightarrow$ [King](#King) $\\rightarrow$ [Utilities](#Utilities) $\\rightarrow$ [ChessBoard](#ChessBoard)"
            ],
            "metadata": {}
        },
        {
            "cell_type": "code",
            "source": [
                "public class Piece                                                                                                                                                              //class that all chessboard pieces should inherit",
                "\n{",
                "\n    public Colors Color {get; init;}                                                                                                                                            //Color property (setters and getters)",
                "\n    public string Symbol {get; init;}                                                                                                                                           //Symbol property (setters and getters)",
                "\n    public Coordinate Position {get; set;}                                                                                                                                      //Coordinate property (setters and getters)",
                "\n    ",
                "\n}"
            ],
            "metadata": {
                "trusted": true
            },
            "execution_count": 10,
            "outputs": []
        },
        {
            "cell_type": "markdown",
            "source": [
                "<A id = \"Pawn\"></A>",
                "\n### [DisplacementType](#DisplacementType) $\\rightarrow$ [Colors](#Colors) $\\rightarrow$ [Messages](#Messages) $\\rightarrow$ [Errors](#Errors) $\\rightarrow$ [Pieces](#Pieces) $\\rightarrow$ [Letters](#Letters) $\\rightarrow$ [Numbers](#Numbers) $\\rightarrow$ [ApplicationMessage](#ApplicationMessage) $\\rightarrow$ [Coordinate](#Coordinate) $\\rightarrow$ [Piece](#Piece) $\\rightarrow$ `Pawn` $\\rightarrow$ [Knight](Knight) $\\rightarrow$ [Rook](#Rook) $\\rightarrow$ [Bishop](#Bishop) $\\rightarrow$ [Queen](#Queen) $\\rightarrow$ [King](#King) $\\rightarrow$ [Utilities](#Utilities) $\\rightarrow$ [ChessBoard](#ChessBoard)"
            ],
            "metadata": {}
        },
        {
            "cell_type": "code",
            "source": [
                "public class Pawn : Piece",
                "\n{",
                "\n    public Pawn (Colors c, Coordinate p)",
                "\n    {",
                "\n        Color = c;",
                "\n        Symbol = (c == Colors.White) ? \"P\":\"p\";",
                "\n        Position = p;",
                "\n    }",
                "\n    ",
                "\n    public bool IsLegalMove(string letter, int number)                                                                                                                          //(letter,number) ---> destination coordinates ",
                "\n    {",
                "\n        int x1 = Letters.ToNum(Position.Letter);                                                                                                                                //intilialise",
                "\n        int y1 = Position.Number;                                                                                                                                               //intilialise",
                "\n        int x2 = Letters.ToNum(letter);                                                                                                                                         //intilialise",
                "\n        int y2 = number;                                                                                                                                                        //intilialise",
                "\n        ",
                "\n        if( (Color == Colors.Black && y1 <= y2)                               ||                                                                                                //wrong direction for black",
                "\n            (Color == Colors.White && y1 >= y2)                               ||                                                                                                //wrong direction for white",
                "\n            (Color == Colors.Black && y1 - y2 < 1 && y1 - y2 > 2  && y1 != 7) ||                                                                                                //vertical untiary movement check",
                "\n            (Color == Colors.White && y2 - y1 < 1 && y2 - y1 > 2  && y1 != 2))                                                                                                  //vertical untiary movement check",
                "\n            return false;",
                "\n        return true;",
                "\n    }",
                "\n}"
            ],
            "metadata": {
                "trusted": true
            },
            "execution_count": 11,
            "outputs": []
        },
        {
            "cell_type": "markdown",
            "source": [
                "<A id = \"Knight\"></A>",
                "\n### [DisplacementType](#DisplacementType) $\\rightarrow$ [Colors](#Colors) $\\rightarrow$ [Messages](#Messages) $\\rightarrow$ [Errors](#Errors) $\\rightarrow$ [Pieces](#Pieces) $\\rightarrow$ [Letters](#Letters) $\\rightarrow$ [Numbers](#Numbers) $\\rightarrow$ [ApplicationMessage](#ApplicationMessage) $\\rightarrow$ [Coordinate](#Coordinate) $\\rightarrow$ [Piece](#Piece) $\\rightarrow$ [Pawn](#Pawn) $\\rightarrow$ `Knight` $\\rightarrow$ [Rook](#Rook) $\\rightarrow$ [Bishop](#Bishop) $\\rightarrow$ [Queen](#Queen) $\\rightarrow$ [King](#King) $\\rightarrow$ [Utilities](#Utilities) $\\rightarrow$ [ChessBoard](#ChessBoard)"
            ],
            "metadata": {}
        },
        {
            "cell_type": "code",
            "source": [
                "public class Knight : Piece",
                "\n{",
                "\n    public Knight (Colors c, Coordinate p)",
                "\n    {",
                "\n        Color = c;",
                "\n        Symbol = (c == Colors.White) ? \"H\":\"h\";",
                "\n        Position = p;",
                "\n    }",
                "\n    ",
                "\n    public bool IsLegalMove(string letter, int number)                                                                                                                          //(letter,number) ---> destination coordinates ",
                "\n    {",
                "\n        int x1 = Letters.ToNum(Position.Letter);                                                                                                                                //intilialise",
                "\n        int y1 = Position.Number;                                                                                                                                               //intilialise",
                "\n        int x2 = Letters.ToNum(letter);                                                                                                                                         //intilialise",
                "\n        int y2 = number;                                                                                                                                                        //intilialise",
                "\n        ",
                "\n        if (Math.Abs(x1 - x2) == 1 && Math.Abs(y1 - y2) == 2)",
                "\n            return true;",
                "\n        if (Math.Abs(x1 - x2) == 2 && Math.Abs(y1 - y2) == 1)",
                "\n            return true;",
                "\n        return false;",
                "\n    }",
                "\n}"
            ],
            "metadata": {
                "trusted": true
            },
            "execution_count": 12,
            "outputs": []
        },
        {
            "cell_type": "markdown",
            "source": [
                "<A id = \"Rook\"></A>",
                "\n### [DisplacementType](#DisplacementType) $\\rightarrow$ [Colors](#Colors) $\\rightarrow$ [Messages](#Messages) $\\rightarrow$ [Errors](#Errors) $\\rightarrow$ [Pieces](#Pieces) $\\rightarrow$ [Letters](#Letters) $\\rightarrow$ [Numbers](#Numbers) $\\rightarrow$ [ApplicationMessage](#ApplicationMessage) $\\rightarrow$ [Coordinate](#Coordinate) $\\rightarrow$ [Piece](#Piece) $\\rightarrow$ [Pawn](#Pawn) $\\rightarrow$ [Knight](#Knight) $\\rightarrow$ `Rook` $\\rightarrow$ [Bishop](#Bishop) $\\rightarrow$ [Queen](#Queen) $\\rightarrow$ [King](#King) $\\rightarrow$ [Utilities](#Utilities) $\\rightarrow$ [ChessBoard](#ChessBoard)"
            ],
            "metadata": {}
        },
        {
            "cell_type": "code",
            "source": [
                "public class Rook : Piece",
                "\n{",
                "\n    public Rook (Colors c, Coordinate p)",
                "\n    {",
                "\n        Color = c;",
                "\n        Symbol = (c == Colors.White) ? \"R\":\"r\";",
                "\n        Position = p;",
                "\n    }",
                "\n    ",
                "\n    public bool IsLegalMove(string letter, int number)                                                                                                                          //(letter,number) ---> destination coordinates ",
                "\n    {",
                "\n        int x1 = Letters.ToNum(Position.Letter);                                                                                                                                //intilialise",
                "\n        int y1 = Position.Number;                                                                                                                                               //intilialise",
                "\n        int x2 = Letters.ToNum(letter);                                                                                                                                         //intilialise",
                "\n        int y2 = number;                                                                                                                                                        //intilialise",
                "\n        ",
                "\n        if ((x2 != x1 && y2 != y1) || (x2 == x1 && y2 == y1))",
                "\n            return false;",
                "\n        return true;",
                "\n    }",
                "\n}"
            ],
            "metadata": {
                "trusted": true
            },
            "execution_count": 13,
            "outputs": []
        },
        {
            "cell_type": "markdown",
            "source": [
                "<A id = \"Bishop\"></A>",
                "\n### [DisplacementType](#DisplacementType) $\\rightarrow$ [Colors](#Colors) $\\rightarrow$ [Messages](#Messages) $\\rightarrow$ [Errors](#Errors) $\\rightarrow$ [Pieces](#Pieces) $\\rightarrow$ [Letters](#Letters) $\\rightarrow$ [Numbers](#Numbers) $\\rightarrow$ [ApplicationMessage](#ApplicationMessage) $\\rightarrow$ [Coordinate](#Coordinate) $\\rightarrow$ [Piece](#Piece) $\\rightarrow$ [Pawn](#Pawn) $\\rightarrow$ [Knight](#Knight) $\\rightarrow$ [Rook](#Rook) $\\rightarrow$ `Bishop` $\\rightarrow$ [Queen](#Queen) $\\rightarrow$ [King](#King) $\\rightarrow$ [Utilities](#Utilities) $\\rightarrow$ [ChessBoard](#ChessBoard)"
            ],
            "metadata": {}
        },
        {
            "cell_type": "code",
            "source": [
                "public class Bishop : Piece  ",
                "\n{",
                "\n    public Bishop (Colors c, Coordinate p)",
                "\n    {",
                "\n        Color = c;",
                "\n        Symbol = (c == Colors.White) ? \"B\":\"b\";",
                "\n        Position = p;",
                "\n    }",
                "\n    ",
                "\n    public bool IsLegalMove(string letter, int number)",
                "\n    {",
                "\n        int x1 = Letters.ToNum(Position.Letter);                                                                                                                                //intilialise",
                "\n        int y1 = Position.Number;                                                                                                                                               //intilialise",
                "\n        int x2 = Letters.ToNum(letter);                                                                                                                                         //intilialise",
                "\n        int y2 = number;                                                                                                                                                        //intilialise",
                "\n        ",
                "\n        if (Math.Abs(x1 - x2) != Math.Abs(y1 - y2) || Math.Abs(x1 - x2) == 0)",
                "\n            return false;",
                "\n        return true;",
                "\n    }",
                "\n}"
            ],
            "metadata": {
                "trusted": true
            },
            "execution_count": 14,
            "outputs": []
        },
        {
            "cell_type": "markdown",
            "source": [
                "<A id = \"Queen\"></A>",
                "\n### [DisplacementType](#DisplacementType) $\\rightarrow$ [Colors](#Colors) $\\rightarrow$ [Messages](#Messages) $\\rightarrow$ [Errors](#Errors) $\\rightarrow$ [Pieces](#Pieces) $\\rightarrow$ [Letters](#Letters) $\\rightarrow$ [Numbers](#Numbers) $\\rightarrow$ [ApplicationMessage](#ApplicationMessage) $\\rightarrow$ [Coordinate](#Coordinate) $\\rightarrow$ [Piece](#Piece) $\\rightarrow$ [Pawn](#Pawn) $\\rightarrow$ [Knight](#Knight) $\\rightarrow$ [Rook](#Rook) $\\rightarrow$ [Bishop](#Bishop) $\\rightarrow$ `Queen` $\\rightarrow$ [King](#King) $\\rightarrow$ [Utilities](#Utilities) $\\rightarrow$ [ChessBoard](#ChessBoard)"
            ],
            "metadata": {}
        },
        {
            "cell_type": "code",
            "source": [
                "public class Queen : Piece ",
                "\n{",
                "\n    public Queen (Colors c, Coordinate p)",
                "\n    {",
                "\n        Color = c;",
                "\n        Symbol = (c == Colors.White) ? \"Q\":\"q\";",
                "\n        Position = p;",
                "\n    }",
                "\n",
                "\n    public bool IsLegalMove(string letter, int number)                                                                                                                          //(letter,number) ---> destination coordinates ",
                "\n    {",
                "\n        Rook dummyRook = new Rook(Color, Position);",
                "\n        Bishop dummyBishop = new Bishop(Color, Position);",
                "\n        ",
                "\n        if (!dummyRook.IsLegalMove(letter, number) && !dummyBishop.IsLegalMove(letter, number))",
                "\n            return false;",
                "\n        return true;",
                "\n    }",
                "\n}"
            ],
            "metadata": {
                "trusted": true
            },
            "execution_count": 15,
            "outputs": []
        },
        {
            "cell_type": "markdown",
            "source": [
                "<A id = \"King\"></A>",
                "\n### [DisplacementType](#DisplacementType) $\\rightarrow$ [Colors](#Colors) $\\rightarrow$ [Messages](#Messages) $\\rightarrow$ [Errors](#Errors) $\\rightarrow$ [Pieces](#Pieces) $\\rightarrow$ [Letters](#Letters) $\\rightarrow$ [Numbers](#Numbers) $\\rightarrow$ [ApplicationMessage](#ApplicationMessage) $\\rightarrow$ [Coordinate](#Coordinate) $\\rightarrow$ [Piece](#Piece) $\\rightarrow$ [Pawn](#Pawn) $\\rightarrow$ [Knight](#Knight) $\\rightarrow$ [Rook](#Rook) $\\rightarrow$ [Bishop](#Bishop) $\\rightarrow$ [Queen](#Queen) $\\rightarrow$ `King` $\\rightarrow$ [Utilities](#Utilities) $\\rightarrow$ [ChessBoard](#ChessBoard)"
            ],
            "metadata": {}
        },
        {
            "cell_type": "code",
            "source": [
                "public class King : Piece",
                "\n{",
                "\n    public King (Colors c, Coordinate p)",
                "\n    {",
                "\n        Color = c;",
                "\n        Symbol = (c == Colors.White) ? \"K\":\"k\";",
                "\n        Position = p;",
                "\n    }",
                "\n",
                "\n    public bool IsLegalMove(string letter, int number)                                                                                                                          //(letter,number) ---> destination coordinates ",
                "\n    {",
                "\n        int x1 = Letters.ToNum(Position.Letter);                                                                                                                                //intilialise",
                "\n        int y1 = Position.Number;                                                                                                                                               //intilialise",
                "\n        int x2 = Letters.ToNum(letter);                                                                                                                                         //intilialise",
                "\n        int y2 = number;                                                                                                                                                        //intilialise",
                "\n        ",
                "\n        if (Math.Abs(y2 - y1) != 1 && Math.Abs(x2 - x1) != 1)",
                "\n            return false;",
                "\n        return true;",
                "\n    }",
                "\n}"
            ],
            "metadata": {
                "trusted": true
            },
            "execution_count": 16,
            "outputs": []
        },
        {
            "cell_type": "markdown",
            "source": [
                "<A id = \"Utilities\"></A>",
                "\n<A id = \"ChessBoard\"></A>",
                "\n### [DisplacementType](#DisplacementType) $\\rightarrow$ [Colors](#Colors) $\\rightarrow$ [Messages](#Messages) $\\rightarrow$ [Errors](#Errors) $\\rightarrow$ [Pieces](#Pieces) $\\rightarrow$ [Letters](#Letters) $\\rightarrow$ [Numbers](#Numbers) $\\rightarrow$ [ApplicationMessage](#ApplicationMessage) $\\rightarrow$ [Coordinate](#Coordinate) $\\rightarrow$ [Piece](#Piece) $\\rightarrow$ [Pawn](#Pawn) $\\rightarrow$ [Knight](#Knight) $\\rightarrow$ [Rook](#Rook) $\\rightarrow$ [Bishop](#Bishop) $\\rightarrow$ [Queen](#Queen) $\\rightarrow$ [King](#King) $\\rightarrow$ `Utilities` $\\rightarrow$ [ChessBoard](#ChessBoard)"
            ],
            "metadata": {}
        },
        {
            "cell_type": "code",
            "source": [
                "public class Utilities                                                                                                                                                          //stateless class",
                "\n{",
                "\n    public static bool IsLegalMove(Piece piece, string letter, int number)                                                                                                      //purpose of this class is to apply the IsLegalMove method to ",
                "\n     {                                                                                                                                                                          //a specific \"child\" p in {Pawn, Knight, ..., King} given the",
                "\n         if(piece.GetType().Name == Pieces.Pawn.ToString())                                                                                                                     //a parent Piece object, which resulted from Dict.TryGet(k,v)",
                "\n         {",
                "\n             Pawn pawn = new Pawn(piece.Color, new Coordinate(piece.Position.Letter, piece.Position.Number));",
                "\n             return pawn.IsLegalMove(letter, number);",
                "\n         }",
                "\n         if(piece.GetType().Name == Pieces.Rook.ToString())",
                "\n         {",
                "\n             Rook rook = new Rook(piece.Color, new Coordinate(piece.Position.Letter, piece.Position.Number));",
                "\n             return rook.IsLegalMove(letter, number);",
                "\n         }",
                "\n         if(piece.GetType().Name == Pieces.Knight.ToString())",
                "\n         {",
                "\n             Knight knight = new Knight(piece.Color, new Coordinate(piece.Position.Letter, piece.Position.Number));",
                "\n             return knight.IsLegalMove(letter, number);",
                "\n         }",
                "\n         if(piece.GetType().Name == Pieces.Bishop.ToString())",
                "\n         {",
                "\n             Bishop bishop = new Bishop(piece.Color, new Coordinate(piece.Position.Letter, piece.Position.Number));",
                "\n             return bishop.IsLegalMove(letter, number);",
                "\n         }",
                "\n         if(piece.GetType().Name == Pieces.Queen.ToString())",
                "\n         {",
                "\n             Queen queen = new Queen(piece.Color, new Coordinate(piece.Position.Letter, piece.Position.Number));",
                "\n             return queen.IsLegalMove(letter, number);",
                "\n         }",
                "\n         if(piece.GetType().Name == Pieces.King.ToString())",
                "\n         {",
                "\n             King king = new King(piece.Color, new Coordinate(piece.Position.Letter, piece.Position.Number));",
                "\n             return king.IsLegalMove(letter, number);",
                "\n         }",
                "\n         return false;",
                "\n     }",
                "\n}"
            ],
            "metadata": {
                "trusted": true
            },
            "execution_count": 17,
            "outputs": []
        },
        {
            "cell_type": "markdown",
            "source": [
                "<A id = \"ChessBoard\"></A>",
                "\n### [DisplacementType](#DisplacementType) $\\rightarrow$ [Colors](#Colors) $\\rightarrow$ [Messages](#Messages) $\\rightarrow$ [Errors](#Errors) $\\rightarrow$ [Pieces](#Pieces) $\\rightarrow$ [Letters](#Letters) $\\rightarrow$ [Numbers](#Numbers) $\\rightarrow$ [ApplicationMessage](#ApplicationMessage) $\\rightarrow$ [Coordinate](#Coordinate) $\\rightarrow$ [Piece](#Piece) $\\rightarrow$ [Pawn](#Pawn) $\\rightarrow$ [Knight](#Knight) $\\rightarrow$ [Rook](#Rook) $\\rightarrow$ [Bishop](#Bishop) $\\rightarrow$ [Queen](#Queen) $\\rightarrow$ [King](#King) $\\rightarrow$ [Utilities](#Utilities) $\\rightarrow$ `ChessBoard`"
            ],
            "metadata": {}
        },
        {
            "cell_type": "code",
            "source": [
                "public class ChessBoard                                                                                                                                                         //illustrates a chess Board",
                "\n{",
                "\n    public static Dictionary<Coordinate, Piece> PieceByCoordinate {get; private set;} = new Dictionary<Coordinate, Piece>();                                                    //ValueByPiece",
                "\n    ",
                "\n    public static bool IsPieceInPath(int x1, int y1, int x2, int y2, DisplacementType displacementType)                                                                         //a method useful for *Rook* and *Bishop* pieces",
                "\n    {",
                "\n        int jump = (y2==y1) ? Math.Abs(x1 - x2) : Math.Abs(y1 - y2);",
                "\n",
                "\n        for (int step = 1; step < jump; step++)",
                "\n        {",
                "\n            switch (displacementType)",
                "\n            {",
                "\n                case DisplacementType.East:",
                "\n                    if (PieceByCoordinate.ContainsKey(new Coordinate(Letters.ToLet(x1 + step), y1)))                                                                            //rook movement",
                "\n                        return true;                                                                                                                                            //...",
                "\n                    break;                                                                                                                                                      ",
                "\n                case DisplacementType.West:",
                "\n                    if (PieceByCoordinate.ContainsKey(new Coordinate(Letters.ToLet(x1 - step), y1)))",
                "\n                        return true;",
                "\n                    break;",
                "\n                case DisplacementType.North:",
                "\n                    if (PieceByCoordinate.ContainsKey(new Coordinate(Letters.ToLet(x1), y1 - step)))",
                "\n                        return true;",
                "\n                    break;",
                "\n                case DisplacementType.South:",
                "\n                    if (PieceByCoordinate.ContainsKey(new Coordinate(Letters.ToLet(x1), y1 + step)))       ",
                "\n                        return true;",
                "\n                    break;                                                                                                                                                      //rook movement",
                "\n                case DisplacementType.SouthEast:                                                                                                                                //bishop movement",
                "\n                    if (PieceByCoordinate.ContainsKey(new Coordinate(Letters.ToLet(x1 + step), y1 + step)))                                                                     //... ",
                "\n                        return true;                                                                                                                                            ",
                "\n                    break;",
                "\n                case DisplacementType.NorthWest:",
                "\n                    if (PieceByCoordinate.ContainsKey(new Coordinate(Letters.ToLet(x1 - step), y1 - step)))",
                "\n                        return true;",
                "\n                    break;",
                "\n                case DisplacementType.SouthWest:",
                "\n                    if (PieceByCoordinate.ContainsKey(new Coordinate(Letters.ToLet(x1 - step), y1 + step)))",
                "\n                        return true;",
                "\n                    break;",
                "\n                case DisplacementType.NorthEast:",
                "\n                    if (PieceByCoordinate.ContainsKey(new Coordinate(Letters.ToLet(x1 + step), y1 - step)))",
                "\n                        return true;",
                "\n                    break;                                                                                                                                                      //bishop movement",
                "\n            }",
                "\n        }",
                "\n        return false;",
                "\n    }",
                "\n    ",
                "\n    public static bool IsLegalMove(Piece piece, string letter, int number) //ToDo --> Debug",
                "\n    {",
                "\n        Piece pieceAtDestination = new Piece();",
                "\n        ",
                "\n        int x1 = Letters.ToNum(piece.Position.Letter);                                                                                                                          //introduce convenient notation for validation",
                "\n        int y1 = piece.Position.Number;                                                                                                                                         // int (x1,y1) ----> origin piece coords",
                "\n        int x2 = Letters.ToNum(letter);                                                                                                                                         // int (x2,y2) ----> target piece coords",
                "\n        int y2 = number;",
                "\n        ",
                "\n        if( PieceByCoordinate.TryGetValue(new Coordinate(letter,number),out pieceAtDestination) )",
                "\n        {",
                "\n            if (pieceAtDestination.Color == piece.Color)",
                "\n                return false;",
                "\n            ",
                "\n            if (piece.GetType().Name == Pieces.Pawn.ToString())",
                "\n            {",
                "\n                if (IsPieceInPath(x1, y1, x2, y2, y2 > y1 ? DisplacementType.North : DisplacementType.South))                                                                   //don't allow for jumps over other pawns ",
                "\n                    return false;                                                                                                                                               //allow for white piece forward diagonal",
                "\n                if (piece.Color == Colors.White)                                                                                                                                //movement for increasing y",
                "\n                    return (y2-y1 == 1 && Math.Abs(x1-x2) == 1)? true: false;                                                                                                   //allow for black piece forward diagonal",
                "\n                else                                                                                                                                                            //movement for decreasing y ",
                "\n                    return (y1-y2 == 1 && Math.Abs(x1-x2) == 1)? true: false;",
                "\n            }                                                           ",
                "\n        }",
                "\n                                                                                                   ",
                "\n        if (piece.GetType().Name == Pieces.Rook.ToString()) ",
                "\n        {",
                "\n            if (y2 == y1)",
                "\n                if (IsPieceInPath(x1, y1, x2, y2, x2 > x1 ? DisplacementType.East : DisplacementType.West))",
                "\n                    return false;",
                "\n            if (x2 == x1)",
                "\n                if (IsPieceInPath(x1, y1, x2, y2, y2 > y1 ? DisplacementType.South : DisplacementType.North))",
                "\n                    return false;",
                "\n        }",
                "\n        if (piece.GetType().Name == Pieces.Bishop.ToString())",
                "\n        {",
                "\n            if (y2 > y1)",
                "\n                if (IsPieceInPath(x1, y1, x2, y2, x2 > x1 ? DisplacementType.SouthEast : DisplacementType.SouthWest))",
                "\n                    return false;",
                "\n            if (y2 < y1)",
                "\n                if (IsPieceInPath(x1, y1, x2, y2, x2 > x1 ? DisplacementType.NorthEast : DisplacementType.NorthWest))",
                "\n                    return false;",
                "\n        }",
                "\n        if (piece.GetType().Name == Pieces.Queen.ToString())",
                "\n        {",
                "\n            if (x2 == x1)",
                "\n                if (IsPieceInPath(x1, y1, x2, y2, y2 > y1 ? DisplacementType.South : DisplacementType.North))",
                "\n                    return false;",
                "\n            if (y2 == y1)",
                "\n                if (IsPieceInPath(x1, y1, x2, y2, x2 > x1 ? DisplacementType.East : DisplacementType.West))",
                "\n                    return false;",
                "\n            if (y2 > y1)",
                "\n                if (IsPieceInPath(x1, y1, x2, y2, x2 > x1 ? DisplacementType.SouthEast : DisplacementType.SouthWest))",
                "\n                    return false;",
                "\n            if (y2 < y1)",
                "\n                if (IsPieceInPath(x1, y1, x2, y2, x2 > x1 ? DisplacementType.NorthEast : DisplacementType.NorthWest))",
                "\n                    return false; ",
                "\n        }",
                "\n        if (piece.GetType().Name == Pieces.King.ToString())",
                "\n            return true;",
                "\n        ",
                "\n        return true;      ",
                "\n    }",
                "\n    ",
                "\n    public void NextMove(bool isWhitesTurn, string origin_input, string destination_input)",
                "\n    {",
                "\n        Coordinate origin = new Coordinate(origin_input[0].ToString(), Numbers.ToNum(origin_input[1].ToString()));                                                              // (1) create origin coordinate",
                "\n        if (origin.IsValid())",
                "\n            ApplicationMessage.Get(Messages.ValidForm);",
                "\n        else",
                "\n            ApplicationMessage.Log(Errors.InvalidInput);                                                                                                                        // (2) IsValid?",
                "\n        ",
                "\n        var piece = new Piece();                                                                                                                                              ",
                "\n",
                "\n        if (ChessBoard.PieceByCoordinate.TryGetValue(origin,out piece))                                                                                                         // (3) Check for collisions  ",
                "\n            if ((isWhitesTurn && piece.Color == Colors.White) || (!isWhitesTurn && piece.Color == Colors.Black))",
                "\n                ApplicationMessage.Get(Messages.ValidColor);                                                                                                                    // (4) Check for color violations",
                "\n            else ",
                "\n                ApplicationMessage.Log(Errors.WrongColor, isWhitesTurn ? Colors.White : Colors.Black);",
                "\n        else",
                "\n            ApplicationMessage.Log(Errors.EmptySelection);",
                "\n",
                "\n        Coordinate destination = new Coordinate(destination_input[0].ToString(), Numbers.ToNum(destination_input[1].ToString()));                                               // (5) Create destination coordinate        ",
                "\n        if (destination.IsValid())",
                "\n            ApplicationMessage.Get(Messages.ValidForm);",
                "\n        else ",
                "\n            ApplicationMessage.Log(Errors.InvalidInput);                                                                                                                        // (6) IsValid (Coordinate POV)?",
                "\n",
                "\n        if (Utilities.IsLegalMove(piece, destination.Letter, destination.Number))",
                "\n            ApplicationMessage.Get(Messages.LegalMove);",
                "\n        else",
                "\n            ApplicationMessage.Log(Errors.IllegalMove);                                                                                                                         // (7) IsLegalMove (Piece POV)?",
                "\n",
                "\n        if (ChessBoard.IsLegalMove(piece,destination.Letter, destination.Number))",
                "\n            ApplicationMessage.Get(Messages.LegalMove);",
                "\n        else ",
                "\n            ApplicationMessage.Log(Errors.IllegalMove);                                                                                                                         // (8) IsLegalMove (Board POV)?",
                "\n",
                "\n        ChessBoard.PieceByCoordinate.Remove(origin);                                                                                                                            // (9) Execute the move and update the board ",
                "\n        ChessBoard.PieceByCoordinate.Remove(destination);",
                "\n        piece.Position = destination;",
                "\n        ChessBoard.PieceByCoordinate.Add(destination, piece);",
                "\n    }",
                "\n    ",
                "\n    public void InitialiseBoard()                                                                                                                                               //responsible for initializing the chess Board with every piece in position",
                "\n    {",
                "\n        for (int number = 1; number <=8; number++)",
                "\n        {",
                "\n            foreach (System.Reflection.FieldInfo letter in typeof(Letters).GetFields())",
                "\n            {",
                "\n                if (number == 1 || number == 8)",
                "\n                    if ((string) letter.GetValue(null) == \"A\" ||(string) letter.GetValue(null) == \"H\")",
                "\n                    {",
                "\n                        Coordinate coord = new Coordinate((string) letter.GetValue(null) == \"A\" ? \"A\":\"H\",number);",
                "\n                        Rook rook = new Rook(number == 1 ? Colors.White : Colors.Black, coord);",
                "\n                        ChessBoard.PieceByCoordinate.Add(coord, rook);",
                "\n                    }",
                "\n                    else if ((string) letter.GetValue(null) == \"B\" ||(string) letter.GetValue(null) == \"G\")",
                "\n                    {",
                "\n                        Coordinate coord = new Coordinate((string) letter.GetValue(null) == \"B\" ? \"B\":\"G\",number);",
                "\n                        Knight knight = new Knight(number == 1 ? Colors.White : Colors.Black, coord);",
                "\n                        ChessBoard.PieceByCoordinate.Add(coord, knight);",
                "\n                    }",
                "\n                    else if ((string) letter.GetValue(null) == \"C\" ||(string) letter.GetValue(null) == \"F\")",
                "\n                    {",
                "\n                        Coordinate coord = new Coordinate((string) letter.GetValue(null) == \"C\" ? \"C\":\"F\",number);",
                "\n                        Bishop bishop = new Bishop(number == 1 ? Colors.White : Colors.Black, coord);",
                "\n                        ChessBoard.PieceByCoordinate.Add(coord, bishop);   ",
                "\n                    }",
                "\n                    else if ((string) letter.GetValue(null) == \"D\")",
                "\n                    {",
                "\n                        Coordinate coord = new Coordinate((string) letter.GetValue(null), number);",
                "\n                        Queen queen = new Queen(number == 1 ? Colors.White : Colors.Black, coord);",
                "\n                        ChessBoard.PieceByCoordinate.Add(coord, queen);",
                "\n                    }",
                "\n                    else",
                "\n                    {",
                "\n                        Coordinate coord = new Coordinate((string) letter.GetValue(null), number);",
                "\n                        King king = new King(number == 1 ? Colors.White : Colors.Black, coord);",
                "\n                        ChessBoard.PieceByCoordinate.Add(coord, king);",
                "\n                    }",
                "\n                else if (number == 2 || number == 7)",
                "\n                    {",
                "\n                        Coordinate coord = new Coordinate((string) letter.GetValue(null), number);",
                "\n                        Pawn pawn = new Pawn(number == 2 ? Colors.White : Colors.Black, coord);",
                "\n                        ChessBoard.PieceByCoordinate.Add(coord, pawn);",
                "\n                    }",
                "\n            }",
                "\n        }",
                "\n    }",
                "\n    ",
                "\n    public string MakeStringBoard()                                                                                                                                             //stringify board in one long string",
                "\n    {",
                "\n        string rows = ApplicationMessage.Get(Messages.ColumnsTop);",
                "\n        for (int number = 1; number <= 8; number++)",
                "\n        {",
                "\n            string row = \"\";",
                "\n            foreach (System.Reflection.FieldInfo letter in typeof(Letters).GetFields())",
                "\n            {",
                "\n                var coordinate = new Coordinate((string) letter.GetValue(null),number);",
                "\n                var piece = new Piece();",
                "\n                if ((string) letter.GetValue(null) == \"A\")",
                "\n                    row+=ApplicationMessage.Get(Messages.RowsLeft,0,number);",
                "\n",
                "\n                if (ChessBoard.PieceByCoordinate.TryGetValue(coordinate, out piece))",
                "\n                    row+=ApplicationMessage.Get(Messages.PieceInCell,0,0, piece.Symbol);",
                "\n                else",
                "\n                    row+=ApplicationMessage.Get(Messages.EmptyCell);",
                "\n",
                "\n                if ((string) letter.GetValue(null) == \"H\")",
                "\n                    row+=ApplicationMessage.Get(Messages.RowsRight,0,number);",
                "\n            }",
                "\n            rows += \"\\n\"+row;",
                "\n        }",
                "\n        rows += \"\\n\"+ ApplicationMessage.Get(Messages.ColumnsBot);",
                "\n        return rows;",
                "\n    }",
                "\n}"
            ],
            "metadata": {
                "trusted": true
            },
            "execution_count": 18,
            "outputs": []
        },
        {
            "cell_type": "markdown",
            "source": [
                "<A id = \"Testing\"></A>",
                "\n### TESTING "
            ],
            "metadata": {}
        },
        {
            "cell_type": "code",
            "source": [
                "ChessBoard cb = new ChessBoard();",
                "\ncb.InitialiseBoard();",
                "\nbool isWhitesTurn = true;",
                "\ncb.MakeStringBoard()"
            ],
            "metadata": {
                "tags": [],
                "trusted": true
            },
            "execution_count": 19,
            "outputs": [
                {
                    "execution_count": 19,
                    "output_type": "execute_result",
                    "data": {
                        "text/plain": "     A   B   C   D   E   F   G   H\n    ___ ___ ___ ___ ___ ___ ___ ___\n1  |_R_|_H_|_B_|_Q_|_K_|_B_|_H_|_R_|  1\n2  |_P_|_P_|_P_|_P_|_P_|_P_|_P_|_P_|  2\n3  |___|___|___|___|___|___|___|___|  3\n4  |___|___|___|___|___|___|___|___|  4\n5  |___|___|___|___|___|___|___|___|  5\n6  |___|___|___|___|___|___|___|___|  6\n7  |_p_|_p_|_p_|_p_|_p_|_p_|_p_|_p_|  7\n8  |_r_|_h_|_b_|_q_|_k_|_b_|_h_|_r_|  8\n\n     A   B   C   D   E   F   G   H"
                    },
                    "metadata": {}
                }
            ]
        },
        {
            "cell_type": "code",
            "source": [
                "cb.NextMove(isWhitesTurn,\"A1\",\"A3\")"
            ],
            "metadata": {
                "trusted": true
            },
            "execution_count": 20,
            "outputs": [
                {
                    "ename": "Unhandled exception",
                    "evalue": "Illegal operation! Please try again.\n__________________________________________",
                    "traceback": [
                        "Illegal operation! Please try again.\n__________________________________________"
                    ],
                    "output_type": "error"
                }
            ]
        },
        {
            "cell_type": "code",
            "source": [
                "isWhitesTurn = !isWhitesTurn;",
                "\ncb.MakeStringBoard()"
            ],
            "metadata": {
                "trusted": true
            },
            "execution_count": 21,
            "outputs": [
                {
                    "execution_count": 21,
                    "output_type": "execute_result",
                    "data": {
                        "text/plain": "     A   B   C   D   E   F   G   H\n    ___ ___ ___ ___ ___ ___ ___ ___\n1  |_R_|_H_|_B_|_Q_|_K_|_B_|_H_|_R_|  1\n2  |_P_|_P_|_P_|_P_|_P_|_P_|_P_|_P_|  2\n3  |___|___|___|___|___|___|___|___|  3\n4  |___|___|___|___|___|___|___|___|  4\n5  |___|___|___|___|___|___|___|___|  5\n6  |___|___|___|___|___|___|___|___|  6\n7  |_p_|_p_|_p_|_p_|_p_|_p_|_p_|_p_|  7\n8  |_r_|_h_|_b_|_q_|_k_|_b_|_h_|_r_|  8\n\n     A   B   C   D   E   F   G   H"
                    },
                    "metadata": {}
                }
            ]
        },
        {
            "cell_type": "code",
            "source": "",
            "metadata": {},
            "execution_count": null,
            "outputs": []
        }
    ]
}